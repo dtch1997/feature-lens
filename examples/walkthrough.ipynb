{
 "cells": [
  {
   "cell_type": "markdown",
   "metadata": {},
   "source": [
    "# Setup"
   ]
  },
  {
   "cell_type": "code",
   "execution_count": 1,
   "metadata": {},
   "outputs": [
    {
     "name": "stderr",
     "output_type": "stream",
     "text": [
      "/home/daniel/ml_workspace/feature-lens/.venv/lib/python3.11/site-packages/tqdm/auto.py:21: TqdmWarning: IProgress not found. Please update jupyter and ipywidgets. See https://ipywidgets.readthedocs.io/en/stable/user_install.html\n",
      "  from .autonotebook import tqdm as notebook_tqdm\n"
     ]
    }
   ],
   "source": [
    "from feature_lens.core.types import *\n",
    "from feature_lens.utils.device_manager import DeviceManager\n",
    "from feature_lens.utils.viz import *\n",
    "from feature_lens.utils.data_utils import *\n",
    "from feature_lens.utils.load_pretrained import load_model, load_sae\n",
    "from feature_lens.data.make_ioi import make_ioi\n",
    "from feature_lens.data.string_handler import as_dataframe\n",
    "\n",
    "DeviceManager.instance().set_device(\"cuda\")\n"
   ]
  },
  {
   "cell_type": "code",
   "execution_count": 2,
   "metadata": {},
   "outputs": [
    {
     "name": "stdout",
     "output_type": "stream",
     "text": [
      "Loaded pretrained model gpt2-small into HookedTransformer\n"
     ]
    },
    {
     "data": {
      "text/html": [
       "<div>\n",
       "<style scoped>\n",
       "    .dataframe tbody tr th:only-of-type {\n",
       "        vertical-align: middle;\n",
       "    }\n",
       "\n",
       "    .dataframe tbody tr th {\n",
       "        vertical-align: top;\n",
       "    }\n",
       "\n",
       "    .dataframe thead th {\n",
       "        text-align: right;\n",
       "    }\n",
       "</style>\n",
       "<table border=\"1\" class=\"dataframe\">\n",
       "  <thead>\n",
       "    <tr style=\"text-align: right;\">\n",
       "      <th></th>\n",
       "      <th>clean_prompt</th>\n",
       "      <th>corrupt_prompt</th>\n",
       "      <th>answer</th>\n",
       "      <th>wrong_answer</th>\n",
       "    </tr>\n",
       "  </thead>\n",
       "  <tbody>\n",
       "    <tr>\n",
       "      <th>0</th>\n",
       "      <td>When John and Mary went to the shops, Mary gave the bag to</td>\n",
       "      <td>When John and Mary went to the shops, John gave the bag to</td>\n",
       "      <td>John</td>\n",
       "      <td>Mary</td>\n",
       "    </tr>\n",
       "    <tr>\n",
       "      <th>1</th>\n",
       "      <td>When John and Mary went to the shops, John gave the bag to</td>\n",
       "      <td>When John and Mary went to the shops, Mary gave the bag to</td>\n",
       "      <td>Mary</td>\n",
       "      <td>John</td>\n",
       "    </tr>\n",
       "    <tr>\n",
       "      <th>2</th>\n",
       "      <td>When Tom and James went to the park, James gave the ball to</td>\n",
       "      <td>When Tom and James went to the park, Tom gave the ball to</td>\n",
       "      <td>Tom</td>\n",
       "      <td>James</td>\n",
       "    </tr>\n",
       "    <tr>\n",
       "      <th>3</th>\n",
       "      <td>When Tom and James went to the park, Tom gave the ball to</td>\n",
       "      <td>When Tom and James went to the park, James gave the ball to</td>\n",
       "      <td>James</td>\n",
       "      <td>Tom</td>\n",
       "    </tr>\n",
       "    <tr>\n",
       "      <th>4</th>\n",
       "      <td>When Dan and Sid went to the shops, Sid gave an apple to</td>\n",
       "      <td>When Dan and Sid went to the shops, Dan gave an apple to</td>\n",
       "      <td>Dan</td>\n",
       "      <td>Sid</td>\n",
       "    </tr>\n",
       "    <tr>\n",
       "      <th>5</th>\n",
       "      <td>When Dan and Sid went to the shops, Dan gave an apple to</td>\n",
       "      <td>When Dan and Sid went to the shops, Sid gave an apple to</td>\n",
       "      <td>Sid</td>\n",
       "      <td>Dan</td>\n",
       "    </tr>\n",
       "    <tr>\n",
       "      <th>6</th>\n",
       "      <td>After Martin and Amy went to the park, Amy gave a drink to</td>\n",
       "      <td>After Martin and Amy went to the park, Martin gave a drink to</td>\n",
       "      <td>Martin</td>\n",
       "      <td>Amy</td>\n",
       "    </tr>\n",
       "    <tr>\n",
       "      <th>7</th>\n",
       "      <td>After Martin and Amy went to the park, Martin gave a drink to</td>\n",
       "      <td>After Martin and Amy went to the park, Amy gave a drink to</td>\n",
       "      <td>Amy</td>\n",
       "      <td>Martin</td>\n",
       "    </tr>\n",
       "  </tbody>\n",
       "</table>\n",
       "</div>"
      ],
      "text/plain": [
       "                                                    clean_prompt  \\\n",
       "0     When John and Mary went to the shops, Mary gave the bag to   \n",
       "1     When John and Mary went to the shops, John gave the bag to   \n",
       "2    When Tom and James went to the park, James gave the ball to   \n",
       "3      When Tom and James went to the park, Tom gave the ball to   \n",
       "4       When Dan and Sid went to the shops, Sid gave an apple to   \n",
       "5       When Dan and Sid went to the shops, Dan gave an apple to   \n",
       "6     After Martin and Amy went to the park, Amy gave a drink to   \n",
       "7  After Martin and Amy went to the park, Martin gave a drink to   \n",
       "\n",
       "                                                  corrupt_prompt   answer  \\\n",
       "0     When John and Mary went to the shops, John gave the bag to     John   \n",
       "1     When John and Mary went to the shops, Mary gave the bag to     Mary   \n",
       "2      When Tom and James went to the park, Tom gave the ball to      Tom   \n",
       "3    When Tom and James went to the park, James gave the ball to    James   \n",
       "4       When Dan and Sid went to the shops, Dan gave an apple to      Dan   \n",
       "5       When Dan and Sid went to the shops, Sid gave an apple to      Sid   \n",
       "6  After Martin and Amy went to the park, Martin gave a drink to   Martin   \n",
       "7     After Martin and Amy went to the park, Amy gave a drink to      Amy   \n",
       "\n",
       "  wrong_answer  \n",
       "0         Mary  \n",
       "1         John  \n",
       "2        James  \n",
       "3          Tom  \n",
       "4          Sid  \n",
       "5          Dan  \n",
       "6          Amy  \n",
       "7       Martin  "
      ]
     },
     "execution_count": 2,
     "metadata": {},
     "output_type": "execute_result"
    }
   ],
   "source": [
    "import pandas as pd \n",
    "pd.set_option('display.max_colwidth', None)\n",
    "\n",
    "model = load_model(\"gpt2-small\")\n",
    "ioi_data = make_ioi(model)\n",
    "df = as_dataframe(ioi_data)\n",
    "df"
   ]
  },
  {
   "cell_type": "code",
   "execution_count": 3,
   "metadata": {},
   "outputs": [],
   "source": [
    "sae_up = load_sae(release = \"gpt2-small-res-jb\", sae_id = \"blocks.8.hook_resid_pre\")\n",
    "sae_target = load_sae(release = \"gpt2-small-hook-z-kk\", sae_id=\"blocks.8.hook_z\")\n",
    "sae_down = load_sae(release = \"gpt2-small-res-jb\", sae_id = \"blocks.9.hook_resid_pre\")\n",
    "sae_up_hook_point = \"blocks.8.hook_resid_pre.hook_sae_acts_post\"\n",
    "sae_target_hook_point = \"blocks.8.attn.hook_z.hook_sae_acts_post\"\n",
    "sae_down_hook_point = \"blocks.9.hook_resid_pre.hook_sae_acts_post\"\n",
    "\n",
    "saes = [sae_up, sae_target, sae_down]"
   ]
  },
  {
   "cell_type": "code",
   "execution_count": 4,
   "metadata": {},
   "outputs": [],
   "source": [
    "SAE_TARGET_FEATURE = 16513"
   ]
  },
  {
   "cell_type": "code",
   "execution_count": 5,
   "metadata": {},
   "outputs": [],
   "source": [
    "from feature_lens.cache import get_sae_cache\n",
    "\n",
    "with model.saes(saes):\n",
    "    clean_cache = get_sae_cache(model, ioi_data, input=\"clean\")\n",
    "    corrupt_cache = get_sae_cache(model, ioi_data, input=\"corrupt\")"
   ]
  },
  {
   "cell_type": "markdown",
   "metadata": {},
   "source": [
    "# Investigating target feature"
   ]
  },
  {
   "cell_type": "code",
   "execution_count": 6,
   "metadata": {},
   "outputs": [
    {
     "name": "stdout",
     "output_type": "stream",
     "text": [
      "When John and Mary went to the shops, Mary gave the bag to\n",
      "When John and Mary went to the shops, John gave the bag to\n",
      "When Tom and James went to the park, James gave the ball to\n",
      "When Tom and James went to the park, Tom gave the ball to\n",
      "When Dan and Sid went to the shops, Sid gave an apple to\n",
      "When Dan and Sid went to the shops, Dan gave an apple to\n",
      "After Martin and Amy went to the park, Amy gave a drink to\n",
      "After Martin and Amy went to the park, Martin gave a drink to\n"
     ]
    },
    {
     "data": {
      "application/vnd.plotly.v1+json": {
       "config": {
        "plotlyServerURL": "https://plot.ly"
       },
       "data": [
        {
         "alignmentgroup": "True",
         "hovertemplate": "x=%{x}<br>index=%{y}<extra></extra>",
         "legendgroup": "",
         "marker": {
          "color": "#636efa",
          "pattern": {
           "shape": ""
          }
         },
         "name": "",
         "offsetgroup": "",
         "orientation": "h",
         "showlegend": false,
         "textposition": "auto",
         "type": "bar",
         "x": [
          0,
          3.5156178,
          0,
          5.166603,
          0,
          5.580324,
          0,
          5.385331
         ],
         "xaxis": "x",
         "y": [
          0,
          1,
          2,
          3,
          4,
          5,
          6,
          7
         ],
         "yaxis": "y"
        }
       ],
       "layout": {
        "barmode": "relative",
        "legend": {
         "tracegroupgap": 0
        },
        "margin": {
         "t": 60
        },
        "template": {
         "data": {
          "bar": [
           {
            "error_x": {
             "color": "#2a3f5f"
            },
            "error_y": {
             "color": "#2a3f5f"
            },
            "marker": {
             "line": {
              "color": "#E5ECF6",
              "width": 0.5
             },
             "pattern": {
              "fillmode": "overlay",
              "size": 10,
              "solidity": 0.2
             }
            },
            "type": "bar"
           }
          ],
          "barpolar": [
           {
            "marker": {
             "line": {
              "color": "#E5ECF6",
              "width": 0.5
             },
             "pattern": {
              "fillmode": "overlay",
              "size": 10,
              "solidity": 0.2
             }
            },
            "type": "barpolar"
           }
          ],
          "carpet": [
           {
            "aaxis": {
             "endlinecolor": "#2a3f5f",
             "gridcolor": "white",
             "linecolor": "white",
             "minorgridcolor": "white",
             "startlinecolor": "#2a3f5f"
            },
            "baxis": {
             "endlinecolor": "#2a3f5f",
             "gridcolor": "white",
             "linecolor": "white",
             "minorgridcolor": "white",
             "startlinecolor": "#2a3f5f"
            },
            "type": "carpet"
           }
          ],
          "choropleth": [
           {
            "colorbar": {
             "outlinewidth": 0,
             "ticks": ""
            },
            "type": "choropleth"
           }
          ],
          "contour": [
           {
            "colorbar": {
             "outlinewidth": 0,
             "ticks": ""
            },
            "colorscale": [
             [
              0,
              "#0d0887"
             ],
             [
              0.1111111111111111,
              "#46039f"
             ],
             [
              0.2222222222222222,
              "#7201a8"
             ],
             [
              0.3333333333333333,
              "#9c179e"
             ],
             [
              0.4444444444444444,
              "#bd3786"
             ],
             [
              0.5555555555555556,
              "#d8576b"
             ],
             [
              0.6666666666666666,
              "#ed7953"
             ],
             [
              0.7777777777777778,
              "#fb9f3a"
             ],
             [
              0.8888888888888888,
              "#fdca26"
             ],
             [
              1,
              "#f0f921"
             ]
            ],
            "type": "contour"
           }
          ],
          "contourcarpet": [
           {
            "colorbar": {
             "outlinewidth": 0,
             "ticks": ""
            },
            "type": "contourcarpet"
           }
          ],
          "heatmap": [
           {
            "colorbar": {
             "outlinewidth": 0,
             "ticks": ""
            },
            "colorscale": [
             [
              0,
              "#0d0887"
             ],
             [
              0.1111111111111111,
              "#46039f"
             ],
             [
              0.2222222222222222,
              "#7201a8"
             ],
             [
              0.3333333333333333,
              "#9c179e"
             ],
             [
              0.4444444444444444,
              "#bd3786"
             ],
             [
              0.5555555555555556,
              "#d8576b"
             ],
             [
              0.6666666666666666,
              "#ed7953"
             ],
             [
              0.7777777777777778,
              "#fb9f3a"
             ],
             [
              0.8888888888888888,
              "#fdca26"
             ],
             [
              1,
              "#f0f921"
             ]
            ],
            "type": "heatmap"
           }
          ],
          "heatmapgl": [
           {
            "colorbar": {
             "outlinewidth": 0,
             "ticks": ""
            },
            "colorscale": [
             [
              0,
              "#0d0887"
             ],
             [
              0.1111111111111111,
              "#46039f"
             ],
             [
              0.2222222222222222,
              "#7201a8"
             ],
             [
              0.3333333333333333,
              "#9c179e"
             ],
             [
              0.4444444444444444,
              "#bd3786"
             ],
             [
              0.5555555555555556,
              "#d8576b"
             ],
             [
              0.6666666666666666,
              "#ed7953"
             ],
             [
              0.7777777777777778,
              "#fb9f3a"
             ],
             [
              0.8888888888888888,
              "#fdca26"
             ],
             [
              1,
              "#f0f921"
             ]
            ],
            "type": "heatmapgl"
           }
          ],
          "histogram": [
           {
            "marker": {
             "pattern": {
              "fillmode": "overlay",
              "size": 10,
              "solidity": 0.2
             }
            },
            "type": "histogram"
           }
          ],
          "histogram2d": [
           {
            "colorbar": {
             "outlinewidth": 0,
             "ticks": ""
            },
            "colorscale": [
             [
              0,
              "#0d0887"
             ],
             [
              0.1111111111111111,
              "#46039f"
             ],
             [
              0.2222222222222222,
              "#7201a8"
             ],
             [
              0.3333333333333333,
              "#9c179e"
             ],
             [
              0.4444444444444444,
              "#bd3786"
             ],
             [
              0.5555555555555556,
              "#d8576b"
             ],
             [
              0.6666666666666666,
              "#ed7953"
             ],
             [
              0.7777777777777778,
              "#fb9f3a"
             ],
             [
              0.8888888888888888,
              "#fdca26"
             ],
             [
              1,
              "#f0f921"
             ]
            ],
            "type": "histogram2d"
           }
          ],
          "histogram2dcontour": [
           {
            "colorbar": {
             "outlinewidth": 0,
             "ticks": ""
            },
            "colorscale": [
             [
              0,
              "#0d0887"
             ],
             [
              0.1111111111111111,
              "#46039f"
             ],
             [
              0.2222222222222222,
              "#7201a8"
             ],
             [
              0.3333333333333333,
              "#9c179e"
             ],
             [
              0.4444444444444444,
              "#bd3786"
             ],
             [
              0.5555555555555556,
              "#d8576b"
             ],
             [
              0.6666666666666666,
              "#ed7953"
             ],
             [
              0.7777777777777778,
              "#fb9f3a"
             ],
             [
              0.8888888888888888,
              "#fdca26"
             ],
             [
              1,
              "#f0f921"
             ]
            ],
            "type": "histogram2dcontour"
           }
          ],
          "mesh3d": [
           {
            "colorbar": {
             "outlinewidth": 0,
             "ticks": ""
            },
            "type": "mesh3d"
           }
          ],
          "parcoords": [
           {
            "line": {
             "colorbar": {
              "outlinewidth": 0,
              "ticks": ""
             }
            },
            "type": "parcoords"
           }
          ],
          "pie": [
           {
            "automargin": true,
            "type": "pie"
           }
          ],
          "scatter": [
           {
            "fillpattern": {
             "fillmode": "overlay",
             "size": 10,
             "solidity": 0.2
            },
            "type": "scatter"
           }
          ],
          "scatter3d": [
           {
            "line": {
             "colorbar": {
              "outlinewidth": 0,
              "ticks": ""
             }
            },
            "marker": {
             "colorbar": {
              "outlinewidth": 0,
              "ticks": ""
             }
            },
            "type": "scatter3d"
           }
          ],
          "scattercarpet": [
           {
            "marker": {
             "colorbar": {
              "outlinewidth": 0,
              "ticks": ""
             }
            },
            "type": "scattercarpet"
           }
          ],
          "scattergeo": [
           {
            "marker": {
             "colorbar": {
              "outlinewidth": 0,
              "ticks": ""
             }
            },
            "type": "scattergeo"
           }
          ],
          "scattergl": [
           {
            "marker": {
             "colorbar": {
              "outlinewidth": 0,
              "ticks": ""
             }
            },
            "type": "scattergl"
           }
          ],
          "scattermapbox": [
           {
            "marker": {
             "colorbar": {
              "outlinewidth": 0,
              "ticks": ""
             }
            },
            "type": "scattermapbox"
           }
          ],
          "scatterpolar": [
           {
            "marker": {
             "colorbar": {
              "outlinewidth": 0,
              "ticks": ""
             }
            },
            "type": "scatterpolar"
           }
          ],
          "scatterpolargl": [
           {
            "marker": {
             "colorbar": {
              "outlinewidth": 0,
              "ticks": ""
             }
            },
            "type": "scatterpolargl"
           }
          ],
          "scatterternary": [
           {
            "marker": {
             "colorbar": {
              "outlinewidth": 0,
              "ticks": ""
             }
            },
            "type": "scatterternary"
           }
          ],
          "surface": [
           {
            "colorbar": {
             "outlinewidth": 0,
             "ticks": ""
            },
            "colorscale": [
             [
              0,
              "#0d0887"
             ],
             [
              0.1111111111111111,
              "#46039f"
             ],
             [
              0.2222222222222222,
              "#7201a8"
             ],
             [
              0.3333333333333333,
              "#9c179e"
             ],
             [
              0.4444444444444444,
              "#bd3786"
             ],
             [
              0.5555555555555556,
              "#d8576b"
             ],
             [
              0.6666666666666666,
              "#ed7953"
             ],
             [
              0.7777777777777778,
              "#fb9f3a"
             ],
             [
              0.8888888888888888,
              "#fdca26"
             ],
             [
              1,
              "#f0f921"
             ]
            ],
            "type": "surface"
           }
          ],
          "table": [
           {
            "cells": {
             "fill": {
              "color": "#EBF0F8"
             },
             "line": {
              "color": "white"
             }
            },
            "header": {
             "fill": {
              "color": "#C8D4E3"
             },
             "line": {
              "color": "white"
             }
            },
            "type": "table"
           }
          ]
         },
         "layout": {
          "annotationdefaults": {
           "arrowcolor": "#2a3f5f",
           "arrowhead": 0,
           "arrowwidth": 1
          },
          "autotypenumbers": "strict",
          "coloraxis": {
           "colorbar": {
            "outlinewidth": 0,
            "ticks": ""
           }
          },
          "colorscale": {
           "diverging": [
            [
             0,
             "#8e0152"
            ],
            [
             0.1,
             "#c51b7d"
            ],
            [
             0.2,
             "#de77ae"
            ],
            [
             0.3,
             "#f1b6da"
            ],
            [
             0.4,
             "#fde0ef"
            ],
            [
             0.5,
             "#f7f7f7"
            ],
            [
             0.6,
             "#e6f5d0"
            ],
            [
             0.7,
             "#b8e186"
            ],
            [
             0.8,
             "#7fbc41"
            ],
            [
             0.9,
             "#4d9221"
            ],
            [
             1,
             "#276419"
            ]
           ],
           "sequential": [
            [
             0,
             "#0d0887"
            ],
            [
             0.1111111111111111,
             "#46039f"
            ],
            [
             0.2222222222222222,
             "#7201a8"
            ],
            [
             0.3333333333333333,
             "#9c179e"
            ],
            [
             0.4444444444444444,
             "#bd3786"
            ],
            [
             0.5555555555555556,
             "#d8576b"
            ],
            [
             0.6666666666666666,
             "#ed7953"
            ],
            [
             0.7777777777777778,
             "#fb9f3a"
            ],
            [
             0.8888888888888888,
             "#fdca26"
            ],
            [
             1,
             "#f0f921"
            ]
           ],
           "sequentialminus": [
            [
             0,
             "#0d0887"
            ],
            [
             0.1111111111111111,
             "#46039f"
            ],
            [
             0.2222222222222222,
             "#7201a8"
            ],
            [
             0.3333333333333333,
             "#9c179e"
            ],
            [
             0.4444444444444444,
             "#bd3786"
            ],
            [
             0.5555555555555556,
             "#d8576b"
            ],
            [
             0.6666666666666666,
             "#ed7953"
            ],
            [
             0.7777777777777778,
             "#fb9f3a"
            ],
            [
             0.8888888888888888,
             "#fdca26"
            ],
            [
             1,
             "#f0f921"
            ]
           ]
          },
          "colorway": [
           "#636efa",
           "#EF553B",
           "#00cc96",
           "#ab63fa",
           "#FFA15A",
           "#19d3f3",
           "#FF6692",
           "#B6E880",
           "#FF97FF",
           "#FECB52"
          ],
          "font": {
           "color": "#2a3f5f"
          },
          "geo": {
           "bgcolor": "white",
           "lakecolor": "white",
           "landcolor": "#E5ECF6",
           "showlakes": true,
           "showland": true,
           "subunitcolor": "white"
          },
          "hoverlabel": {
           "align": "left"
          },
          "hovermode": "closest",
          "mapbox": {
           "style": "light"
          },
          "paper_bgcolor": "white",
          "plot_bgcolor": "#E5ECF6",
          "polar": {
           "angularaxis": {
            "gridcolor": "white",
            "linecolor": "white",
            "ticks": ""
           },
           "bgcolor": "#E5ECF6",
           "radialaxis": {
            "gridcolor": "white",
            "linecolor": "white",
            "ticks": ""
           }
          },
          "scene": {
           "xaxis": {
            "backgroundcolor": "#E5ECF6",
            "gridcolor": "white",
            "gridwidth": 2,
            "linecolor": "white",
            "showbackground": true,
            "ticks": "",
            "zerolinecolor": "white"
           },
           "yaxis": {
            "backgroundcolor": "#E5ECF6",
            "gridcolor": "white",
            "gridwidth": 2,
            "linecolor": "white",
            "showbackground": true,
            "ticks": "",
            "zerolinecolor": "white"
           },
           "zaxis": {
            "backgroundcolor": "#E5ECF6",
            "gridcolor": "white",
            "gridwidth": 2,
            "linecolor": "white",
            "showbackground": true,
            "ticks": "",
            "zerolinecolor": "white"
           }
          },
          "shapedefaults": {
           "line": {
            "color": "#2a3f5f"
           }
          },
          "ternary": {
           "aaxis": {
            "gridcolor": "white",
            "linecolor": "white",
            "ticks": ""
           },
           "baxis": {
            "gridcolor": "white",
            "linecolor": "white",
            "ticks": ""
           },
           "bgcolor": "#E5ECF6",
           "caxis": {
            "gridcolor": "white",
            "linecolor": "white",
            "ticks": ""
           }
          },
          "title": {
           "x": 0.05
          },
          "xaxis": {
           "automargin": true,
           "gridcolor": "white",
           "linecolor": "white",
           "ticks": "",
           "title": {
            "standoff": 15
           },
           "zerolinecolor": "white",
           "zerolinewidth": 2
          },
          "yaxis": {
           "automargin": true,
           "gridcolor": "white",
           "linecolor": "white",
           "ticks": "",
           "title": {
            "standoff": 15
           },
           "zerolinecolor": "white",
           "zerolinewidth": 2
          }
         }
        },
        "xaxis": {
         "anchor": "y",
         "domain": [
          0,
          1
         ],
         "title": {
          "text": "x"
         }
        },
        "yaxis": {
         "anchor": "x",
         "domain": [
          0,
          1
         ],
         "title": {
          "text": "index"
         }
        }
       }
      }
     },
     "metadata": {},
     "output_type": "display_data"
    }
   ],
   "source": [
    "# Plot the average activation over all tokens\n",
    "\n",
    "import matplotlib.pyplot as plt\n",
    "import plotly.express as px\n",
    "\n",
    "# Sum of activations per example\n",
    "# shape: (batch,)\n",
    "clean_acts_summed = clean_cache[sae_target_hook_point][:, :, SAE_TARGET_FEATURE].sum(dim=1)\n",
    "clean_acts_np = clean_acts_summed.detach().cpu().numpy()\n",
    "\n",
    "for clean_prompt in ioi_data.clean_prompts:\n",
    "  print(clean_prompt)\n",
    "\n",
    "px.bar(range(len(clean_acts_np)), clean_acts_np)\n"
   ]
  },
  {
   "cell_type": "code",
   "execution_count": 7,
   "metadata": {},
   "outputs": [
    {
     "data": {
      "text/html": [
       "<div id=\"circuits-vis-d325b696-be65\" style=\"margin: 15px 0;\"/>\n",
       "    <script crossorigin type=\"module\">\n",
       "    import { render, ColoredTokens } from \"https://unpkg.com/circuitsvis@1.43.2/dist/cdn/esm.js\";\n",
       "    render(\n",
       "      \"circuits-vis-d325b696-be65\",\n",
       "      ColoredTokens,\n",
       "      {\"tokens\": [\"<|endoftext|>\", \"When\", \" John\", \" and\", \" Mary\", \" went\", \" to\", \" the\", \" shops\", \",\", \" Mary\", \" gave\", \" the\", \" bag\", \" to\"], \"values\": [0.0, 0.0, 0.0, 0.0, 0.0, 0.0, 0.0, 0.0, 0.0, 0.0, 0.0, 0.0, 0.0, 0.0, 0.0]}\n",
       "    )\n",
       "    </script>"
      ],
      "text/plain": [
       "<circuitsvis.utils.render.RenderedHTML at 0x7d600f817210>"
      ]
     },
     "metadata": {},
     "output_type": "display_data"
    },
    {
     "data": {
      "text/html": [
       "<div id=\"circuits-vis-d06fab48-d765\" style=\"margin: 15px 0;\"/>\n",
       "    <script crossorigin type=\"module\">\n",
       "    import { render, ColoredTokens } from \"https://unpkg.com/circuitsvis@1.43.2/dist/cdn/esm.js\";\n",
       "    render(\n",
       "      \"circuits-vis-d06fab48-d765\",\n",
       "      ColoredTokens,\n",
       "      {\"tokens\": [\"<|endoftext|>\", \"When\", \" John\", \" and\", \" Mary\", \" went\", \" to\", \" the\", \" shops\", \",\", \" John\", \" gave\", \" the\", \" bag\", \" to\"], \"values\": [0.0, 0.0, 0.0, 0.0, 0.0, 0.0, 0.0, 0.0, 0.0, 0.0, 0.0, 1.2060304880142212, 0.0, 0.0, 2.3095874786376953]}\n",
       "    )\n",
       "    </script>"
      ],
      "text/plain": [
       "<circuitsvis.utils.render.RenderedHTML at 0x7d600c1fbb50>"
      ]
     },
     "metadata": {},
     "output_type": "display_data"
    },
    {
     "data": {
      "text/html": [
       "<div id=\"circuits-vis-c520e20d-2ea4\" style=\"margin: 15px 0;\"/>\n",
       "    <script crossorigin type=\"module\">\n",
       "    import { render, ColoredTokens } from \"https://unpkg.com/circuitsvis@1.43.2/dist/cdn/esm.js\";\n",
       "    render(\n",
       "      \"circuits-vis-c520e20d-2ea4\",\n",
       "      ColoredTokens,\n",
       "      {\"tokens\": [\"<|endoftext|>\", \"When\", \" Tom\", \" and\", \" James\", \" went\", \" to\", \" the\", \" park\", \",\", \" James\", \" gave\", \" the\", \" ball\", \" to\"], \"values\": [0.0, 0.0, 0.0, 0.0, 0.0, 0.0, 0.0, 0.0, 0.0, 0.0, 0.0, 0.0, 0.0, 0.0, 0.0]}\n",
       "    )\n",
       "    </script>"
      ],
      "text/plain": [
       "<circuitsvis.utils.render.RenderedHTML at 0x7d600f817210>"
      ]
     },
     "metadata": {},
     "output_type": "display_data"
    },
    {
     "data": {
      "text/html": [
       "<div id=\"circuits-vis-95852c0d-4ecb\" style=\"margin: 15px 0;\"/>\n",
       "    <script crossorigin type=\"module\">\n",
       "    import { render, ColoredTokens } from \"https://unpkg.com/circuitsvis@1.43.2/dist/cdn/esm.js\";\n",
       "    render(\n",
       "      \"circuits-vis-95852c0d-4ecb\",\n",
       "      ColoredTokens,\n",
       "      {\"tokens\": [\"<|endoftext|>\", \"When\", \" Tom\", \" and\", \" James\", \" went\", \" to\", \" the\", \" park\", \",\", \" Tom\", \" gave\", \" the\", \" ball\", \" to\"], \"values\": [0.0, 0.0, 0.0, 0.0, 0.0, 0.0, 0.0, 0.0, 0.0, 0.0, 0.0, 2.469193458557129, 0.0, 0.0, 2.6974098682403564]}\n",
       "    )\n",
       "    </script>"
      ],
      "text/plain": [
       "<circuitsvis.utils.render.RenderedHTML at 0x7d600f817210>"
      ]
     },
     "metadata": {},
     "output_type": "display_data"
    },
    {
     "data": {
      "text/html": [
       "<div id=\"circuits-vis-1c98d8b2-b39f\" style=\"margin: 15px 0;\"/>\n",
       "    <script crossorigin type=\"module\">\n",
       "    import { render, ColoredTokens } from \"https://unpkg.com/circuitsvis@1.43.2/dist/cdn/esm.js\";\n",
       "    render(\n",
       "      \"circuits-vis-1c98d8b2-b39f\",\n",
       "      ColoredTokens,\n",
       "      {\"tokens\": [\"<|endoftext|>\", \"When\", \" Dan\", \" and\", \" Sid\", \" went\", \" to\", \" the\", \" shops\", \",\", \" Sid\", \" gave\", \" an\", \" apple\", \" to\"], \"values\": [0.0, 0.0, 0.0, 0.0, 0.0, 0.0, 0.0, 0.0, 0.0, 0.0, 0.0, 0.0, 0.0, 0.0, 0.0]}\n",
       "    )\n",
       "    </script>"
      ],
      "text/plain": [
       "<circuitsvis.utils.render.RenderedHTML at 0x7d600f817210>"
      ]
     },
     "metadata": {},
     "output_type": "display_data"
    },
    {
     "data": {
      "text/html": [
       "<div id=\"circuits-vis-6a551bfc-31f1\" style=\"margin: 15px 0;\"/>\n",
       "    <script crossorigin type=\"module\">\n",
       "    import { render, ColoredTokens } from \"https://unpkg.com/circuitsvis@1.43.2/dist/cdn/esm.js\";\n",
       "    render(\n",
       "      \"circuits-vis-6a551bfc-31f1\",\n",
       "      ColoredTokens,\n",
       "      {\"tokens\": [\"<|endoftext|>\", \"When\", \" Dan\", \" and\", \" Sid\", \" went\", \" to\", \" the\", \" shops\", \",\", \" Dan\", \" gave\", \" an\", \" apple\", \" to\"], \"values\": [0.0, 0.0, 0.0, 0.0, 0.0, 0.0, 0.0, 0.0, 0.0, 0.0, 0.0, 2.4517338275909424, 0.0, 0.0, 3.1285903453826904]}\n",
       "    )\n",
       "    </script>"
      ],
      "text/plain": [
       "<circuitsvis.utils.render.RenderedHTML at 0x7d5ff96bf310>"
      ]
     },
     "metadata": {},
     "output_type": "display_data"
    },
    {
     "data": {
      "text/html": [
       "<div id=\"circuits-vis-707086b1-7250\" style=\"margin: 15px 0;\"/>\n",
       "    <script crossorigin type=\"module\">\n",
       "    import { render, ColoredTokens } from \"https://unpkg.com/circuitsvis@1.43.2/dist/cdn/esm.js\";\n",
       "    render(\n",
       "      \"circuits-vis-707086b1-7250\",\n",
       "      ColoredTokens,\n",
       "      {\"tokens\": [\"<|endoftext|>\", \"After\", \" Martin\", \" and\", \" Amy\", \" went\", \" to\", \" the\", \" park\", \",\", \" Amy\", \" gave\", \" a\", \" drink\", \" to\"], \"values\": [0.0, 0.0, 0.0, 0.0, 0.0, 0.0, 0.0, 0.0, 0.0, 0.0, 0.0, 0.0, 0.0, 0.0, 0.0]}\n",
       "    )\n",
       "    </script>"
      ],
      "text/plain": [
       "<circuitsvis.utils.render.RenderedHTML at 0x7d5ff96bf310>"
      ]
     },
     "metadata": {},
     "output_type": "display_data"
    },
    {
     "data": {
      "text/html": [
       "<div id=\"circuits-vis-ca9f7dc6-58bc\" style=\"margin: 15px 0;\"/>\n",
       "    <script crossorigin type=\"module\">\n",
       "    import { render, ColoredTokens } from \"https://unpkg.com/circuitsvis@1.43.2/dist/cdn/esm.js\";\n",
       "    render(\n",
       "      \"circuits-vis-ca9f7dc6-58bc\",\n",
       "      ColoredTokens,\n",
       "      {\"tokens\": [\"<|endoftext|>\", \"After\", \" Martin\", \" and\", \" Amy\", \" went\", \" to\", \" the\", \" park\", \",\", \" Martin\", \" gave\", \" a\", \" drink\", \" to\"], \"values\": [0.0, 0.0, 0.0, 0.0, 0.0, 0.0, 0.0, 0.0, 0.0, 0.0, 0.0, 1.986938238143921, 0.0, 0.0, 3.398392677307129]}\n",
       "    )\n",
       "    </script>"
      ],
      "text/plain": [
       "<circuitsvis.utils.render.RenderedHTML at 0x7d5ff950df10>"
      ]
     },
     "metadata": {},
     "output_type": "display_data"
    }
   ],
   "source": [
    "# Visualize which tokens it's firing on\n",
    "\n",
    "from circuitsvis.tokens import colored_tokens\n",
    "\n",
    "for example_idx in range(ioi_data.get_batch_size()):\n",
    "    sae_target_clean_acts = clean_cache[sae_target_hook_point][example_idx, :, SAE_TARGET_FEATURE]\n",
    "    display(colored_tokens(ioi_data.clean_str_tokens[example_idx], sae_target_clean_acts))"
   ]
  },
  {
   "cell_type": "code",
   "execution_count": 8,
   "metadata": {},
   "outputs": [
    {
     "data": {
      "image/png": "[encoded data removed]",
      "text/plain": [
       "<Figure size 640x480 with 1 Axes>"
      ]
     },
     "metadata": {},
     "output_type": "display_data"
    }
   ],
   "source": [
    "from feature_lens.ablate import make_ablate_hook\n",
    "\n",
    "clean_metric = ioi_data.get_metric(ioi_data.get_logits(model, input = \"clean\"))\n",
    "corrupt_metric = ioi_data.get_metric(ioi_data.get_logits(model, input = \"corrupt\"))\n",
    "\n",
    "# Make patch hook for clean cache\n",
    "hooks = [make_ablate_hook(clean_cache, sae_target_hook_point, SAE_TARGET_FEATURE)]\n",
    "with model.saes(saes):\n",
    "    with model.hooks(\n",
    "        fwd_hooks=hooks,\n",
    "    ):\n",
    "        # Run on the corrupt input\n",
    "        ablated_logits = ioi_data.get_logits(model, input = \"corrupt\")\n",
    "        ablated_metric = ioi_data.get_metric(ablated_logits)\n",
    "\n",
    "# Plot\n",
    "x = range(ioi_data.get_batch_size())\n",
    "\n",
    "plt.figure()\n",
    "plt.title(\"Patching with clean act on corrupt input\")\n",
    "plt.scatter(x = x, y = ablated_metric.detach().cpu().numpy(), label='Ablated')\n",
    "plt.scatter(x = x, y = clean_metric.detach().cpu().numpy(), label='Clean')\n",
    "plt.scatter(x = x, y = corrupt_metric.detach().cpu().numpy(), label='Corrupt')\n",
    "plt.legend()\n",
    "plt.show()"
   ]
  },
  {
   "cell_type": "markdown",
   "metadata": {},
   "source": [
    "# Finding relevant upstream features via Attribution Patching"
   ]
  },
  {
   "cell_type": "code",
   "execution_count": 9,
   "metadata": {},
   "outputs": [],
   "source": [
    "from feature_lens.attribute import get_sae_cache_for_target_feature_as_metric, compute_attribution\n",
    "\n",
    "# Run the attribution code inside a context to prevent overwriting clean_cache, corrupt_cache\n",
    "def compute_attribution_helper():\n",
    "    with model.saes(saes):\n",
    "        clean_cache = get_sae_cache_for_target_feature_as_metric(model, ioi_data, sae_target_hook_point, SAE_TARGET_FEATURE)\n",
    "        corrupt_cache = get_sae_cache_for_target_feature_as_metric(model, ioi_data,  sae_target_hook_point, SAE_TARGET_FEATURE, input = \"corrupt\")\n",
    "    attribution = compute_attribution(sae_up_hook_point, clean_cache, corrupt_cache)\n",
    "    return attribution\n",
    "\n",
    "sae_up_attrib = compute_attribution_helper()"
   ]
  },
  {
   "cell_type": "code",
   "execution_count": 10,
   "metadata": {},
   "outputs": [
    {
     "data": {
      "image/png": "[encoded data removed]",
      "text/plain": [
       "<Figure size 640x480 with 1 Axes>"
      ]
     },
     "metadata": {},
     "output_type": "display_data"
    }
   ],
   "source": [
    "import matplotlib.pyplot as plt\n",
    "\n",
    "sae_up_attrib_summed = sae_up_attrib.sum(dim=1).mean(dim=0)\n",
    "sae_up_attrib_np = sae_up_attrib_summed.detach().cpu().numpy()\n",
    "\n",
    "plt.boxplot(sae_up_attrib_np)\n",
    "plt.show()\n"
   ]
  },
  {
   "cell_type": "code",
   "execution_count": 26,
   "metadata": {},
   "outputs": [],
   "source": [
    "from jaxtyping import Float\n",
    "from collections import namedtuple\n",
    "\n",
    "FeatureScores = namedtuple(\"FeatureScores\", [\"scores\", \"features\"])\n",
    "\n",
    "def get_topk_and_botk_scores_and_features(scores: Float[torch.Tensor, \" n\"], k: int = 10):\n",
    "    topk_scores, topk_features = torch.topk(scores, k = k)\n",
    "    botk_scores, botk_features = torch.topk(-scores, k = k)\n",
    "    botk_scores = -1 * botk_scores\n",
    "    topk_features = topk_features.cpu().numpy().tolist()\n",
    "    botk_features = botk_features.cpu().numpy().tolist()\n",
    "    return FeatureScores(topk_scores, topk_features), FeatureScores(botk_scores, botk_features)"
   ]
  },
  {
   "cell_type": "code",
   "execution_count": 27,
   "metadata": {},
   "outputs": [],
   "source": [
    "sae_up_topk, sae_up_botk = get_topk_and_botk_scores_and_features(sae_up_attrib_summed)\n"
   ]
  },
  {
   "cell_type": "code",
   "execution_count": 28,
   "metadata": {},
   "outputs": [
    {
     "data": {
      "text/plain": [
       "<BarContainer object of 10 artists>"
      ]
     },
     "execution_count": 28,
     "metadata": {},
     "output_type": "execute_result"
    },
    {
     "data": {
      "image/png": "[encoded data removed]",
      "text/plain": [
       "<Figure size 640x480 with 1 Axes>"
      ]
     },
     "metadata": {},
     "output_type": "display_data"
    }
   ],
   "source": [
    "# Plot top 10 scores\n",
    "plt.bar(range(10), sae_up_topk.scores.detach().cpu().numpy())"
   ]
  },
  {
   "cell_type": "code",
   "execution_count": 29,
   "metadata": {},
   "outputs": [
    {
     "data": {
      "text/plain": [
       "<BarContainer object of 10 artists>"
      ]
     },
     "execution_count": 29,
     "metadata": {},
     "output_type": "execute_result"
    },
    {
     "data": {
      "image/png": "[encoded data removed]",
      "text/plain": [
       "<Figure size 640x480 with 1 Axes>"
      ]
     },
     "metadata": {},
     "output_type": "display_data"
    }
   ],
   "source": [
    "# Plot bot 10 scores\n",
    "plt.bar(range(10), sae_up_botk.scores.detach().cpu().numpy())"
   ]
  },
  {
   "cell_type": "code",
   "execution_count": 21,
   "metadata": {},
   "outputs": [
    {
     "name": "stdout",
     "output_type": "stream",
     "text": [
      "https://neuronpedia.org/quick-list/?name=top10_upstream&features=%5B%7B%22modelId%22%3A%20%22gpt2-small%22%2C%20%22layer%22%3A%20%228-res-jb%22%2C%20%22index%22%3A%20%2214824%22%7D%2C%20%7B%22modelId%22%3A%20%22gpt2-small%22%2C%20%22layer%22%3A%20%228-res-jb%22%2C%20%22index%22%3A%20%2217721%22%7D%2C%20%7B%22modelId%22%3A%20%22gpt2-small%22%2C%20%22layer%22%3A%20%228-res-jb%22%2C%20%22index%22%3A%20%2211446%22%7D%2C%20%7B%22modelId%22%3A%20%22gpt2-small%22%2C%20%22layer%22%3A%20%228-res-jb%22%2C%20%22index%22%3A%20%2222660%22%7D%2C%20%7B%22modelId%22%3A%20%22gpt2-small%22%2C%20%22layer%22%3A%20%228-res-jb%22%2C%20%22index%22%3A%20%2212773%22%7D%2C%20%7B%22modelId%22%3A%20%22gpt2-small%22%2C%20%22layer%22%3A%20%228-res-jb%22%2C%20%22index%22%3A%20%2215130%22%7D%2C%20%7B%22modelId%22%3A%20%22gpt2-small%22%2C%20%22layer%22%3A%20%228-res-jb%22%2C%20%22index%22%3A%20%22600%22%7D%2C%20%7B%22modelId%22%3A%20%22gpt2-small%22%2C%20%22layer%22%3A%20%228-res-jb%22%2C%20%22index%22%3A%20%2215434%22%7D%2C%20%7B%22modelId%22%3A%20%22gpt2-small%22%2C%20%22layer%22%3A%20%228-res-jb%22%2C%20%22index%22%3A%20%226310%22%7D%2C%20%7B%22modelId%22%3A%20%22gpt2-small%22%2C%20%22layer%22%3A%20%228-res-jb%22%2C%20%22index%22%3A%20%2213525%22%7D%5D\n",
      "https://neuronpedia.org/quick-list/?name=bot10_upstream&features=%5B%7B%22modelId%22%3A%20%22gpt2-small%22%2C%20%22layer%22%3A%20%228-res-jb%22%2C%20%22index%22%3A%20%2222430%22%7D%2C%20%7B%22modelId%22%3A%20%22gpt2-small%22%2C%20%22layer%22%3A%20%228-res-jb%22%2C%20%22index%22%3A%20%2221345%22%7D%2C%20%7B%22modelId%22%3A%20%22gpt2-small%22%2C%20%22layer%22%3A%20%228-res-jb%22%2C%20%22index%22%3A%20%2216308%22%7D%2C%20%7B%22modelId%22%3A%20%22gpt2-small%22%2C%20%22layer%22%3A%20%228-res-jb%22%2C%20%22index%22%3A%20%2217302%22%7D%2C%20%7B%22modelId%22%3A%20%22gpt2-small%22%2C%20%22layer%22%3A%20%228-res-jb%22%2C%20%22index%22%3A%20%2218448%22%7D%2C%20%7B%22modelId%22%3A%20%22gpt2-small%22%2C%20%22layer%22%3A%20%228-res-jb%22%2C%20%22index%22%3A%20%228158%22%7D%2C%20%7B%22modelId%22%3A%20%22gpt2-small%22%2C%20%22layer%22%3A%20%228-res-jb%22%2C%20%22index%22%3A%20%2213484%22%7D%2C%20%7B%22modelId%22%3A%20%22gpt2-small%22%2C%20%22layer%22%3A%20%228-res-jb%22%2C%20%22index%22%3A%20%221786%22%7D%2C%20%7B%22modelId%22%3A%20%22gpt2-small%22%2C%20%22layer%22%3A%20%228-res-jb%22%2C%20%22index%22%3A%20%221007%22%7D%2C%20%7B%22modelId%22%3A%20%22gpt2-small%22%2C%20%22layer%22%3A%20%228-res-jb%22%2C%20%22index%22%3A%20%2219774%22%7D%5D\n"
     ]
    }
   ],
   "source": [
    "from feature_lens.utils.neuronpedia import get_neuronpedia_url\n",
    "\n",
    "UP_LAYER = 8\n",
    "print(get_neuronpedia_url(UP_LAYER, sae_up_topk.features, name = \"top10_upstream\"))\n",
    "print(get_neuronpedia_url(UP_LAYER, sae_up_botk.features, name = \"bot10_upstream\"))"
   ]
  },
  {
   "cell_type": "code",
   "execution_count": 14,
   "metadata": {},
   "outputs": [
    {
     "name": "stdout",
     "output_type": "stream",
     "text": [
      "Feature 14824\n"
     ]
    },
    {
     "data": {
      "text/html": [
       "<div id=\"circuits-vis-8a04318e-27e2\" style=\"margin: 15px 0;\"/>\n",
       "    <script crossorigin type=\"module\">\n",
       "    import { render, ColoredTokens } from \"https://unpkg.com/circuitsvis@1.43.2/dist/cdn/esm.js\";\n",
       "    render(\n",
       "      \"circuits-vis-8a04318e-27e2\",\n",
       "      ColoredTokens,\n",
       "      {\"tokens\": [\"<|endoftext|>\", \"When\", \" John\", \" and\", \" Mary\", \" went\", \" to\", \" the\", \" shops\", \",\", \" Mary\", \" gave\", \" the\", \" bag\", \" to\"], \"values\": [0.0, 0.0, 0.0, 0.0, 0.0, 0.0, 0.0, 0.0, 0.0, 0.0, 0.0, 0.0, 0.0, 0.0, 0.0]}\n",
       "    )\n",
       "    </script>"
      ],
      "text/plain": [
       "<circuitsvis.utils.render.RenderedHTML at 0x7d5ff94ad650>"
      ]
     },
     "metadata": {},
     "output_type": "display_data"
    },
    {
     "data": {
      "text/html": [
       "<div id=\"circuits-vis-2fb7eff3-f445\" style=\"margin: 15px 0;\"/>\n",
       "    <script crossorigin type=\"module\">\n",
       "    import { render, ColoredTokens } from \"https://unpkg.com/circuitsvis@1.43.2/dist/cdn/esm.js\";\n",
       "    render(\n",
       "      \"circuits-vis-2fb7eff3-f445\",\n",
       "      ColoredTokens,\n",
       "      {\"tokens\": [\"<|endoftext|>\", \"When\", \" John\", \" and\", \" Mary\", \" went\", \" to\", \" the\", \" shops\", \",\", \" John\", \" gave\", \" the\", \" bag\", \" to\"], \"values\": [0.0, 0.0, 0.0, 0.0, 0.0, 0.0, 0.0, 0.0, 0.0, 0.0, 0.0, 0.0, 0.0, 0.0, 0.0]}\n",
       "    )\n",
       "    </script>"
      ],
      "text/plain": [
       "<circuitsvis.utils.render.RenderedHTML at 0x7d5ff94ad650>"
      ]
     },
     "metadata": {},
     "output_type": "display_data"
    },
    {
     "data": {
      "text/html": [
       "<div id=\"circuits-vis-100cfb0a-1888\" style=\"margin: 15px 0;\"/>\n",
       "    <script crossorigin type=\"module\">\n",
       "    import { render, ColoredTokens } from \"https://unpkg.com/circuitsvis@1.43.2/dist/cdn/esm.js\";\n",
       "    render(\n",
       "      \"circuits-vis-100cfb0a-1888\",\n",
       "      ColoredTokens,\n",
       "      {\"tokens\": [\"<|endoftext|>\", \"When\", \" Tom\", \" and\", \" James\", \" went\", \" to\", \" the\", \" park\", \",\", \" James\", \" gave\", \" the\", \" ball\", \" to\"], \"values\": [0.0, 0.0, 0.0, 0.0, 0.0, 0.0, 0.0, 0.0, 0.0, 0.0, 0.0, 0.0, 0.0, 0.0, 0.0]}\n",
       "    )\n",
       "    </script>"
      ],
      "text/plain": [
       "<circuitsvis.utils.render.RenderedHTML at 0x7d5ff94150d0>"
      ]
     },
     "metadata": {},
     "output_type": "display_data"
    },
    {
     "data": {
      "text/html": [
       "<div id=\"circuits-vis-9bc6313c-8cdb\" style=\"margin: 15px 0;\"/>\n",
       "    <script crossorigin type=\"module\">\n",
       "    import { render, ColoredTokens } from \"https://unpkg.com/circuitsvis@1.43.2/dist/cdn/esm.js\";\n",
       "    render(\n",
       "      \"circuits-vis-9bc6313c-8cdb\",\n",
       "      ColoredTokens,\n",
       "      {\"tokens\": [\"<|endoftext|>\", \"When\", \" Tom\", \" and\", \" James\", \" went\", \" to\", \" the\", \" park\", \",\", \" Tom\", \" gave\", \" the\", \" ball\", \" to\"], \"values\": [0.0, 0.0, 0.0, 0.0, 0.0, 0.0, 0.0, 0.0, 0.0, 0.0, 0.0, 0.0, 0.0, 0.0, 0.0]}\n",
       "    )\n",
       "    </script>"
      ],
      "text/plain": [
       "<circuitsvis.utils.render.RenderedHTML at 0x7d5ff94a0990>"
      ]
     },
     "metadata": {},
     "output_type": "display_data"
    },
    {
     "data": {
      "text/html": [
       "<div id=\"circuits-vis-63482dd9-be5d\" style=\"margin: 15px 0;\"/>\n",
       "    <script crossorigin type=\"module\">\n",
       "    import { render, ColoredTokens } from \"https://unpkg.com/circuitsvis@1.43.2/dist/cdn/esm.js\";\n",
       "    render(\n",
       "      \"circuits-vis-63482dd9-be5d\",\n",
       "      ColoredTokens,\n",
       "      {\"tokens\": [\"<|endoftext|>\", \"When\", \" Dan\", \" and\", \" Sid\", \" went\", \" to\", \" the\", \" shops\", \",\", \" Sid\", \" gave\", \" an\", \" apple\", \" to\"], \"values\": [0.0, 0.0, 0.0, 0.0, 0.0, 0.0, 0.0, 0.0, 0.0, 0.0, 0.0, 0.0, 0.0, 0.0, 0.0]}\n",
       "    )\n",
       "    </script>"
      ],
      "text/plain": [
       "<circuitsvis.utils.render.RenderedHTML at 0x7d5ff94a0650>"
      ]
     },
     "metadata": {},
     "output_type": "display_data"
    },
    {
     "data": {
      "text/html": [
       "<div id=\"circuits-vis-1b64e11a-f6b5\" style=\"margin: 15px 0;\"/>\n",
       "    <script crossorigin type=\"module\">\n",
       "    import { render, ColoredTokens } from \"https://unpkg.com/circuitsvis@1.43.2/dist/cdn/esm.js\";\n",
       "    render(\n",
       "      \"circuits-vis-1b64e11a-f6b5\",\n",
       "      ColoredTokens,\n",
       "      {\"tokens\": [\"<|endoftext|>\", \"When\", \" Dan\", \" and\", \" Sid\", \" went\", \" to\", \" the\", \" shops\", \",\", \" Dan\", \" gave\", \" an\", \" apple\", \" to\"], \"values\": [0.0, 0.0, 0.0, 0.0, 0.0, 0.0, 0.0, 0.0, 0.0, 0.0, 0.0, 0.0, 0.0, 0.0, 0.0]}\n",
       "    )\n",
       "    </script>"
      ],
      "text/plain": [
       "<circuitsvis.utils.render.RenderedHTML at 0x7d600f9ae650>"
      ]
     },
     "metadata": {},
     "output_type": "display_data"
    },
    {
     "data": {
      "text/html": [
       "<div id=\"circuits-vis-8d8ceac1-d274\" style=\"margin: 15px 0;\"/>\n",
       "    <script crossorigin type=\"module\">\n",
       "    import { render, ColoredTokens } from \"https://unpkg.com/circuitsvis@1.43.2/dist/cdn/esm.js\";\n",
       "    render(\n",
       "      \"circuits-vis-8d8ceac1-d274\",\n",
       "      ColoredTokens,\n",
       "      {\"tokens\": [\"<|endoftext|>\", \"After\", \" Martin\", \" and\", \" Amy\", \" went\", \" to\", \" the\", \" park\", \",\", \" Amy\", \" gave\", \" a\", \" drink\", \" to\"], \"values\": [0.0, 0.0, 62.23646926879883, 0.0, 0.0, 0.0, 0.0, 0.0, 0.0, 0.0, 0.0, 0.0, 0.0, 0.0, 0.0]}\n",
       "    )\n",
       "    </script>"
      ],
      "text/plain": [
       "<circuitsvis.utils.render.RenderedHTML at 0x7d5ff9417450>"
      ]
     },
     "metadata": {},
     "output_type": "display_data"
    },
    {
     "data": {
      "text/html": [
       "<div id=\"circuits-vis-b7402fbe-b375\" style=\"margin: 15px 0;\"/>\n",
       "    <script crossorigin type=\"module\">\n",
       "    import { render, ColoredTokens } from \"https://unpkg.com/circuitsvis@1.43.2/dist/cdn/esm.js\";\n",
       "    render(\n",
       "      \"circuits-vis-b7402fbe-b375\",\n",
       "      ColoredTokens,\n",
       "      {\"tokens\": [\"<|endoftext|>\", \"After\", \" Martin\", \" and\", \" Amy\", \" went\", \" to\", \" the\", \" park\", \",\", \" Martin\", \" gave\", \" a\", \" drink\", \" to\"], \"values\": [0.0, 0.0, 62.23646926879883, 0.0, 0.0, 0.0, 0.0, 0.0, 0.0, 0.0, 43.473201751708984, 0.0, 0.0, 0.0, 0.0]}\n",
       "    )\n",
       "    </script>"
      ],
      "text/plain": [
       "<circuitsvis.utils.render.RenderedHTML at 0x7d5ff943ab90>"
      ]
     },
     "metadata": {},
     "output_type": "display_data"
    },
    {
     "name": "stdout",
     "output_type": "stream",
     "text": [
      "Feature 17721\n"
     ]
    },
    {
     "data": {
      "text/html": [
       "<div id=\"circuits-vis-60ac5804-7e2f\" style=\"margin: 15px 0;\"/>\n",
       "    <script crossorigin type=\"module\">\n",
       "    import { render, ColoredTokens } from \"https://unpkg.com/circuitsvis@1.43.2/dist/cdn/esm.js\";\n",
       "    render(\n",
       "      \"circuits-vis-60ac5804-7e2f\",\n",
       "      ColoredTokens,\n",
       "      {\"tokens\": [\"<|endoftext|>\", \"When\", \" John\", \" and\", \" Mary\", \" went\", \" to\", \" the\", \" shops\", \",\", \" Mary\", \" gave\", \" the\", \" bag\", \" to\"], \"values\": [0.0, 0.0, 0.0, 0.0, 0.0, 0.0, 0.0, 0.0, 0.0, 0.0, 0.0, 0.0, 0.0, 0.0, 0.0]}\n",
       "    )\n",
       "    </script>"
      ],
      "text/plain": [
       "<circuitsvis.utils.render.RenderedHTML at 0x7d5ff94a2e50>"
      ]
     },
     "metadata": {},
     "output_type": "display_data"
    },
    {
     "data": {
      "text/html": [
       "<div id=\"circuits-vis-fecf7639-6ccf\" style=\"margin: 15px 0;\"/>\n",
       "    <script crossorigin type=\"module\">\n",
       "    import { render, ColoredTokens } from \"https://unpkg.com/circuitsvis@1.43.2/dist/cdn/esm.js\";\n",
       "    render(\n",
       "      \"circuits-vis-fecf7639-6ccf\",\n",
       "      ColoredTokens,\n",
       "      {\"tokens\": [\"<|endoftext|>\", \"When\", \" John\", \" and\", \" Mary\", \" went\", \" to\", \" the\", \" shops\", \",\", \" John\", \" gave\", \" the\", \" bag\", \" to\"], \"values\": [0.0, 0.0, 0.0, 0.0, 0.0, 0.0, 0.0, 0.0, 0.0, 0.0, 0.0, 0.0, 0.0, 0.0, 0.0]}\n",
       "    )\n",
       "    </script>"
      ],
      "text/plain": [
       "<circuitsvis.utils.render.RenderedHTML at 0x7d5ff947bd10>"
      ]
     },
     "metadata": {},
     "output_type": "display_data"
    },
    {
     "data": {
      "text/html": [
       "<div id=\"circuits-vis-8e00b782-7889\" style=\"margin: 15px 0;\"/>\n",
       "    <script crossorigin type=\"module\">\n",
       "    import { render, ColoredTokens } from \"https://unpkg.com/circuitsvis@1.43.2/dist/cdn/esm.js\";\n",
       "    render(\n",
       "      \"circuits-vis-8e00b782-7889\",\n",
       "      ColoredTokens,\n",
       "      {\"tokens\": [\"<|endoftext|>\", \"When\", \" Tom\", \" and\", \" James\", \" went\", \" to\", \" the\", \" park\", \",\", \" James\", \" gave\", \" the\", \" ball\", \" to\"], \"values\": [0.0, 0.0, 0.0, 0.0, 0.0, 0.0, 0.0, 0.0, 0.0, 0.0, 0.0, 0.0, 0.0, 0.0, 0.0]}\n",
       "    )\n",
       "    </script>"
      ],
      "text/plain": [
       "<circuitsvis.utils.render.RenderedHTML at 0x7d5ff947bd10>"
      ]
     },
     "metadata": {},
     "output_type": "display_data"
    },
    {
     "data": {
      "text/html": [
       "<div id=\"circuits-vis-bb1c2572-7a86\" style=\"margin: 15px 0;\"/>\n",
       "    <script crossorigin type=\"module\">\n",
       "    import { render, ColoredTokens } from \"https://unpkg.com/circuitsvis@1.43.2/dist/cdn/esm.js\";\n",
       "    render(\n",
       "      \"circuits-vis-bb1c2572-7a86\",\n",
       "      ColoredTokens,\n",
       "      {\"tokens\": [\"<|endoftext|>\", \"When\", \" Tom\", \" and\", \" James\", \" went\", \" to\", \" the\", \" park\", \",\", \" Tom\", \" gave\", \" the\", \" ball\", \" to\"], \"values\": [0.0, 0.0, 0.0, 0.0, 0.0, 0.0, 0.0, 0.0, 0.0, 0.0, 0.0, 0.0, 0.0, 0.0, 0.0]}\n",
       "    )\n",
       "    </script>"
      ],
      "text/plain": [
       "<circuitsvis.utils.render.RenderedHTML at 0x7d5ff947bd10>"
      ]
     },
     "metadata": {},
     "output_type": "display_data"
    },
    {
     "data": {
      "text/html": [
       "<div id=\"circuits-vis-d379c3de-f485\" style=\"margin: 15px 0;\"/>\n",
       "    <script crossorigin type=\"module\">\n",
       "    import { render, ColoredTokens } from \"https://unpkg.com/circuitsvis@1.43.2/dist/cdn/esm.js\";\n",
       "    render(\n",
       "      \"circuits-vis-d379c3de-f485\",\n",
       "      ColoredTokens,\n",
       "      {\"tokens\": [\"<|endoftext|>\", \"When\", \" Dan\", \" and\", \" Sid\", \" went\", \" to\", \" the\", \" shops\", \",\", \" Sid\", \" gave\", \" an\", \" apple\", \" to\"], \"values\": [0.0, 0.0, 62.209022521972656, 0.0, 0.0, 0.0, 0.0, 0.0, 0.0, 0.0, 0.0, 0.0, 0.0, 0.0, 0.0]}\n",
       "    )\n",
       "    </script>"
      ],
      "text/plain": [
       "<circuitsvis.utils.render.RenderedHTML at 0x7d5ff966df50>"
      ]
     },
     "metadata": {},
     "output_type": "display_data"
    },
    {
     "data": {
      "text/html": [
       "<div id=\"circuits-vis-19dc98e2-e82f\" style=\"margin: 15px 0;\"/>\n",
       "    <script crossorigin type=\"module\">\n",
       "    import { render, ColoredTokens } from \"https://unpkg.com/circuitsvis@1.43.2/dist/cdn/esm.js\";\n",
       "    render(\n",
       "      \"circuits-vis-19dc98e2-e82f\",\n",
       "      ColoredTokens,\n",
       "      {\"tokens\": [\"<|endoftext|>\", \"When\", \" Dan\", \" and\", \" Sid\", \" went\", \" to\", \" the\", \" shops\", \",\", \" Dan\", \" gave\", \" an\", \" apple\", \" to\"], \"values\": [0.0, 0.0, 62.209022521972656, 0.0, 0.0, 0.0, 0.0, 0.0, 0.0, 0.0, 41.451942443847656, 0.0, 0.0, 0.0, 0.0]}\n",
       "    )\n",
       "    </script>"
      ],
      "text/plain": [
       "<circuitsvis.utils.render.RenderedHTML at 0x7d5ff966df50>"
      ]
     },
     "metadata": {},
     "output_type": "display_data"
    },
    {
     "data": {
      "text/html": [
       "<div id=\"circuits-vis-3ea34b62-07be\" style=\"margin: 15px 0;\"/>\n",
       "    <script crossorigin type=\"module\">\n",
       "    import { render, ColoredTokens } from \"https://unpkg.com/circuitsvis@1.43.2/dist/cdn/esm.js\";\n",
       "    render(\n",
       "      \"circuits-vis-3ea34b62-07be\",\n",
       "      ColoredTokens,\n",
       "      {\"tokens\": [\"<|endoftext|>\", \"After\", \" Martin\", \" and\", \" Amy\", \" went\", \" to\", \" the\", \" park\", \",\", \" Amy\", \" gave\", \" a\", \" drink\", \" to\"], \"values\": [0.0, 0.0, 0.0, 0.0, 0.0, 0.0, 0.0, 0.0, 0.0, 0.0, 0.0, 0.0, 0.0, 0.0, 0.0]}\n",
       "    )\n",
       "    </script>"
      ],
      "text/plain": [
       "<circuitsvis.utils.render.RenderedHTML at 0x7d5ff9414f90>"
      ]
     },
     "metadata": {},
     "output_type": "display_data"
    },
    {
     "data": {
      "text/html": [
       "<div id=\"circuits-vis-a1513403-05ed\" style=\"margin: 15px 0;\"/>\n",
       "    <script crossorigin type=\"module\">\n",
       "    import { render, ColoredTokens } from \"https://unpkg.com/circuitsvis@1.43.2/dist/cdn/esm.js\";\n",
       "    render(\n",
       "      \"circuits-vis-a1513403-05ed\",\n",
       "      ColoredTokens,\n",
       "      {\"tokens\": [\"<|endoftext|>\", \"After\", \" Martin\", \" and\", \" Amy\", \" went\", \" to\", \" the\", \" park\", \",\", \" Martin\", \" gave\", \" a\", \" drink\", \" to\"], \"values\": [0.0, 0.0, 0.0, 0.0, 0.0, 0.0, 0.0, 0.0, 0.0, 0.0, 0.0, 0.0, 0.0, 0.0, 0.0]}\n",
       "    )\n",
       "    </script>"
      ],
      "text/plain": [
       "<circuitsvis.utils.render.RenderedHTML at 0x7d5ff94be650>"
      ]
     },
     "metadata": {},
     "output_type": "display_data"
    },
    {
     "name": "stdout",
     "output_type": "stream",
     "text": [
      "Feature 11446\n"
     ]
    },
    {
     "data": {
      "text/html": [
       "<div id=\"circuits-vis-a65449c7-44ee\" style=\"margin: 15px 0;\"/>\n",
       "    <script crossorigin type=\"module\">\n",
       "    import { render, ColoredTokens } from \"https://unpkg.com/circuitsvis@1.43.2/dist/cdn/esm.js\";\n",
       "    render(\n",
       "      \"circuits-vis-a65449c7-44ee\",\n",
       "      ColoredTokens,\n",
       "      {\"tokens\": [\"<|endoftext|>\", \"When\", \" John\", \" and\", \" Mary\", \" went\", \" to\", \" the\", \" shops\", \",\", \" Mary\", \" gave\", \" the\", \" bag\", \" to\"], \"values\": [0.0, 0.0, 0.0, 0.0, 0.0, 0.0, 0.0, 0.0, 0.0, 0.0, 6.62244987487793, 0.0, 0.0, 0.0, 0.0]}\n",
       "    )\n",
       "    </script>"
      ],
      "text/plain": [
       "<circuitsvis.utils.render.RenderedHTML at 0x7d5ff94bdcd0>"
      ]
     },
     "metadata": {},
     "output_type": "display_data"
    },
    {
     "data": {
      "text/html": [
       "<div id=\"circuits-vis-3acba66a-8e63\" style=\"margin: 15px 0;\"/>\n",
       "    <script crossorigin type=\"module\">\n",
       "    import { render, ColoredTokens } from \"https://unpkg.com/circuitsvis@1.43.2/dist/cdn/esm.js\";\n",
       "    render(\n",
       "      \"circuits-vis-3acba66a-8e63\",\n",
       "      ColoredTokens,\n",
       "      {\"tokens\": [\"<|endoftext|>\", \"When\", \" John\", \" and\", \" Mary\", \" went\", \" to\", \" the\", \" shops\", \",\", \" John\", \" gave\", \" the\", \" bag\", \" to\"], \"values\": [0.0, 0.0, 0.0, 0.0, 0.0, 0.0, 0.0, 0.0, 0.0, 0.0, 2.5477449893951416, 0.0, 0.0, 0.0, 0.0]}\n",
       "    )\n",
       "    </script>"
      ],
      "text/plain": [
       "<circuitsvis.utils.render.RenderedHTML at 0x7d5ff94a0d10>"
      ]
     },
     "metadata": {},
     "output_type": "display_data"
    },
    {
     "data": {
      "text/html": [
       "<div id=\"circuits-vis-5b107f2d-9a51\" style=\"margin: 15px 0;\"/>\n",
       "    <script crossorigin type=\"module\">\n",
       "    import { render, ColoredTokens } from \"https://unpkg.com/circuitsvis@1.43.2/dist/cdn/esm.js\";\n",
       "    render(\n",
       "      \"circuits-vis-5b107f2d-9a51\",\n",
       "      ColoredTokens,\n",
       "      {\"tokens\": [\"<|endoftext|>\", \"When\", \" Tom\", \" and\", \" James\", \" went\", \" to\", \" the\", \" park\", \",\", \" James\", \" gave\", \" the\", \" ball\", \" to\"], \"values\": [0.0, 0.0, 0.0, 0.0, 0.0, 0.0, 0.0, 0.0, 0.0, 0.0, 6.455176830291748, 0.0, 0.0, 0.0, 0.0]}\n",
       "    )\n",
       "    </script>"
      ],
      "text/plain": [
       "<circuitsvis.utils.render.RenderedHTML at 0x7d5ff94a0d10>"
      ]
     },
     "metadata": {},
     "output_type": "display_data"
    },
    {
     "data": {
      "text/html": [
       "<div id=\"circuits-vis-273a65d1-f9c4\" style=\"margin: 15px 0;\"/>\n",
       "    <script crossorigin type=\"module\">\n",
       "    import { render, ColoredTokens } from \"https://unpkg.com/circuitsvis@1.43.2/dist/cdn/esm.js\";\n",
       "    render(\n",
       "      \"circuits-vis-273a65d1-f9c4\",\n",
       "      ColoredTokens,\n",
       "      {\"tokens\": [\"<|endoftext|>\", \"When\", \" Tom\", \" and\", \" James\", \" went\", \" to\", \" the\", \" park\", \",\", \" Tom\", \" gave\", \" the\", \" ball\", \" to\"], \"values\": [0.0, 0.0, 0.0, 0.0, 0.0, 0.0, 0.0, 0.0, 0.0, 0.0, 2.741091728210449, 0.0, 0.0, 0.0, 0.0]}\n",
       "    )\n",
       "    </script>"
      ],
      "text/plain": [
       "<circuitsvis.utils.render.RenderedHTML at 0x7d5ff95abc10>"
      ]
     },
     "metadata": {},
     "output_type": "display_data"
    },
    {
     "data": {
      "text/html": [
       "<div id=\"circuits-vis-564701e3-3456\" style=\"margin: 15px 0;\"/>\n",
       "    <script crossorigin type=\"module\">\n",
       "    import { render, ColoredTokens } from \"https://unpkg.com/circuitsvis@1.43.2/dist/cdn/esm.js\";\n",
       "    render(\n",
       "      \"circuits-vis-564701e3-3456\",\n",
       "      ColoredTokens,\n",
       "      {\"tokens\": [\"<|endoftext|>\", \"When\", \" Dan\", \" and\", \" Sid\", \" went\", \" to\", \" the\", \" shops\", \",\", \" Sid\", \" gave\", \" an\", \" apple\", \" to\"], \"values\": [0.0, 0.0, 0.0, 0.0, 0.0, 0.0, 0.0, 0.0, 0.0, 0.0, 5.75567626953125, 0.0, 0.0, 0.0, 0.0]}\n",
       "    )\n",
       "    </script>"
      ],
      "text/plain": [
       "<circuitsvis.utils.render.RenderedHTML at 0x7d5ff95b8490>"
      ]
     },
     "metadata": {},
     "output_type": "display_data"
    },
    {
     "data": {
      "text/html": [
       "<div id=\"circuits-vis-10eccfe4-4c63\" style=\"margin: 15px 0;\"/>\n",
       "    <script crossorigin type=\"module\">\n",
       "    import { render, ColoredTokens } from \"https://unpkg.com/circuitsvis@1.43.2/dist/cdn/esm.js\";\n",
       "    render(\n",
       "      \"circuits-vis-10eccfe4-4c63\",\n",
       "      ColoredTokens,\n",
       "      {\"tokens\": [\"<|endoftext|>\", \"When\", \" Dan\", \" and\", \" Sid\", \" went\", \" to\", \" the\", \" shops\", \",\", \" Dan\", \" gave\", \" an\", \" apple\", \" to\"], \"values\": [0.0, 0.0, 0.0, 0.0, 0.0, 0.0, 0.0, 0.0, 0.0, 0.0, 2.637584924697876, 0.0, 0.0, 0.0, 0.0]}\n",
       "    )\n",
       "    </script>"
      ],
      "text/plain": [
       "<circuitsvis.utils.render.RenderedHTML at 0x7d5ff94bcfd0>"
      ]
     },
     "metadata": {},
     "output_type": "display_data"
    },
    {
     "data": {
      "text/html": [
       "<div id=\"circuits-vis-09cef884-68f1\" style=\"margin: 15px 0;\"/>\n",
       "    <script crossorigin type=\"module\">\n",
       "    import { render, ColoredTokens } from \"https://unpkg.com/circuitsvis@1.43.2/dist/cdn/esm.js\";\n",
       "    render(\n",
       "      \"circuits-vis-09cef884-68f1\",\n",
       "      ColoredTokens,\n",
       "      {\"tokens\": [\"<|endoftext|>\", \"After\", \" Martin\", \" and\", \" Amy\", \" went\", \" to\", \" the\", \" park\", \",\", \" Amy\", \" gave\", \" a\", \" drink\", \" to\"], \"values\": [0.0, 0.0, 0.0, 0.0, 0.0, 0.0, 0.0, 0.0, 0.0, 0.0, 6.484918594360352, 0.0, 0.0, 0.0, 0.0]}\n",
       "    )\n",
       "    </script>"
      ],
      "text/plain": [
       "<circuitsvis.utils.render.RenderedHTML at 0x7d5ff94bcfd0>"
      ]
     },
     "metadata": {},
     "output_type": "display_data"
    },
    {
     "data": {
      "text/html": [
       "<div id=\"circuits-vis-663f5b04-3763\" style=\"margin: 15px 0;\"/>\n",
       "    <script crossorigin type=\"module\">\n",
       "    import { render, ColoredTokens } from \"https://unpkg.com/circuitsvis@1.43.2/dist/cdn/esm.js\";\n",
       "    render(\n",
       "      \"circuits-vis-663f5b04-3763\",\n",
       "      ColoredTokens,\n",
       "      {\"tokens\": [\"<|endoftext|>\", \"After\", \" Martin\", \" and\", \" Amy\", \" went\", \" to\", \" the\", \" park\", \",\", \" Martin\", \" gave\", \" a\", \" drink\", \" to\"], \"values\": [0.0, 0.0, 0.0, 0.0, 0.0, 0.0, 0.0, 0.0, 0.0, 0.0, 0.5032984614372253, 0.0, 0.0, 0.0, 0.0]}\n",
       "    )\n",
       "    </script>"
      ],
      "text/plain": [
       "<circuitsvis.utils.render.RenderedHTML at 0x7d5ff966df50>"
      ]
     },
     "metadata": {},
     "output_type": "display_data"
    },
    {
     "name": "stdout",
     "output_type": "stream",
     "text": [
      "Feature 22660\n"
     ]
    },
    {
     "data": {
      "text/html": [
       "<div id=\"circuits-vis-f9d1e8bd-4c5a\" style=\"margin: 15px 0;\"/>\n",
       "    <script crossorigin type=\"module\">\n",
       "    import { render, ColoredTokens } from \"https://unpkg.com/circuitsvis@1.43.2/dist/cdn/esm.js\";\n",
       "    render(\n",
       "      \"circuits-vis-f9d1e8bd-4c5a\",\n",
       "      ColoredTokens,\n",
       "      {\"tokens\": [\"<|endoftext|>\", \"When\", \" John\", \" and\", \" Mary\", \" went\", \" to\", \" the\", \" shops\", \",\", \" Mary\", \" gave\", \" the\", \" bag\", \" to\"], \"values\": [0.0, 0.0, 54.75065612792969, 0.0, 0.0, 0.0, 0.0, 0.0, 0.0, 0.0, 0.0, 0.0, 0.0, 0.0, 0.0]}\n",
       "    )\n",
       "    </script>"
      ],
      "text/plain": [
       "<circuitsvis.utils.render.RenderedHTML at 0x7d5ff9534fd0>"
      ]
     },
     "metadata": {},
     "output_type": "display_data"
    },
    {
     "data": {
      "text/html": [
       "<div id=\"circuits-vis-8891c67b-7b91\" style=\"margin: 15px 0;\"/>\n",
       "    <script crossorigin type=\"module\">\n",
       "    import { render, ColoredTokens } from \"https://unpkg.com/circuitsvis@1.43.2/dist/cdn/esm.js\";\n",
       "    render(\n",
       "      \"circuits-vis-8891c67b-7b91\",\n",
       "      ColoredTokens,\n",
       "      {\"tokens\": [\"<|endoftext|>\", \"When\", \" John\", \" and\", \" Mary\", \" went\", \" to\", \" the\", \" shops\", \",\", \" John\", \" gave\", \" the\", \" bag\", \" to\"], \"values\": [0.0, 0.0, 54.75065612792969, 0.0, 0.0, 0.0, 0.0, 0.0, 0.0, 0.0, 37.571353912353516, 0.0, 0.0, 0.0, 0.0]}\n",
       "    )\n",
       "    </script>"
      ],
      "text/plain": [
       "<circuitsvis.utils.render.RenderedHTML at 0x7d5ff94b1790>"
      ]
     },
     "metadata": {},
     "output_type": "display_data"
    },
    {
     "data": {
      "text/html": [
       "<div id=\"circuits-vis-2b5e1e83-67cb\" style=\"margin: 15px 0;\"/>\n",
       "    <script crossorigin type=\"module\">\n",
       "    import { render, ColoredTokens } from \"https://unpkg.com/circuitsvis@1.43.2/dist/cdn/esm.js\";\n",
       "    render(\n",
       "      \"circuits-vis-2b5e1e83-67cb\",\n",
       "      ColoredTokens,\n",
       "      {\"tokens\": [\"<|endoftext|>\", \"When\", \" Tom\", \" and\", \" James\", \" went\", \" to\", \" the\", \" park\", \",\", \" James\", \" gave\", \" the\", \" ball\", \" to\"], \"values\": [0.0, 0.0, 0.0, 0.0, 0.0, 0.0, 0.0, 0.0, 0.0, 0.0, 0.0, 0.0, 0.0, 0.0, 0.0]}\n",
       "    )\n",
       "    </script>"
      ],
      "text/plain": [
       "<circuitsvis.utils.render.RenderedHTML at 0x7d5ff94c9790>"
      ]
     },
     "metadata": {},
     "output_type": "display_data"
    },
    {
     "data": {
      "text/html": [
       "<div id=\"circuits-vis-006be7ae-1eed\" style=\"margin: 15px 0;\"/>\n",
       "    <script crossorigin type=\"module\">\n",
       "    import { render, ColoredTokens } from \"https://unpkg.com/circuitsvis@1.43.2/dist/cdn/esm.js\";\n",
       "    render(\n",
       "      \"circuits-vis-006be7ae-1eed\",\n",
       "      ColoredTokens,\n",
       "      {\"tokens\": [\"<|endoftext|>\", \"When\", \" Tom\", \" and\", \" James\", \" went\", \" to\", \" the\", \" park\", \",\", \" Tom\", \" gave\", \" the\", \" ball\", \" to\"], \"values\": [0.0, 0.0, 0.0, 0.0, 0.0, 0.0, 0.0, 0.0, 0.0, 0.0, 0.0, 0.0, 0.0, 0.0, 0.0]}\n",
       "    )\n",
       "    </script>"
      ],
      "text/plain": [
       "<circuitsvis.utils.render.RenderedHTML at 0x7d5ff95b8490>"
      ]
     },
     "metadata": {},
     "output_type": "display_data"
    },
    {
     "data": {
      "text/html": [
       "<div id=\"circuits-vis-7669633b-4813\" style=\"margin: 15px 0;\"/>\n",
       "    <script crossorigin type=\"module\">\n",
       "    import { render, ColoredTokens } from \"https://unpkg.com/circuitsvis@1.43.2/dist/cdn/esm.js\";\n",
       "    render(\n",
       "      \"circuits-vis-7669633b-4813\",\n",
       "      ColoredTokens,\n",
       "      {\"tokens\": [\"<|endoftext|>\", \"When\", \" Dan\", \" and\", \" Sid\", \" went\", \" to\", \" the\", \" shops\", \",\", \" Sid\", \" gave\", \" an\", \" apple\", \" to\"], \"values\": [0.0, 0.0, 0.0, 0.0, 0.0, 0.0, 0.0, 0.0, 0.0, 0.0, 0.0, 0.0, 0.0, 0.0, 0.0]}\n",
       "    )\n",
       "    </script>"
      ],
      "text/plain": [
       "<circuitsvis.utils.render.RenderedHTML at 0x7d5ff95b8490>"
      ]
     },
     "metadata": {},
     "output_type": "display_data"
    },
    {
     "data": {
      "text/html": [
       "<div id=\"circuits-vis-c69c116d-ac4d\" style=\"margin: 15px 0;\"/>\n",
       "    <script crossorigin type=\"module\">\n",
       "    import { render, ColoredTokens } from \"https://unpkg.com/circuitsvis@1.43.2/dist/cdn/esm.js\";\n",
       "    render(\n",
       "      \"circuits-vis-c69c116d-ac4d\",\n",
       "      ColoredTokens,\n",
       "      {\"tokens\": [\"<|endoftext|>\", \"When\", \" Dan\", \" and\", \" Sid\", \" went\", \" to\", \" the\", \" shops\", \",\", \" Dan\", \" gave\", \" an\", \" apple\", \" to\"], \"values\": [0.0, 0.0, 0.0, 0.0, 0.0, 0.0, 0.0, 0.0, 0.0, 0.0, 0.0, 0.0, 0.0, 0.0, 0.0]}\n",
       "    )\n",
       "    </script>"
      ],
      "text/plain": [
       "<circuitsvis.utils.render.RenderedHTML at 0x7d5ff95b8490>"
      ]
     },
     "metadata": {},
     "output_type": "display_data"
    },
    {
     "data": {
      "text/html": [
       "<div id=\"circuits-vis-3b8d1e47-0fab\" style=\"margin: 15px 0;\"/>\n",
       "    <script crossorigin type=\"module\">\n",
       "    import { render, ColoredTokens } from \"https://unpkg.com/circuitsvis@1.43.2/dist/cdn/esm.js\";\n",
       "    render(\n",
       "      \"circuits-vis-3b8d1e47-0fab\",\n",
       "      ColoredTokens,\n",
       "      {\"tokens\": [\"<|endoftext|>\", \"After\", \" Martin\", \" and\", \" Amy\", \" went\", \" to\", \" the\", \" park\", \",\", \" Amy\", \" gave\", \" a\", \" drink\", \" to\"], \"values\": [0.0, 0.0, 0.0, 0.0, 0.0, 0.0, 0.0, 0.0, 0.0, 0.0, 0.0, 0.0, 0.0, 0.0, 0.0]}\n",
       "    )\n",
       "    </script>"
      ],
      "text/plain": [
       "<circuitsvis.utils.render.RenderedHTML at 0x7d5ff95b8490>"
      ]
     },
     "metadata": {},
     "output_type": "display_data"
    },
    {
     "data": {
      "text/html": [
       "<div id=\"circuits-vis-eb360b6c-78f4\" style=\"margin: 15px 0;\"/>\n",
       "    <script crossorigin type=\"module\">\n",
       "    import { render, ColoredTokens } from \"https://unpkg.com/circuitsvis@1.43.2/dist/cdn/esm.js\";\n",
       "    render(\n",
       "      \"circuits-vis-eb360b6c-78f4\",\n",
       "      ColoredTokens,\n",
       "      {\"tokens\": [\"<|endoftext|>\", \"After\", \" Martin\", \" and\", \" Amy\", \" went\", \" to\", \" the\", \" park\", \",\", \" Martin\", \" gave\", \" a\", \" drink\", \" to\"], \"values\": [0.0, 0.0, 0.0, 0.0, 0.0, 0.0, 0.0, 0.0, 0.0, 0.0, 0.0, 0.0, 0.0, 0.0, 0.0]}\n",
       "    )\n",
       "    </script>"
      ],
      "text/plain": [
       "<circuitsvis.utils.render.RenderedHTML at 0x7d5ff95b8490>"
      ]
     },
     "metadata": {},
     "output_type": "display_data"
    },
    {
     "name": "stdout",
     "output_type": "stream",
     "text": [
      "Feature 12773\n"
     ]
    },
    {
     "data": {
      "text/html": [
       "<div id=\"circuits-vis-d0b48710-acf1\" style=\"margin: 15px 0;\"/>\n",
       "    <script crossorigin type=\"module\">\n",
       "    import { render, ColoredTokens } from \"https://unpkg.com/circuitsvis@1.43.2/dist/cdn/esm.js\";\n",
       "    render(\n",
       "      \"circuits-vis-d0b48710-acf1\",\n",
       "      ColoredTokens,\n",
       "      {\"tokens\": [\"<|endoftext|>\", \"When\", \" John\", \" and\", \" Mary\", \" went\", \" to\", \" the\", \" shops\", \",\", \" Mary\", \" gave\", \" the\", \" bag\", \" to\"], \"values\": [0.0, 0.0, 0.0, 0.0, 0.0, 0.0, 0.0, 0.0, 0.0, 0.0, 0.0, 0.0, 0.0, 0.0, 0.0]}\n",
       "    )\n",
       "    </script>"
      ],
      "text/plain": [
       "<circuitsvis.utils.render.RenderedHTML at 0x7d5ff94a0d10>"
      ]
     },
     "metadata": {},
     "output_type": "display_data"
    },
    {
     "data": {
      "text/html": [
       "<div id=\"circuits-vis-5130700a-705e\" style=\"margin: 15px 0;\"/>\n",
       "    <script crossorigin type=\"module\">\n",
       "    import { render, ColoredTokens } from \"https://unpkg.com/circuitsvis@1.43.2/dist/cdn/esm.js\";\n",
       "    render(\n",
       "      \"circuits-vis-5130700a-705e\",\n",
       "      ColoredTokens,\n",
       "      {\"tokens\": [\"<|endoftext|>\", \"When\", \" John\", \" and\", \" Mary\", \" went\", \" to\", \" the\", \" shops\", \",\", \" John\", \" gave\", \" the\", \" bag\", \" to\"], \"values\": [0.0, 0.0, 0.0, 0.0, 0.0, 0.0, 0.0, 0.0, 0.0, 0.0, 0.0, 0.0, 0.0, 0.0, 0.0]}\n",
       "    )\n",
       "    </script>"
      ],
      "text/plain": [
       "<circuitsvis.utils.render.RenderedHTML at 0x7d5ff9408490>"
      ]
     },
     "metadata": {},
     "output_type": "display_data"
    },
    {
     "data": {
      "text/html": [
       "<div id=\"circuits-vis-9502f48b-d367\" style=\"margin: 15px 0;\"/>\n",
       "    <script crossorigin type=\"module\">\n",
       "    import { render, ColoredTokens } from \"https://unpkg.com/circuitsvis@1.43.2/dist/cdn/esm.js\";\n",
       "    render(\n",
       "      \"circuits-vis-9502f48b-d367\",\n",
       "      ColoredTokens,\n",
       "      {\"tokens\": [\"<|endoftext|>\", \"When\", \" Tom\", \" and\", \" James\", \" went\", \" to\", \" the\", \" park\", \",\", \" James\", \" gave\", \" the\", \" ball\", \" to\"], \"values\": [0.0, 0.0, 0.0, 0.0, 0.0, 0.0, 0.0, 0.0, 0.0, 0.0, 0.0, 0.0, 0.0, 0.0, 0.0]}\n",
       "    )\n",
       "    </script>"
      ],
      "text/plain": [
       "<circuitsvis.utils.render.RenderedHTML at 0x7d5ff94c9510>"
      ]
     },
     "metadata": {},
     "output_type": "display_data"
    },
    {
     "data": {
      "text/html": [
       "<div id=\"circuits-vis-d31a79ef-bbf8\" style=\"margin: 15px 0;\"/>\n",
       "    <script crossorigin type=\"module\">\n",
       "    import { render, ColoredTokens } from \"https://unpkg.com/circuitsvis@1.43.2/dist/cdn/esm.js\";\n",
       "    render(\n",
       "      \"circuits-vis-d31a79ef-bbf8\",\n",
       "      ColoredTokens,\n",
       "      {\"tokens\": [\"<|endoftext|>\", \"When\", \" Tom\", \" and\", \" James\", \" went\", \" to\", \" the\", \" park\", \",\", \" Tom\", \" gave\", \" the\", \" ball\", \" to\"], \"values\": [0.0, 0.0, 0.0, 0.0, 0.0, 0.0, 0.0, 0.0, 0.0, 0.0, 0.0, 0.0, 0.0, 0.0, 0.0]}\n",
       "    )\n",
       "    </script>"
      ],
      "text/plain": [
       "<circuitsvis.utils.render.RenderedHTML at 0x7d5ff98e4d90>"
      ]
     },
     "metadata": {},
     "output_type": "display_data"
    },
    {
     "data": {
      "text/html": [
       "<div id=\"circuits-vis-9507d0e2-2f1e\" style=\"margin: 15px 0;\"/>\n",
       "    <script crossorigin type=\"module\">\n",
       "    import { render, ColoredTokens } from \"https://unpkg.com/circuitsvis@1.43.2/dist/cdn/esm.js\";\n",
       "    render(\n",
       "      \"circuits-vis-9507d0e2-2f1e\",\n",
       "      ColoredTokens,\n",
       "      {\"tokens\": [\"<|endoftext|>\", \"When\", \" Dan\", \" and\", \" Sid\", \" went\", \" to\", \" the\", \" shops\", \",\", \" Sid\", \" gave\", \" an\", \" apple\", \" to\"], \"values\": [0.0, 0.0, 0.0, 0.0, 0.0, 0.0, 0.0, 0.0, 0.0, 0.0, 0.0, 0.0, 0.0, 0.0, 0.0]}\n",
       "    )\n",
       "    </script>"
      ],
      "text/plain": [
       "<circuitsvis.utils.render.RenderedHTML at 0x7d5ff9817210>"
      ]
     },
     "metadata": {},
     "output_type": "display_data"
    },
    {
     "data": {
      "text/html": [
       "<div id=\"circuits-vis-3ac6444a-34d7\" style=\"margin: 15px 0;\"/>\n",
       "    <script crossorigin type=\"module\">\n",
       "    import { render, ColoredTokens } from \"https://unpkg.com/circuitsvis@1.43.2/dist/cdn/esm.js\";\n",
       "    render(\n",
       "      \"circuits-vis-3ac6444a-34d7\",\n",
       "      ColoredTokens,\n",
       "      {\"tokens\": [\"<|endoftext|>\", \"When\", \" Dan\", \" and\", \" Sid\", \" went\", \" to\", \" the\", \" shops\", \",\", \" Dan\", \" gave\", \" an\", \" apple\", \" to\"], \"values\": [0.0, 0.0, 0.0, 0.0, 0.0, 0.0, 0.0, 0.0, 0.0, 0.0, 0.0, 0.0, 0.0, 0.0, 0.0]}\n",
       "    )\n",
       "    </script>"
      ],
      "text/plain": [
       "<circuitsvis.utils.render.RenderedHTML at 0x7d5ff9817210>"
      ]
     },
     "metadata": {},
     "output_type": "display_data"
    },
    {
     "data": {
      "text/html": [
       "<div id=\"circuits-vis-72f96f1c-07ae\" style=\"margin: 15px 0;\"/>\n",
       "    <script crossorigin type=\"module\">\n",
       "    import { render, ColoredTokens } from \"https://unpkg.com/circuitsvis@1.43.2/dist/cdn/esm.js\";\n",
       "    render(\n",
       "      \"circuits-vis-72f96f1c-07ae\",\n",
       "      ColoredTokens,\n",
       "      {\"tokens\": [\"<|endoftext|>\", \"After\", \" Martin\", \" and\", \" Amy\", \" went\", \" to\", \" the\", \" park\", \",\", \" Amy\", \" gave\", \" a\", \" drink\", \" to\"], \"values\": [0.0, 0.0, 0.0, 0.0, 52.44001770019531, 0.0, 0.0, 0.0, 0.0, 0.0, 46.01648712158203, 0.0, 0.0, 0.0, 0.0]}\n",
       "    )\n",
       "    </script>"
      ],
      "text/plain": [
       "<circuitsvis.utils.render.RenderedHTML at 0x7d5ff9417a90>"
      ]
     },
     "metadata": {},
     "output_type": "display_data"
    },
    {
     "data": {
      "text/html": [
       "<div id=\"circuits-vis-ab411bde-47aa\" style=\"margin: 15px 0;\"/>\n",
       "    <script crossorigin type=\"module\">\n",
       "    import { render, ColoredTokens } from \"https://unpkg.com/circuitsvis@1.43.2/dist/cdn/esm.js\";\n",
       "    render(\n",
       "      \"circuits-vis-ab411bde-47aa\",\n",
       "      ColoredTokens,\n",
       "      {\"tokens\": [\"<|endoftext|>\", \"After\", \" Martin\", \" and\", \" Amy\", \" went\", \" to\", \" the\", \" park\", \",\", \" Martin\", \" gave\", \" a\", \" drink\", \" to\"], \"values\": [0.0, 0.0, 0.0, 0.0, 52.44001770019531, 0.0, 0.0, 0.0, 0.0, 0.0, 0.0, 0.0, 0.0, 0.0, 0.0]}\n",
       "    )\n",
       "    </script>"
      ],
      "text/plain": [
       "<circuitsvis.utils.render.RenderedHTML at 0x7d5ff9417a90>"
      ]
     },
     "metadata": {},
     "output_type": "display_data"
    },
    {
     "name": "stdout",
     "output_type": "stream",
     "text": [
      "Feature 15130\n"
     ]
    },
    {
     "data": {
      "text/html": [
       "<div id=\"circuits-vis-306f4269-d9af\" style=\"margin: 15px 0;\"/>\n",
       "    <script crossorigin type=\"module\">\n",
       "    import { render, ColoredTokens } from \"https://unpkg.com/circuitsvis@1.43.2/dist/cdn/esm.js\";\n",
       "    render(\n",
       "      \"circuits-vis-306f4269-d9af\",\n",
       "      ColoredTokens,\n",
       "      {\"tokens\": [\"<|endoftext|>\", \"When\", \" John\", \" and\", \" Mary\", \" went\", \" to\", \" the\", \" shops\", \",\", \" Mary\", \" gave\", \" the\", \" bag\", \" to\"], \"values\": [0.0, 0.0, 0.0, 0.0, 0.0, 0.0, 0.0, 0.0, 0.0, 0.0, 0.0, 0.0, 0.0, 0.0, 0.0]}\n",
       "    )\n",
       "    </script>"
      ],
      "text/plain": [
       "<circuitsvis.utils.render.RenderedHTML at 0x7d5ff9ee7a50>"
      ]
     },
     "metadata": {},
     "output_type": "display_data"
    },
    {
     "data": {
      "text/html": [
       "<div id=\"circuits-vis-5ee9e596-50c9\" style=\"margin: 15px 0;\"/>\n",
       "    <script crossorigin type=\"module\">\n",
       "    import { render, ColoredTokens } from \"https://unpkg.com/circuitsvis@1.43.2/dist/cdn/esm.js\";\n",
       "    render(\n",
       "      \"circuits-vis-5ee9e596-50c9\",\n",
       "      ColoredTokens,\n",
       "      {\"tokens\": [\"<|endoftext|>\", \"When\", \" John\", \" and\", \" Mary\", \" went\", \" to\", \" the\", \" shops\", \",\", \" John\", \" gave\", \" the\", \" bag\", \" to\"], \"values\": [0.0, 0.0, 0.0, 0.0, 0.0, 0.0, 0.0, 0.0, 0.0, 0.0, 0.0, 0.0, 0.0, 0.0, 0.0]}\n",
       "    )\n",
       "    </script>"
      ],
      "text/plain": [
       "<circuitsvis.utils.render.RenderedHTML at 0x7d5ff9408490>"
      ]
     },
     "metadata": {},
     "output_type": "display_data"
    },
    {
     "data": {
      "text/html": [
       "<div id=\"circuits-vis-ca24bddc-a376\" style=\"margin: 15px 0;\"/>\n",
       "    <script crossorigin type=\"module\">\n",
       "    import { render, ColoredTokens } from \"https://unpkg.com/circuitsvis@1.43.2/dist/cdn/esm.js\";\n",
       "    render(\n",
       "      \"circuits-vis-ca24bddc-a376\",\n",
       "      ColoredTokens,\n",
       "      {\"tokens\": [\"<|endoftext|>\", \"When\", \" Tom\", \" and\", \" James\", \" went\", \" to\", \" the\", \" park\", \",\", \" James\", \" gave\", \" the\", \" ball\", \" to\"], \"values\": [0.0, 0.0, 67.68154907226562, 0.0, 0.0, 0.0, 0.0, 0.0, 0.0, 0.0, 0.0, 0.0, 0.0, 0.0, 0.0]}\n",
       "    )\n",
       "    </script>"
      ],
      "text/plain": [
       "<circuitsvis.utils.render.RenderedHTML at 0x7d5ff94bcfd0>"
      ]
     },
     "metadata": {},
     "output_type": "display_data"
    },
    {
     "data": {
      "text/html": [
       "<div id=\"circuits-vis-fce18b2f-efeb\" style=\"margin: 15px 0;\"/>\n",
       "    <script crossorigin type=\"module\">\n",
       "    import { render, ColoredTokens } from \"https://unpkg.com/circuitsvis@1.43.2/dist/cdn/esm.js\";\n",
       "    render(\n",
       "      \"circuits-vis-fce18b2f-efeb\",\n",
       "      ColoredTokens,\n",
       "      {\"tokens\": [\"<|endoftext|>\", \"When\", \" Tom\", \" and\", \" James\", \" went\", \" to\", \" the\", \" park\", \",\", \" Tom\", \" gave\", \" the\", \" ball\", \" to\"], \"values\": [0.0, 0.0, 67.68154907226562, 0.0, 0.0, 0.0, 0.0, 0.0, 0.0, 0.0, 41.10932159423828, 0.0, 0.0, 0.0, 0.0]}\n",
       "    )\n",
       "    </script>"
      ],
      "text/plain": [
       "<circuitsvis.utils.render.RenderedHTML at 0x7d5ff94bcfd0>"
      ]
     },
     "metadata": {},
     "output_type": "display_data"
    },
    {
     "data": {
      "text/html": [
       "<div id=\"circuits-vis-22cfa980-1e2c\" style=\"margin: 15px 0;\"/>\n",
       "    <script crossorigin type=\"module\">\n",
       "    import { render, ColoredTokens } from \"https://unpkg.com/circuitsvis@1.43.2/dist/cdn/esm.js\";\n",
       "    render(\n",
       "      \"circuits-vis-22cfa980-1e2c\",\n",
       "      ColoredTokens,\n",
       "      {\"tokens\": [\"<|endoftext|>\", \"When\", \" Dan\", \" and\", \" Sid\", \" went\", \" to\", \" the\", \" shops\", \",\", \" Sid\", \" gave\", \" an\", \" apple\", \" to\"], \"values\": [0.0, 0.0, 0.0, 0.0, 0.0, 0.0, 0.0, 0.0, 0.0, 0.0, 0.0, 0.0, 0.0, 0.0, 0.0]}\n",
       "    )\n",
       "    </script>"
      ],
      "text/plain": [
       "<circuitsvis.utils.render.RenderedHTML at 0x7d5ff95b8410>"
      ]
     },
     "metadata": {},
     "output_type": "display_data"
    },
    {
     "data": {
      "text/html": [
       "<div id=\"circuits-vis-8b170adc-7f54\" style=\"margin: 15px 0;\"/>\n",
       "    <script crossorigin type=\"module\">\n",
       "    import { render, ColoredTokens } from \"https://unpkg.com/circuitsvis@1.43.2/dist/cdn/esm.js\";\n",
       "    render(\n",
       "      \"circuits-vis-8b170adc-7f54\",\n",
       "      ColoredTokens,\n",
       "      {\"tokens\": [\"<|endoftext|>\", \"When\", \" Dan\", \" and\", \" Sid\", \" went\", \" to\", \" the\", \" shops\", \",\", \" Dan\", \" gave\", \" an\", \" apple\", \" to\"], \"values\": [0.0, 0.0, 0.0, 0.0, 0.0, 0.0, 0.0, 0.0, 0.0, 0.0, 0.0, 0.0, 0.0, 0.0, 0.0]}\n",
       "    )\n",
       "    </script>"
      ],
      "text/plain": [
       "<circuitsvis.utils.render.RenderedHTML at 0x7d5ff95b8410>"
      ]
     },
     "metadata": {},
     "output_type": "display_data"
    },
    {
     "data": {
      "text/html": [
       "<div id=\"circuits-vis-38ce1fdc-b7e5\" style=\"margin: 15px 0;\"/>\n",
       "    <script crossorigin type=\"module\">\n",
       "    import { render, ColoredTokens } from \"https://unpkg.com/circuitsvis@1.43.2/dist/cdn/esm.js\";\n",
       "    render(\n",
       "      \"circuits-vis-38ce1fdc-b7e5\",\n",
       "      ColoredTokens,\n",
       "      {\"tokens\": [\"<|endoftext|>\", \"After\", \" Martin\", \" and\", \" Amy\", \" went\", \" to\", \" the\", \" park\", \",\", \" Amy\", \" gave\", \" a\", \" drink\", \" to\"], \"values\": [0.0, 0.0, 0.0, 0.0, 0.0, 0.0, 0.0, 0.0, 0.0, 0.0, 0.0, 0.0, 0.0, 0.0, 0.0]}\n",
       "    )\n",
       "    </script>"
      ],
      "text/plain": [
       "<circuitsvis.utils.render.RenderedHTML at 0x7d5ff966c810>"
      ]
     },
     "metadata": {},
     "output_type": "display_data"
    },
    {
     "data": {
      "text/html": [
       "<div id=\"circuits-vis-e0b563d1-0a08\" style=\"margin: 15px 0;\"/>\n",
       "    <script crossorigin type=\"module\">\n",
       "    import { render, ColoredTokens } from \"https://unpkg.com/circuitsvis@1.43.2/dist/cdn/esm.js\";\n",
       "    render(\n",
       "      \"circuits-vis-e0b563d1-0a08\",\n",
       "      ColoredTokens,\n",
       "      {\"tokens\": [\"<|endoftext|>\", \"After\", \" Martin\", \" and\", \" Amy\", \" went\", \" to\", \" the\", \" park\", \",\", \" Martin\", \" gave\", \" a\", \" drink\", \" to\"], \"values\": [0.0, 0.0, 0.0, 0.0, 0.0, 0.0, 0.0, 0.0, 0.0, 0.0, 0.0, 0.0, 0.0, 0.0, 0.0]}\n",
       "    )\n",
       "    </script>"
      ],
      "text/plain": [
       "<circuitsvis.utils.render.RenderedHTML at 0x7d5ff943bc50>"
      ]
     },
     "metadata": {},
     "output_type": "display_data"
    },
    {
     "name": "stdout",
     "output_type": "stream",
     "text": [
      "Feature 600\n"
     ]
    },
    {
     "data": {
      "text/html": [
       "<div id=\"circuits-vis-40b75eb7-981b\" style=\"margin: 15px 0;\"/>\n",
       "    <script crossorigin type=\"module\">\n",
       "    import { render, ColoredTokens } from \"https://unpkg.com/circuitsvis@1.43.2/dist/cdn/esm.js\";\n",
       "    render(\n",
       "      \"circuits-vis-40b75eb7-981b\",\n",
       "      ColoredTokens,\n",
       "      {\"tokens\": [\"<|endoftext|>\", \"When\", \" John\", \" and\", \" Mary\", \" went\", \" to\", \" the\", \" shops\", \",\", \" Mary\", \" gave\", \" the\", \" bag\", \" to\"], \"values\": [0.0, 0.0, 0.0, 0.0, 0.0, 0.0, 0.0, 0.0, 0.0, 0.0, 0.0, 12.134788513183594, 1.4896347522735596, 0.0, 0.0]}\n",
       "    )\n",
       "    </script>"
      ],
      "text/plain": [
       "<circuitsvis.utils.render.RenderedHTML at 0x7d5ff943b2d0>"
      ]
     },
     "metadata": {},
     "output_type": "display_data"
    },
    {
     "data": {
      "text/html": [
       "<div id=\"circuits-vis-69127c69-9ad2\" style=\"margin: 15px 0;\"/>\n",
       "    <script crossorigin type=\"module\">\n",
       "    import { render, ColoredTokens } from \"https://unpkg.com/circuitsvis@1.43.2/dist/cdn/esm.js\";\n",
       "    render(\n",
       "      \"circuits-vis-69127c69-9ad2\",\n",
       "      ColoredTokens,\n",
       "      {\"tokens\": [\"<|endoftext|>\", \"When\", \" John\", \" and\", \" Mary\", \" went\", \" to\", \" the\", \" shops\", \",\", \" John\", \" gave\", \" the\", \" bag\", \" to\"], \"values\": [0.0, 0.0, 0.0, 0.0, 0.0, 0.0, 0.0, 0.0, 0.0, 0.0, 0.0, 0.0, 0.0, 0.0, 0.0]}\n",
       "    )\n",
       "    </script>"
      ],
      "text/plain": [
       "<circuitsvis.utils.render.RenderedHTML at 0x7d5ff943b2d0>"
      ]
     },
     "metadata": {},
     "output_type": "display_data"
    },
    {
     "data": {
      "text/html": [
       "<div id=\"circuits-vis-f30eff4d-7f5f\" style=\"margin: 15px 0;\"/>\n",
       "    <script crossorigin type=\"module\">\n",
       "    import { render, ColoredTokens } from \"https://unpkg.com/circuitsvis@1.43.2/dist/cdn/esm.js\";\n",
       "    render(\n",
       "      \"circuits-vis-f30eff4d-7f5f\",\n",
       "      ColoredTokens,\n",
       "      {\"tokens\": [\"<|endoftext|>\", \"When\", \" Tom\", \" and\", \" James\", \" went\", \" to\", \" the\", \" park\", \",\", \" James\", \" gave\", \" the\", \" ball\", \" to\"], \"values\": [0.0, 0.0, 0.0, 0.0, 0.0, 0.0, 0.0, 0.0, 0.0, 0.0, 0.0, 0.0, 0.0, 0.0, 0.0]}\n",
       "    )\n",
       "    </script>"
      ],
      "text/plain": [
       "<circuitsvis.utils.render.RenderedHTML at 0x7d5ff9479010>"
      ]
     },
     "metadata": {},
     "output_type": "display_data"
    },
    {
     "data": {
      "text/html": [
       "<div id=\"circuits-vis-0b407c0e-0d2d\" style=\"margin: 15px 0;\"/>\n",
       "    <script crossorigin type=\"module\">\n",
       "    import { render, ColoredTokens } from \"https://unpkg.com/circuitsvis@1.43.2/dist/cdn/esm.js\";\n",
       "    render(\n",
       "      \"circuits-vis-0b407c0e-0d2d\",\n",
       "      ColoredTokens,\n",
       "      {\"tokens\": [\"<|endoftext|>\", \"When\", \" Tom\", \" and\", \" James\", \" went\", \" to\", \" the\", \" park\", \",\", \" Tom\", \" gave\", \" the\", \" ball\", \" to\"], \"values\": [0.0, 0.0, 0.0, 0.0, 0.0, 0.0, 0.0, 0.0, 0.0, 0.0, 0.0, 0.0, 0.0, 0.0, 0.0]}\n",
       "    )\n",
       "    </script>"
      ],
      "text/plain": [
       "<circuitsvis.utils.render.RenderedHTML at 0x7d5ff94cacd0>"
      ]
     },
     "metadata": {},
     "output_type": "display_data"
    },
    {
     "data": {
      "text/html": [
       "<div id=\"circuits-vis-4ff3713f-6cdc\" style=\"margin: 15px 0;\"/>\n",
       "    <script crossorigin type=\"module\">\n",
       "    import { render, ColoredTokens } from \"https://unpkg.com/circuitsvis@1.43.2/dist/cdn/esm.js\";\n",
       "    render(\n",
       "      \"circuits-vis-4ff3713f-6cdc\",\n",
       "      ColoredTokens,\n",
       "      {\"tokens\": [\"<|endoftext|>\", \"When\", \" Dan\", \" and\", \" Sid\", \" went\", \" to\", \" the\", \" shops\", \",\", \" Sid\", \" gave\", \" an\", \" apple\", \" to\"], \"values\": [0.0, 0.0, 0.0, 0.0, 0.0, 0.0, 0.0, 0.0, 0.0, 0.0, 0.0, 0.0, 0.0, 0.0, 0.05196015536785126]}\n",
       "    )\n",
       "    </script>"
      ],
      "text/plain": [
       "<circuitsvis.utils.render.RenderedHTML at 0x7d5ff94bcfd0>"
      ]
     },
     "metadata": {},
     "output_type": "display_data"
    },
    {
     "data": {
      "text/html": [
       "<div id=\"circuits-vis-ddd20cb6-5bb3\" style=\"margin: 15px 0;\"/>\n",
       "    <script crossorigin type=\"module\">\n",
       "    import { render, ColoredTokens } from \"https://unpkg.com/circuitsvis@1.43.2/dist/cdn/esm.js\";\n",
       "    render(\n",
       "      \"circuits-vis-ddd20cb6-5bb3\",\n",
       "      ColoredTokens,\n",
       "      {\"tokens\": [\"<|endoftext|>\", \"When\", \" Dan\", \" and\", \" Sid\", \" went\", \" to\", \" the\", \" shops\", \",\", \" Dan\", \" gave\", \" an\", \" apple\", \" to\"], \"values\": [0.0, 0.0, 0.0, 0.0, 0.0, 0.0, 0.0, 0.0, 0.0, 0.0, 0.0, 0.0, 0.0, 0.0, 0.416948139667511]}\n",
       "    )\n",
       "    </script>"
      ],
      "text/plain": [
       "<circuitsvis.utils.render.RenderedHTML at 0x7d5ff947e350>"
      ]
     },
     "metadata": {},
     "output_type": "display_data"
    },
    {
     "data": {
      "text/html": [
       "<div id=\"circuits-vis-4663701a-9c22\" style=\"margin: 15px 0;\"/>\n",
       "    <script crossorigin type=\"module\">\n",
       "    import { render, ColoredTokens } from \"https://unpkg.com/circuitsvis@1.43.2/dist/cdn/esm.js\";\n",
       "    render(\n",
       "      \"circuits-vis-4663701a-9c22\",\n",
       "      ColoredTokens,\n",
       "      {\"tokens\": [\"<|endoftext|>\", \"After\", \" Martin\", \" and\", \" Amy\", \" went\", \" to\", \" the\", \" park\", \",\", \" Amy\", \" gave\", \" a\", \" drink\", \" to\"], \"values\": [0.0, 0.0, 0.0, 0.0, 0.0, 0.0, 0.0, 0.0, 0.0, 0.0, 0.0, 9.008899688720703, 2.6104187965393066, 0.0, 2.4525344371795654]}\n",
       "    )\n",
       "    </script>"
      ],
      "text/plain": [
       "<circuitsvis.utils.render.RenderedHTML at 0x7d5ff947fe90>"
      ]
     },
     "metadata": {},
     "output_type": "display_data"
    },
    {
     "data": {
      "text/html": [
       "<div id=\"circuits-vis-ea62a561-5f8f\" style=\"margin: 15px 0;\"/>\n",
       "    <script crossorigin type=\"module\">\n",
       "    import { render, ColoredTokens } from \"https://unpkg.com/circuitsvis@1.43.2/dist/cdn/esm.js\";\n",
       "    render(\n",
       "      \"circuits-vis-ea62a561-5f8f\",\n",
       "      ColoredTokens,\n",
       "      {\"tokens\": [\"<|endoftext|>\", \"After\", \" Martin\", \" and\", \" Amy\", \" went\", \" to\", \" the\", \" park\", \",\", \" Martin\", \" gave\", \" a\", \" drink\", \" to\"], \"values\": [0.0, 0.0, 0.0, 0.0, 0.0, 0.0, 0.0, 0.0, 0.0, 0.0, 0.0, 0.0, 0.0, 0.0, 0.36474502086639404]}\n",
       "    )\n",
       "    </script>"
      ],
      "text/plain": [
       "<circuitsvis.utils.render.RenderedHTML at 0x7d5ff947fe90>"
      ]
     },
     "metadata": {},
     "output_type": "display_data"
    },
    {
     "name": "stdout",
     "output_type": "stream",
     "text": [
      "Feature 15434\n"
     ]
    },
    {
     "data": {
      "text/html": [
       "<div id=\"circuits-vis-492383d1-d3d0\" style=\"margin: 15px 0;\"/>\n",
       "    <script crossorigin type=\"module\">\n",
       "    import { render, ColoredTokens } from \"https://unpkg.com/circuitsvis@1.43.2/dist/cdn/esm.js\";\n",
       "    render(\n",
       "      \"circuits-vis-492383d1-d3d0\",\n",
       "      ColoredTokens,\n",
       "      {\"tokens\": [\"<|endoftext|>\", \"When\", \" John\", \" and\", \" Mary\", \" went\", \" to\", \" the\", \" shops\", \",\", \" Mary\", \" gave\", \" the\", \" bag\", \" to\"], \"values\": [0.0, 0.0, 0.0, 0.0, 0.0, 0.0, 0.0, 0.0, 0.0, 0.0, 0.0, 0.0, 0.0, 0.0, 0.0]}\n",
       "    )\n",
       "    </script>"
      ],
      "text/plain": [
       "<circuitsvis.utils.render.RenderedHTML at 0x7d600f97de90>"
      ]
     },
     "metadata": {},
     "output_type": "display_data"
    },
    {
     "data": {
      "text/html": [
       "<div id=\"circuits-vis-614891a7-a255\" style=\"margin: 15px 0;\"/>\n",
       "    <script crossorigin type=\"module\">\n",
       "    import { render, ColoredTokens } from \"https://unpkg.com/circuitsvis@1.43.2/dist/cdn/esm.js\";\n",
       "    render(\n",
       "      \"circuits-vis-614891a7-a255\",\n",
       "      ColoredTokens,\n",
       "      {\"tokens\": [\"<|endoftext|>\", \"When\", \" John\", \" and\", \" Mary\", \" went\", \" to\", \" the\", \" shops\", \",\", \" John\", \" gave\", \" the\", \" bag\", \" to\"], \"values\": [0.0, 0.0, 0.0, 0.0, 0.0, 0.0, 0.0, 0.0, 0.0, 0.0, 0.0, 0.0, 0.0, 0.0, 0.0]}\n",
       "    )\n",
       "    </script>"
      ],
      "text/plain": [
       "<circuitsvis.utils.render.RenderedHTML at 0x7d600f97de90>"
      ]
     },
     "metadata": {},
     "output_type": "display_data"
    },
    {
     "data": {
      "text/html": [
       "<div id=\"circuits-vis-a1f1d222-f93b\" style=\"margin: 15px 0;\"/>\n",
       "    <script crossorigin type=\"module\">\n",
       "    import { render, ColoredTokens } from \"https://unpkg.com/circuitsvis@1.43.2/dist/cdn/esm.js\";\n",
       "    render(\n",
       "      \"circuits-vis-a1f1d222-f93b\",\n",
       "      ColoredTokens,\n",
       "      {\"tokens\": [\"<|endoftext|>\", \"When\", \" Tom\", \" and\", \" James\", \" went\", \" to\", \" the\", \" park\", \",\", \" James\", \" gave\", \" the\", \" ball\", \" to\"], \"values\": [0.0, 0.0, 0.0, 0.0, 0.0, 0.0, 0.0, 0.0, 0.0, 0.0, 2.7507576942443848, 0.0, 0.0, 0.0, 0.0]}\n",
       "    )\n",
       "    </script>"
      ],
      "text/plain": [
       "<circuitsvis.utils.render.RenderedHTML at 0x7d5ff9534fd0>"
      ]
     },
     "metadata": {},
     "output_type": "display_data"
    },
    {
     "data": {
      "text/html": [
       "<div id=\"circuits-vis-493017fc-d4eb\" style=\"margin: 15px 0;\"/>\n",
       "    <script crossorigin type=\"module\">\n",
       "    import { render, ColoredTokens } from \"https://unpkg.com/circuitsvis@1.43.2/dist/cdn/esm.js\";\n",
       "    render(\n",
       "      \"circuits-vis-493017fc-d4eb\",\n",
       "      ColoredTokens,\n",
       "      {\"tokens\": [\"<|endoftext|>\", \"When\", \" Tom\", \" and\", \" James\", \" went\", \" to\", \" the\", \" park\", \",\", \" Tom\", \" gave\", \" the\", \" ball\", \" to\"], \"values\": [0.0, 0.0, 0.0, 0.0, 0.0, 0.0, 0.0, 0.0, 0.0, 0.0, 0.0, 0.0, 0.0, 0.0, 0.0]}\n",
       "    )\n",
       "    </script>"
      ],
      "text/plain": [
       "<circuitsvis.utils.render.RenderedHTML at 0x7d5ff94b3f50>"
      ]
     },
     "metadata": {},
     "output_type": "display_data"
    },
    {
     "data": {
      "text/html": [
       "<div id=\"circuits-vis-fa29ceac-f1a1\" style=\"margin: 15px 0;\"/>\n",
       "    <script crossorigin type=\"module\">\n",
       "    import { render, ColoredTokens } from \"https://unpkg.com/circuitsvis@1.43.2/dist/cdn/esm.js\";\n",
       "    render(\n",
       "      \"circuits-vis-fa29ceac-f1a1\",\n",
       "      ColoredTokens,\n",
       "      {\"tokens\": [\"<|endoftext|>\", \"When\", \" Dan\", \" and\", \" Sid\", \" went\", \" to\", \" the\", \" shops\", \",\", \" Sid\", \" gave\", \" an\", \" apple\", \" to\"], \"values\": [0.0, 0.0, 0.0, 0.0, 0.0, 0.0, 0.0, 0.0, 0.0, 0.0, 3.6154074668884277, 0.0, 0.0, 0.0, 0.0]}\n",
       "    )\n",
       "    </script>"
      ],
      "text/plain": [
       "<circuitsvis.utils.render.RenderedHTML at 0x7d5ff9817210>"
      ]
     },
     "metadata": {},
     "output_type": "display_data"
    },
    {
     "data": {
      "text/html": [
       "<div id=\"circuits-vis-a5843a14-45f4\" style=\"margin: 15px 0;\"/>\n",
       "    <script crossorigin type=\"module\">\n",
       "    import { render, ColoredTokens } from \"https://unpkg.com/circuitsvis@1.43.2/dist/cdn/esm.js\";\n",
       "    render(\n",
       "      \"circuits-vis-a5843a14-45f4\",\n",
       "      ColoredTokens,\n",
       "      {\"tokens\": [\"<|endoftext|>\", \"When\", \" Dan\", \" and\", \" Sid\", \" went\", \" to\", \" the\", \" shops\", \",\", \" Dan\", \" gave\", \" an\", \" apple\", \" to\"], \"values\": [0.0, 0.0, 0.0, 0.0, 0.0, 0.0, 0.0, 0.0, 0.0, 0.0, 0.28937527537345886, 0.0, 0.0, 0.0, 0.0]}\n",
       "    )\n",
       "    </script>"
      ],
      "text/plain": [
       "<circuitsvis.utils.render.RenderedHTML at 0x7d5ff9817210>"
      ]
     },
     "metadata": {},
     "output_type": "display_data"
    },
    {
     "data": {
      "text/html": [
       "<div id=\"circuits-vis-eea8caa3-ee03\" style=\"margin: 15px 0;\"/>\n",
       "    <script crossorigin type=\"module\">\n",
       "    import { render, ColoredTokens } from \"https://unpkg.com/circuitsvis@1.43.2/dist/cdn/esm.js\";\n",
       "    render(\n",
       "      \"circuits-vis-eea8caa3-ee03\",\n",
       "      ColoredTokens,\n",
       "      {\"tokens\": [\"<|endoftext|>\", \"After\", \" Martin\", \" and\", \" Amy\", \" went\", \" to\", \" the\", \" park\", \",\", \" Amy\", \" gave\", \" a\", \" drink\", \" to\"], \"values\": [0.0, 0.0, 0.0, 0.0, 0.0, 0.0, 0.0, 0.0, 0.0, 0.0, 1.6348555088043213, 0.0, 0.0, 0.0, 0.0]}\n",
       "    )\n",
       "    </script>"
      ],
      "text/plain": [
       "<circuitsvis.utils.render.RenderedHTML at 0x7d5ff951f210>"
      ]
     },
     "metadata": {},
     "output_type": "display_data"
    },
    {
     "data": {
      "text/html": [
       "<div id=\"circuits-vis-6812304e-d763\" style=\"margin: 15px 0;\"/>\n",
       "    <script crossorigin type=\"module\">\n",
       "    import { render, ColoredTokens } from \"https://unpkg.com/circuitsvis@1.43.2/dist/cdn/esm.js\";\n",
       "    render(\n",
       "      \"circuits-vis-6812304e-d763\",\n",
       "      ColoredTokens,\n",
       "      {\"tokens\": [\"<|endoftext|>\", \"After\", \" Martin\", \" and\", \" Amy\", \" went\", \" to\", \" the\", \" park\", \",\", \" Martin\", \" gave\", \" a\", \" drink\", \" to\"], \"values\": [0.0, 0.0, 0.0, 0.0, 0.0, 0.0, 0.0, 0.0, 0.0, 0.0, 0.5952565670013428, 0.0, 0.0, 0.0, 0.0]}\n",
       "    )\n",
       "    </script>"
      ],
      "text/plain": [
       "<circuitsvis.utils.render.RenderedHTML at 0x7d5ff94bf150>"
      ]
     },
     "metadata": {},
     "output_type": "display_data"
    },
    {
     "name": "stdout",
     "output_type": "stream",
     "text": [
      "Feature 6310\n"
     ]
    },
    {
     "data": {
      "text/html": [
       "<div id=\"circuits-vis-c844abfb-d90f\" style=\"margin: 15px 0;\"/>\n",
       "    <script crossorigin type=\"module\">\n",
       "    import { render, ColoredTokens } from \"https://unpkg.com/circuitsvis@1.43.2/dist/cdn/esm.js\";\n",
       "    render(\n",
       "      \"circuits-vis-c844abfb-d90f\",\n",
       "      ColoredTokens,\n",
       "      {\"tokens\": [\"<|endoftext|>\", \"When\", \" John\", \" and\", \" Mary\", \" went\", \" to\", \" the\", \" shops\", \",\", \" Mary\", \" gave\", \" the\", \" bag\", \" to\"], \"values\": [0.0, 0.0, 0.0, 0.0, 0.0, 0.0, 0.0, 0.0, 0.0, 0.0, 4.765687465667725, 0.0, 1.524104118347168, 0.0, 0.293247252702713]}\n",
       "    )\n",
       "    </script>"
      ],
      "text/plain": [
       "<circuitsvis.utils.render.RenderedHTML at 0x7d5ff94a2e50>"
      ]
     },
     "metadata": {},
     "output_type": "display_data"
    },
    {
     "data": {
      "text/html": [
       "<div id=\"circuits-vis-fe4d7363-85a4\" style=\"margin: 15px 0;\"/>\n",
       "    <script crossorigin type=\"module\">\n",
       "    import { render, ColoredTokens } from \"https://unpkg.com/circuitsvis@1.43.2/dist/cdn/esm.js\";\n",
       "    render(\n",
       "      \"circuits-vis-fe4d7363-85a4\",\n",
       "      ColoredTokens,\n",
       "      {\"tokens\": [\"<|endoftext|>\", \"When\", \" John\", \" and\", \" Mary\", \" went\", \" to\", \" the\", \" shops\", \",\", \" John\", \" gave\", \" the\", \" bag\", \" to\"], \"values\": [0.0, 0.0, 0.0, 0.0, 0.0, 0.0, 0.0, 0.0, 0.0, 0.0, 2.1459715366363525, 0.0, 1.1173818111419678, 0.0, 0.0]}\n",
       "    )\n",
       "    </script>"
      ],
      "text/plain": [
       "<circuitsvis.utils.render.RenderedHTML at 0x7d5ff9483c10>"
      ]
     },
     "metadata": {},
     "output_type": "display_data"
    },
    {
     "data": {
      "text/html": [
       "<div id=\"circuits-vis-14b43d20-2fe2\" style=\"margin: 15px 0;\"/>\n",
       "    <script crossorigin type=\"module\">\n",
       "    import { render, ColoredTokens } from \"https://unpkg.com/circuitsvis@1.43.2/dist/cdn/esm.js\";\n",
       "    render(\n",
       "      \"circuits-vis-14b43d20-2fe2\",\n",
       "      ColoredTokens,\n",
       "      {\"tokens\": [\"<|endoftext|>\", \"When\", \" Tom\", \" and\", \" James\", \" went\", \" to\", \" the\", \" park\", \",\", \" James\", \" gave\", \" the\", \" ball\", \" to\"], \"values\": [0.0, 0.0, 0.0, 0.0, 0.0, 0.0, 0.0, 0.0, 0.0, 0.0, 3.8438048362731934, 0.0, 0.6910956501960754, 0.0, 0.6091289520263672]}\n",
       "    )\n",
       "    </script>"
      ],
      "text/plain": [
       "<circuitsvis.utils.render.RenderedHTML at 0x7d5ff94c9310>"
      ]
     },
     "metadata": {},
     "output_type": "display_data"
    },
    {
     "data": {
      "text/html": [
       "<div id=\"circuits-vis-fee7030e-1e25\" style=\"margin: 15px 0;\"/>\n",
       "    <script crossorigin type=\"module\">\n",
       "    import { render, ColoredTokens } from \"https://unpkg.com/circuitsvis@1.43.2/dist/cdn/esm.js\";\n",
       "    render(\n",
       "      \"circuits-vis-fee7030e-1e25\",\n",
       "      ColoredTokens,\n",
       "      {\"tokens\": [\"<|endoftext|>\", \"When\", \" Tom\", \" and\", \" James\", \" went\", \" to\", \" the\", \" park\", \",\", \" Tom\", \" gave\", \" the\", \" ball\", \" to\"], \"values\": [0.0, 0.0, 0.0, 0.0, 0.0, 0.0, 0.0, 0.0, 0.0, 0.0, 3.022451400756836, 0.0, 0.0, 0.0, 0.0]}\n",
       "    )\n",
       "    </script>"
      ],
      "text/plain": [
       "<circuitsvis.utils.render.RenderedHTML at 0x7d5ff940a350>"
      ]
     },
     "metadata": {},
     "output_type": "display_data"
    },
    {
     "data": {
      "text/html": [
       "<div id=\"circuits-vis-c77d6a3b-67f3\" style=\"margin: 15px 0;\"/>\n",
       "    <script crossorigin type=\"module\">\n",
       "    import { render, ColoredTokens } from \"https://unpkg.com/circuitsvis@1.43.2/dist/cdn/esm.js\";\n",
       "    render(\n",
       "      \"circuits-vis-c77d6a3b-67f3\",\n",
       "      ColoredTokens,\n",
       "      {\"tokens\": [\"<|endoftext|>\", \"When\", \" Dan\", \" and\", \" Sid\", \" went\", \" to\", \" the\", \" shops\", \",\", \" Sid\", \" gave\", \" an\", \" apple\", \" to\"], \"values\": [0.0, 0.0, 0.0, 0.0, 0.0, 0.0, 0.0, 0.0, 0.0, 0.0, 5.04138708114624, 0.4216509163379669, 0.0, 0.0, 0.4509331285953522]}\n",
       "    )\n",
       "    </script>"
      ],
      "text/plain": [
       "<circuitsvis.utils.render.RenderedHTML at 0x7d5ff966bb50>"
      ]
     },
     "metadata": {},
     "output_type": "display_data"
    },
    {
     "data": {
      "text/html": [
       "<div id=\"circuits-vis-c2e008f3-1103\" style=\"margin: 15px 0;\"/>\n",
       "    <script crossorigin type=\"module\">\n",
       "    import { render, ColoredTokens } from \"https://unpkg.com/circuitsvis@1.43.2/dist/cdn/esm.js\";\n",
       "    render(\n",
       "      \"circuits-vis-c2e008f3-1103\",\n",
       "      ColoredTokens,\n",
       "      {\"tokens\": [\"<|endoftext|>\", \"When\", \" Dan\", \" and\", \" Sid\", \" went\", \" to\", \" the\", \" shops\", \",\", \" Dan\", \" gave\", \" an\", \" apple\", \" to\"], \"values\": [0.0, 0.0, 0.0, 0.0, 0.0, 0.0, 0.0, 0.0, 0.0, 0.0, 2.956615924835205, 0.0, 0.0, 0.0, 0.0]}\n",
       "    )\n",
       "    </script>"
      ],
      "text/plain": [
       "<circuitsvis.utils.render.RenderedHTML at 0x7d5ff94095d0>"
      ]
     },
     "metadata": {},
     "output_type": "display_data"
    },
    {
     "data": {
      "text/html": [
       "<div id=\"circuits-vis-8f2115b8-57cb\" style=\"margin: 15px 0;\"/>\n",
       "    <script crossorigin type=\"module\">\n",
       "    import { render, ColoredTokens } from \"https://unpkg.com/circuitsvis@1.43.2/dist/cdn/esm.js\";\n",
       "    render(\n",
       "      \"circuits-vis-8f2115b8-57cb\",\n",
       "      ColoredTokens,\n",
       "      {\"tokens\": [\"<|endoftext|>\", \"After\", \" Martin\", \" and\", \" Amy\", \" went\", \" to\", \" the\", \" park\", \",\", \" Amy\", \" gave\", \" a\", \" drink\", \" to\"], \"values\": [0.0, 0.0, 0.0, 0.0, 0.0, 0.0, 0.0, 0.0, 0.0, 0.0, 2.6772854328155518, 0.0, 0.0, 0.0, 0.0]}\n",
       "    )\n",
       "    </script>"
      ],
      "text/plain": [
       "<circuitsvis.utils.render.RenderedHTML at 0x7d5ff95aae10>"
      ]
     },
     "metadata": {},
     "output_type": "display_data"
    },
    {
     "data": {
      "text/html": [
       "<div id=\"circuits-vis-75f3f288-fdae\" style=\"margin: 15px 0;\"/>\n",
       "    <script crossorigin type=\"module\">\n",
       "    import { render, ColoredTokens } from \"https://unpkg.com/circuitsvis@1.43.2/dist/cdn/esm.js\";\n",
       "    render(\n",
       "      \"circuits-vis-75f3f288-fdae\",\n",
       "      ColoredTokens,\n",
       "      {\"tokens\": [\"<|endoftext|>\", \"After\", \" Martin\", \" and\", \" Amy\", \" went\", \" to\", \" the\", \" park\", \",\", \" Martin\", \" gave\", \" a\", \" drink\", \" to\"], \"values\": [0.0, 0.0, 0.0, 0.0, 0.0, 0.0, 0.0, 0.0, 0.0, 0.0, 1.3744359016418457, 0.0, 0.0, 0.0, 0.0]}\n",
       "    )\n",
       "    </script>"
      ],
      "text/plain": [
       "<circuitsvis.utils.render.RenderedHTML at 0x7d5ff94b1950>"
      ]
     },
     "metadata": {},
     "output_type": "display_data"
    },
    {
     "name": "stdout",
     "output_type": "stream",
     "text": [
      "Feature 13525\n"
     ]
    },
    {
     "data": {
      "text/html": [
       "<div id=\"circuits-vis-e03a7952-27d1\" style=\"margin: 15px 0;\"/>\n",
       "    <script crossorigin type=\"module\">\n",
       "    import { render, ColoredTokens } from \"https://unpkg.com/circuitsvis@1.43.2/dist/cdn/esm.js\";\n",
       "    render(\n",
       "      \"circuits-vis-e03a7952-27d1\",\n",
       "      ColoredTokens,\n",
       "      {\"tokens\": [\"<|endoftext|>\", \"When\", \" John\", \" and\", \" Mary\", \" went\", \" to\", \" the\", \" shops\", \",\", \" Mary\", \" gave\", \" the\", \" bag\", \" to\"], \"values\": [0.0, 0.0, 0.0, 0.0, 0.0, 0.0, 0.0, 0.0, 0.0, 0.0, 0.0, 1.6199842691421509, 1.5773377418518066, 0.0, 5.309775352478027]}\n",
       "    )\n",
       "    </script>"
      ],
      "text/plain": [
       "<circuitsvis.utils.render.RenderedHTML at 0x7d5ff94b3f50>"
      ]
     },
     "metadata": {},
     "output_type": "display_data"
    },
    {
     "data": {
      "text/html": [
       "<div id=\"circuits-vis-b69a96ef-b259\" style=\"margin: 15px 0;\"/>\n",
       "    <script crossorigin type=\"module\">\n",
       "    import { render, ColoredTokens } from \"https://unpkg.com/circuitsvis@1.43.2/dist/cdn/esm.js\";\n",
       "    render(\n",
       "      \"circuits-vis-b69a96ef-b259\",\n",
       "      ColoredTokens,\n",
       "      {\"tokens\": [\"<|endoftext|>\", \"When\", \" John\", \" and\", \" Mary\", \" went\", \" to\", \" the\", \" shops\", \",\", \" John\", \" gave\", \" the\", \" bag\", \" to\"], \"values\": [0.0, 0.0, 0.0, 0.0, 0.0, 0.0, 0.0, 0.0, 0.0, 0.0, 0.0, 0.0, 0.0, 0.0, 0.0]}\n",
       "    )\n",
       "    </script>"
      ],
      "text/plain": [
       "<circuitsvis.utils.render.RenderedHTML at 0x7d5ff9597e10>"
      ]
     },
     "metadata": {},
     "output_type": "display_data"
    },
    {
     "data": {
      "text/html": [
       "<div id=\"circuits-vis-9e08ad6d-a430\" style=\"margin: 15px 0;\"/>\n",
       "    <script crossorigin type=\"module\">\n",
       "    import { render, ColoredTokens } from \"https://unpkg.com/circuitsvis@1.43.2/dist/cdn/esm.js\";\n",
       "    render(\n",
       "      \"circuits-vis-9e08ad6d-a430\",\n",
       "      ColoredTokens,\n",
       "      {\"tokens\": [\"<|endoftext|>\", \"When\", \" Tom\", \" and\", \" James\", \" went\", \" to\", \" the\", \" park\", \",\", \" James\", \" gave\", \" the\", \" ball\", \" to\"], \"values\": [0.0, 0.0, 0.0, 0.0, 0.0, 0.0, 0.0, 0.0, 0.0, 0.0, 0.0, 0.0, 0.0, 0.0, 0.820345938205719]}\n",
       "    )\n",
       "    </script>"
      ],
      "text/plain": [
       "<circuitsvis.utils.render.RenderedHTML at 0x7d5ff940a350>"
      ]
     },
     "metadata": {},
     "output_type": "display_data"
    },
    {
     "data": {
      "text/html": [
       "<div id=\"circuits-vis-da9db7c2-9a4d\" style=\"margin: 15px 0;\"/>\n",
       "    <script crossorigin type=\"module\">\n",
       "    import { render, ColoredTokens } from \"https://unpkg.com/circuitsvis@1.43.2/dist/cdn/esm.js\";\n",
       "    render(\n",
       "      \"circuits-vis-da9db7c2-9a4d\",\n",
       "      ColoredTokens,\n",
       "      {\"tokens\": [\"<|endoftext|>\", \"When\", \" Tom\", \" and\", \" James\", \" went\", \" to\", \" the\", \" park\", \",\", \" Tom\", \" gave\", \" the\", \" ball\", \" to\"], \"values\": [0.0, 0.0, 0.0, 0.0, 0.0, 0.0, 0.0, 0.0, 0.0, 0.0, 0.0, 0.0, 0.0, 0.0, 0.0]}\n",
       "    )\n",
       "    </script>"
      ],
      "text/plain": [
       "<circuitsvis.utils.render.RenderedHTML at 0x7d5ff940a350>"
      ]
     },
     "metadata": {},
     "output_type": "display_data"
    },
    {
     "data": {
      "text/html": [
       "<div id=\"circuits-vis-d6ddc6e8-dc8a\" style=\"margin: 15px 0;\"/>\n",
       "    <script crossorigin type=\"module\">\n",
       "    import { render, ColoredTokens } from \"https://unpkg.com/circuitsvis@1.43.2/dist/cdn/esm.js\";\n",
       "    render(\n",
       "      \"circuits-vis-d6ddc6e8-dc8a\",\n",
       "      ColoredTokens,\n",
       "      {\"tokens\": [\"<|endoftext|>\", \"When\", \" Dan\", \" and\", \" Sid\", \" went\", \" to\", \" the\", \" shops\", \",\", \" Sid\", \" gave\", \" an\", \" apple\", \" to\"], \"values\": [0.0, 0.0, 0.0, 0.0, 0.0, 0.0, 0.0, 0.0, 0.0, 0.0, 0.0, 0.0, 0.0, 0.0, 2.0283586978912354]}\n",
       "    )\n",
       "    </script>"
      ],
      "text/plain": [
       "<circuitsvis.utils.render.RenderedHTML at 0x7d5ff93f3c10>"
      ]
     },
     "metadata": {},
     "output_type": "display_data"
    },
    {
     "data": {
      "text/html": [
       "<div id=\"circuits-vis-7ab5da99-edb8\" style=\"margin: 15px 0;\"/>\n",
       "    <script crossorigin type=\"module\">\n",
       "    import { render, ColoredTokens } from \"https://unpkg.com/circuitsvis@1.43.2/dist/cdn/esm.js\";\n",
       "    render(\n",
       "      \"circuits-vis-7ab5da99-edb8\",\n",
       "      ColoredTokens,\n",
       "      {\"tokens\": [\"<|endoftext|>\", \"When\", \" Dan\", \" and\", \" Sid\", \" went\", \" to\", \" the\", \" shops\", \",\", \" Dan\", \" gave\", \" an\", \" apple\", \" to\"], \"values\": [0.0, 0.0, 0.0, 0.0, 0.0, 0.0, 0.0, 0.0, 0.0, 0.0, 0.0, 0.0, 0.0, 0.0, 0.0]}\n",
       "    )\n",
       "    </script>"
      ],
      "text/plain": [
       "<circuitsvis.utils.render.RenderedHTML at 0x7d5ff966b410>"
      ]
     },
     "metadata": {},
     "output_type": "display_data"
    },
    {
     "data": {
      "text/html": [
       "<div id=\"circuits-vis-2458ae90-70bd\" style=\"margin: 15px 0;\"/>\n",
       "    <script crossorigin type=\"module\">\n",
       "    import { render, ColoredTokens } from \"https://unpkg.com/circuitsvis@1.43.2/dist/cdn/esm.js\";\n",
       "    render(\n",
       "      \"circuits-vis-2458ae90-70bd\",\n",
       "      ColoredTokens,\n",
       "      {\"tokens\": [\"<|endoftext|>\", \"After\", \" Martin\", \" and\", \" Amy\", \" went\", \" to\", \" the\", \" park\", \",\", \" Amy\", \" gave\", \" a\", \" drink\", \" to\"], \"values\": [0.0, 0.0, 0.0, 0.0, 0.0, 0.0, 0.0, 0.0, 0.0, 0.0, 0.0, 1.9082615375518799, 0.0, 0.0, 4.306468486785889]}\n",
       "    )\n",
       "    </script>"
      ],
      "text/plain": [
       "<circuitsvis.utils.render.RenderedHTML at 0x7d5ff966b410>"
      ]
     },
     "metadata": {},
     "output_type": "display_data"
    },
    {
     "data": {
      "text/html": [
       "<div id=\"circuits-vis-155b92e9-6a68\" style=\"margin: 15px 0;\"/>\n",
       "    <script crossorigin type=\"module\">\n",
       "    import { render, ColoredTokens } from \"https://unpkg.com/circuitsvis@1.43.2/dist/cdn/esm.js\";\n",
       "    render(\n",
       "      \"circuits-vis-155b92e9-6a68\",\n",
       "      ColoredTokens,\n",
       "      {\"tokens\": [\"<|endoftext|>\", \"After\", \" Martin\", \" and\", \" Amy\", \" went\", \" to\", \" the\", \" park\", \",\", \" Martin\", \" gave\", \" a\", \" drink\", \" to\"], \"values\": [0.0, 0.0, 0.0, 0.0, 0.0, 0.0, 0.0, 0.0, 0.0, 0.0, 0.0, 0.0, 0.0, 0.0, 0.0]}\n",
       "    )\n",
       "    </script>"
      ],
      "text/plain": [
       "<circuitsvis.utils.render.RenderedHTML at 0x7d614408a090>"
      ]
     },
     "metadata": {},
     "output_type": "display_data"
    }
   ],
   "source": [
    "# Visualize token activation patterns for topk features\n",
    "for feature in sae_up_topk.features:\n",
    "    print(\"Feature {}\".format(feature))\n",
    "    for example_idx in range(ioi_data.get_batch_size()):\n",
    "        sae_target_clean_acts = clean_cache[sae_up_hook_point][example_idx, :, feature]\n",
    "        display(colored_tokens(ioi_data.clean_str_tokens[example_idx], sae_target_clean_acts))"
   ]
  },
  {
   "cell_type": "markdown",
   "metadata": {},
   "source": [
    "# Finding relevant downstream features via Activation Patching"
   ]
  },
  {
   "cell_type": "code",
   "execution_count": 15,
   "metadata": {},
   "outputs": [],
   "source": [
    "from feature_lens.ablate import make_ablate_hook\n",
    "\n",
    "# Run the ablation code inside a context to prevent overwriting clean_cache, corrupt_cache\n",
    "def compute_ablation_effect_helper():\n",
    "    orig_sae_down_act = clean_cache[sae_down_hook_point]\n",
    "    with model.saes(saes):\n",
    "        # Ablate with the corrupt cache\n",
    "        hooks = [make_ablate_hook(corrupt_cache, sae_target_hook_point, SAE_TARGET_FEATURE)]\n",
    "        with model.hooks(\n",
    "            fwd_hooks=hooks,\n",
    "        ):\n",
    "            # Run on the clean input\n",
    "            _, ablated_cache = model.run_with_cache(ioi_data.clean_tokens)\n",
    "            # NOTE: summing over token positions\n",
    "            # TODO: not sure if this is right\n",
    "            ablated_sae_down_act = ablated_cache[sae_down_hook_point]\n",
    "            ablated_delta = (ablated_sae_down_act - orig_sae_down_act).sum(dim=1).mean(dim=0)\n",
    "    return ablated_delta\n",
    "\n",
    "ablated_delta = compute_ablation_effect_helper()"
   ]
  },
  {
   "cell_type": "code",
   "execution_count": 16,
   "metadata": {},
   "outputs": [
    {
     "data": {
      "image/png": "[encoded data removed]",
      "text/plain": [
       "<Figure size 640x480 with 1 Axes>"
      ]
     },
     "metadata": {},
     "output_type": "display_data"
    }
   ],
   "source": [
    "import matplotlib.pyplot as plt \n",
    "\n",
    "plt.boxplot(ablated_delta.detach().cpu().numpy())\n",
    "plt.show()"
   ]
  },
  {
   "cell_type": "code",
   "execution_count": 32,
   "metadata": {},
   "outputs": [],
   "source": [
    "sae_down_topk, sae_down_botk = get_topk_and_botk_scores_and_features(ablated_delta)"
   ]
  },
  {
   "cell_type": "code",
   "execution_count": 33,
   "metadata": {},
   "outputs": [
    {
     "name": "stdout",
     "output_type": "stream",
     "text": [
      "[3983, 3176, 10603, 16110, 15143, 21016, 17638, 22749, 23655, 6900]\n",
      "[1721, 9434, 20520, 15147, 4497, 16001, 12934, 4322, 18404, 15807]\n"
     ]
    }
   ],
   "source": [
    "print(sae_down_topk.features)\n",
    "print(sae_down_botk.features)"
   ]
  },
  {
   "cell_type": "code",
   "execution_count": 34,
   "metadata": {},
   "outputs": [
    {
     "data": {
      "text/plain": [
       "<BarContainer object of 10 artists>"
      ]
     },
     "execution_count": 34,
     "metadata": {},
     "output_type": "execute_result"
    },
    {
     "data": {
      "image/png": "[encoded data removed]",
      "text/plain": [
       "<Figure size 640x480 with 1 Axes>"
      ]
     },
     "metadata": {},
     "output_type": "display_data"
    }
   ],
   "source": [
    "# Plot top 10 scores\n",
    "plt.bar(range(10), sae_down_topk.scores.detach().cpu().numpy())"
   ]
  },
  {
   "cell_type": "code",
   "execution_count": 35,
   "metadata": {},
   "outputs": [
    {
     "data": {
      "text/plain": [
       "<BarContainer object of 10 artists>"
      ]
     },
     "execution_count": 35,
     "metadata": {},
     "output_type": "execute_result"
    },
    {
     "data": {
      "image/png": "[encoded data removed]",
      "text/plain": [
       "<Figure size 640x480 with 1 Axes>"
      ]
     },
     "metadata": {},
     "output_type": "display_data"
    }
   ],
   "source": [
    "# Plot bot 10 scores\n",
    "plt.bar(range(10), sae_down_botk.scores.detach().cpu().numpy())"
   ]
  },
  {
   "cell_type": "code",
   "execution_count": 36,
   "metadata": {},
   "outputs": [
    {
     "name": "stdout",
     "output_type": "stream",
     "text": [
      "https://neuronpedia.org/quick-list/?name=temporary_list&features=%5B%7B%22modelId%22%3A%20%22gpt2-small%22%2C%20%22layer%22%3A%20%229-res-jb%22%2C%20%22index%22%3A%20%223983%22%7D%2C%20%7B%22modelId%22%3A%20%22gpt2-small%22%2C%20%22layer%22%3A%20%229-res-jb%22%2C%20%22index%22%3A%20%223176%22%7D%2C%20%7B%22modelId%22%3A%20%22gpt2-small%22%2C%20%22layer%22%3A%20%229-res-jb%22%2C%20%22index%22%3A%20%2210603%22%7D%2C%20%7B%22modelId%22%3A%20%22gpt2-small%22%2C%20%22layer%22%3A%20%229-res-jb%22%2C%20%22index%22%3A%20%2216110%22%7D%2C%20%7B%22modelId%22%3A%20%22gpt2-small%22%2C%20%22layer%22%3A%20%229-res-jb%22%2C%20%22index%22%3A%20%2215143%22%7D%2C%20%7B%22modelId%22%3A%20%22gpt2-small%22%2C%20%22layer%22%3A%20%229-res-jb%22%2C%20%22index%22%3A%20%2221016%22%7D%2C%20%7B%22modelId%22%3A%20%22gpt2-small%22%2C%20%22layer%22%3A%20%229-res-jb%22%2C%20%22index%22%3A%20%2217638%22%7D%2C%20%7B%22modelId%22%3A%20%22gpt2-small%22%2C%20%22layer%22%3A%20%229-res-jb%22%2C%20%22index%22%3A%20%2222749%22%7D%2C%20%7B%22modelId%22%3A%20%22gpt2-small%22%2C%20%22layer%22%3A%20%229-res-jb%22%2C%20%22index%22%3A%20%2223655%22%7D%2C%20%7B%22modelId%22%3A%20%22gpt2-small%22%2C%20%22layer%22%3A%20%229-res-jb%22%2C%20%22index%22%3A%20%226900%22%7D%5D\n",
      "https://neuronpedia.org/quick-list/?name=temporary_list&features=%5B%7B%22modelId%22%3A%20%22gpt2-small%22%2C%20%22layer%22%3A%20%229-res-jb%22%2C%20%22index%22%3A%20%221721%22%7D%2C%20%7B%22modelId%22%3A%20%22gpt2-small%22%2C%20%22layer%22%3A%20%229-res-jb%22%2C%20%22index%22%3A%20%229434%22%7D%2C%20%7B%22modelId%22%3A%20%22gpt2-small%22%2C%20%22layer%22%3A%20%229-res-jb%22%2C%20%22index%22%3A%20%2220520%22%7D%2C%20%7B%22modelId%22%3A%20%22gpt2-small%22%2C%20%22layer%22%3A%20%229-res-jb%22%2C%20%22index%22%3A%20%2215147%22%7D%2C%20%7B%22modelId%22%3A%20%22gpt2-small%22%2C%20%22layer%22%3A%20%229-res-jb%22%2C%20%22index%22%3A%20%224497%22%7D%2C%20%7B%22modelId%22%3A%20%22gpt2-small%22%2C%20%22layer%22%3A%20%229-res-jb%22%2C%20%22index%22%3A%20%2216001%22%7D%2C%20%7B%22modelId%22%3A%20%22gpt2-small%22%2C%20%22layer%22%3A%20%229-res-jb%22%2C%20%22index%22%3A%20%2212934%22%7D%2C%20%7B%22modelId%22%3A%20%22gpt2-small%22%2C%20%22layer%22%3A%20%229-res-jb%22%2C%20%22index%22%3A%20%224322%22%7D%2C%20%7B%22modelId%22%3A%20%22gpt2-small%22%2C%20%22layer%22%3A%20%229-res-jb%22%2C%20%22index%22%3A%20%2218404%22%7D%2C%20%7B%22modelId%22%3A%20%22gpt2-small%22%2C%20%22layer%22%3A%20%229-res-jb%22%2C%20%22index%22%3A%20%2215807%22%7D%5D\n"
     ]
    }
   ],
   "source": [
    "DOWN_LAYER = 9\n",
    "print(get_neuronpedia_url(DOWN_LAYER, sae_down_topk.features))\n",
    "print(get_neuronpedia_url(DOWN_LAYER, sae_down_botk.features))"
   ]
  },
  {
   "cell_type": "code",
   "execution_count": 37,
   "metadata": {},
   "outputs": [
    {
     "name": "stdout",
     "output_type": "stream",
     "text": [
      "Feature 3983\n"
     ]
    },
    {
     "data": {
      "text/html": [
       "<div id=\"circuits-vis-c7c68169-a258\" style=\"margin: 15px 0;\"/>\n",
       "    <script crossorigin type=\"module\">\n",
       "    import { render, ColoredTokens } from \"https://unpkg.com/circuitsvis@1.43.2/dist/cdn/esm.js\";\n",
       "    render(\n",
       "      \"circuits-vis-c7c68169-a258\",\n",
       "      ColoredTokens,\n",
       "      {\"tokens\": [\"<|endoftext|>\", \"When\", \" John\", \" and\", \" Mary\", \" went\", \" to\", \" the\", \" shops\", \",\", \" Mary\", \" gave\", \" the\", \" bag\", \" to\"], \"values\": [0.0, 0.0, 0.0, 0.0, 0.0, 0.0, 0.0, 0.0, 0.0, 0.0, 0.0, 0.5086199641227722, 0.0, 0.0, 3.8899238109588623]}\n",
       "    )\n",
       "    </script>"
      ],
      "text/plain": [
       "<circuitsvis.utils.render.RenderedHTML at 0x7d5ff93e2950>"
      ]
     },
     "metadata": {},
     "output_type": "display_data"
    },
    {
     "data": {
      "text/html": [
       "<div id=\"circuits-vis-1f39af81-f7fa\" style=\"margin: 15px 0;\"/>\n",
       "    <script crossorigin type=\"module\">\n",
       "    import { render, ColoredTokens } from \"https://unpkg.com/circuitsvis@1.43.2/dist/cdn/esm.js\";\n",
       "    render(\n",
       "      \"circuits-vis-1f39af81-f7fa\",\n",
       "      ColoredTokens,\n",
       "      {\"tokens\": [\"<|endoftext|>\", \"When\", \" John\", \" and\", \" Mary\", \" went\", \" to\", \" the\", \" shops\", \",\", \" John\", \" gave\", \" the\", \" bag\", \" to\"], \"values\": [0.0, 0.0, 0.0, 0.0, 0.0, 0.0, 0.0, 0.0, 0.0, 0.0, 0.0, 0.0, 0.0, 0.0, 0.0]}\n",
       "    )\n",
       "    </script>"
      ],
      "text/plain": [
       "<circuitsvis.utils.render.RenderedHTML at 0x7d5ff846ea50>"
      ]
     },
     "metadata": {},
     "output_type": "display_data"
    },
    {
     "data": {
      "text/html": [
       "<div id=\"circuits-vis-70eeb754-d774\" style=\"margin: 15px 0;\"/>\n",
       "    <script crossorigin type=\"module\">\n",
       "    import { render, ColoredTokens } from \"https://unpkg.com/circuitsvis@1.43.2/dist/cdn/esm.js\";\n",
       "    render(\n",
       "      \"circuits-vis-70eeb754-d774\",\n",
       "      ColoredTokens,\n",
       "      {\"tokens\": [\"<|endoftext|>\", \"When\", \" Tom\", \" and\", \" James\", \" went\", \" to\", \" the\", \" park\", \",\", \" James\", \" gave\", \" the\", \" ball\", \" to\"], \"values\": [0.0, 0.0, 0.0, 0.0, 0.0, 0.0, 0.0, 0.0, 0.0, 0.0, 0.0, 1.7529561519622803, 0.0, 0.0, 5.039438247680664]}\n",
       "    )\n",
       "    </script>"
      ],
      "text/plain": [
       "<circuitsvis.utils.render.RenderedHTML at 0x7d5ff8333090>"
      ]
     },
     "metadata": {},
     "output_type": "display_data"
    },
    {
     "data": {
      "text/html": [
       "<div id=\"circuits-vis-fb110115-abdd\" style=\"margin: 15px 0;\"/>\n",
       "    <script crossorigin type=\"module\">\n",
       "    import { render, ColoredTokens } from \"https://unpkg.com/circuitsvis@1.43.2/dist/cdn/esm.js\";\n",
       "    render(\n",
       "      \"circuits-vis-fb110115-abdd\",\n",
       "      ColoredTokens,\n",
       "      {\"tokens\": [\"<|endoftext|>\", \"When\", \" Tom\", \" and\", \" James\", \" went\", \" to\", \" the\", \" park\", \",\", \" Tom\", \" gave\", \" the\", \" ball\", \" to\"], \"values\": [0.0, 0.0, 0.0, 0.0, 0.0, 0.0, 0.0, 0.0, 0.0, 0.0, 0.0, 0.0, 0.0, 0.0, 0.0]}\n",
       "    )\n",
       "    </script>"
      ],
      "text/plain": [
       "<circuitsvis.utils.render.RenderedHTML at 0x7d5ff846ea50>"
      ]
     },
     "metadata": {},
     "output_type": "display_data"
    },
    {
     "data": {
      "text/html": [
       "<div id=\"circuits-vis-f87a1609-5893\" style=\"margin: 15px 0;\"/>\n",
       "    <script crossorigin type=\"module\">\n",
       "    import { render, ColoredTokens } from \"https://unpkg.com/circuitsvis@1.43.2/dist/cdn/esm.js\";\n",
       "    render(\n",
       "      \"circuits-vis-f87a1609-5893\",\n",
       "      ColoredTokens,\n",
       "      {\"tokens\": [\"<|endoftext|>\", \"When\", \" Dan\", \" and\", \" Sid\", \" went\", \" to\", \" the\", \" shops\", \",\", \" Sid\", \" gave\", \" an\", \" apple\", \" to\"], \"values\": [0.0, 0.0, 0.0, 0.0, 0.0, 0.0, 0.0, 0.0, 0.0, 0.0, 0.0, 1.0091972351074219, 0.0, 0.0, 3.6076905727386475]}\n",
       "    )\n",
       "    </script>"
      ],
      "text/plain": [
       "<circuitsvis.utils.render.RenderedHTML at 0x7d5ff840b610>"
      ]
     },
     "metadata": {},
     "output_type": "display_data"
    },
    {
     "data": {
      "text/html": [
       "<div id=\"circuits-vis-1f898ef3-e299\" style=\"margin: 15px 0;\"/>\n",
       "    <script crossorigin type=\"module\">\n",
       "    import { render, ColoredTokens } from \"https://unpkg.com/circuitsvis@1.43.2/dist/cdn/esm.js\";\n",
       "    render(\n",
       "      \"circuits-vis-1f898ef3-e299\",\n",
       "      ColoredTokens,\n",
       "      {\"tokens\": [\"<|endoftext|>\", \"When\", \" Dan\", \" and\", \" Sid\", \" went\", \" to\", \" the\", \" shops\", \",\", \" Dan\", \" gave\", \" an\", \" apple\", \" to\"], \"values\": [0.0, 0.0, 0.0, 0.0, 0.0, 0.0, 0.0, 0.0, 0.0, 0.0, 0.0, 0.0, 0.0, 0.0, 0.0]}\n",
       "    )\n",
       "    </script>"
      ],
      "text/plain": [
       "<circuitsvis.utils.render.RenderedHTML at 0x7d5ff837ba10>"
      ]
     },
     "metadata": {},
     "output_type": "display_data"
    },
    {
     "data": {
      "text/html": [
       "<div id=\"circuits-vis-04e138ba-a1b1\" style=\"margin: 15px 0;\"/>\n",
       "    <script crossorigin type=\"module\">\n",
       "    import { render, ColoredTokens } from \"https://unpkg.com/circuitsvis@1.43.2/dist/cdn/esm.js\";\n",
       "    render(\n",
       "      \"circuits-vis-04e138ba-a1b1\",\n",
       "      ColoredTokens,\n",
       "      {\"tokens\": [\"<|endoftext|>\", \"After\", \" Martin\", \" and\", \" Amy\", \" went\", \" to\", \" the\", \" park\", \",\", \" Amy\", \" gave\", \" a\", \" drink\", \" to\"], \"values\": [0.0, 0.0, 0.0, 0.0, 0.0, 0.0, 0.0, 0.0, 0.0, 0.0, 0.0, 1.556943416595459, 0.0, 0.0, 4.070353031158447]}\n",
       "    )\n",
       "    </script>"
      ],
      "text/plain": [
       "<circuitsvis.utils.render.RenderedHTML at 0x7d5ff82f2b50>"
      ]
     },
     "metadata": {},
     "output_type": "display_data"
    },
    {
     "data": {
      "text/html": [
       "<div id=\"circuits-vis-415b4800-4453\" style=\"margin: 15px 0;\"/>\n",
       "    <script crossorigin type=\"module\">\n",
       "    import { render, ColoredTokens } from \"https://unpkg.com/circuitsvis@1.43.2/dist/cdn/esm.js\";\n",
       "    render(\n",
       "      \"circuits-vis-415b4800-4453\",\n",
       "      ColoredTokens,\n",
       "      {\"tokens\": [\"<|endoftext|>\", \"After\", \" Martin\", \" and\", \" Amy\", \" went\", \" to\", \" the\", \" park\", \",\", \" Martin\", \" gave\", \" a\", \" drink\", \" to\"], \"values\": [0.0, 0.0, 0.0, 0.0, 0.0, 0.0, 0.0, 0.0, 0.0, 0.0, 0.0, 0.0, 0.0, 0.0, 0.0]}\n",
       "    )\n",
       "    </script>"
      ],
      "text/plain": [
       "<circuitsvis.utils.render.RenderedHTML at 0x7d5ff973df50>"
      ]
     },
     "metadata": {},
     "output_type": "display_data"
    },
    {
     "name": "stdout",
     "output_type": "stream",
     "text": [
      "Feature 3176\n"
     ]
    },
    {
     "data": {
      "text/html": [
       "<div id=\"circuits-vis-77c4879c-3973\" style=\"margin: 15px 0;\"/>\n",
       "    <script crossorigin type=\"module\">\n",
       "    import { render, ColoredTokens } from \"https://unpkg.com/circuitsvis@1.43.2/dist/cdn/esm.js\";\n",
       "    render(\n",
       "      \"circuits-vis-77c4879c-3973\",\n",
       "      ColoredTokens,\n",
       "      {\"tokens\": [\"<|endoftext|>\", \"When\", \" John\", \" and\", \" Mary\", \" went\", \" to\", \" the\", \" shops\", \",\", \" Mary\", \" gave\", \" the\", \" bag\", \" to\"], \"values\": [0.0, 0.0, 0.0, 0.0, 0.0, 0.0, 0.0, 0.0, 0.0, 0.0, 0.0, 0.0, 0.0, 0.0, 0.0]}\n",
       "    )\n",
       "    </script>"
      ],
      "text/plain": [
       "<circuitsvis.utils.render.RenderedHTML at 0x7d5ff973df50>"
      ]
     },
     "metadata": {},
     "output_type": "display_data"
    },
    {
     "data": {
      "text/html": [
       "<div id=\"circuits-vis-1feb0b7b-6a7d\" style=\"margin: 15px 0;\"/>\n",
       "    <script crossorigin type=\"module\">\n",
       "    import { render, ColoredTokens } from \"https://unpkg.com/circuitsvis@1.43.2/dist/cdn/esm.js\";\n",
       "    render(\n",
       "      \"circuits-vis-1feb0b7b-6a7d\",\n",
       "      ColoredTokens,\n",
       "      {\"tokens\": [\"<|endoftext|>\", \"When\", \" John\", \" and\", \" Mary\", \" went\", \" to\", \" the\", \" shops\", \",\", \" John\", \" gave\", \" the\", \" bag\", \" to\"], \"values\": [0.0, 0.0, 0.0, 0.0, 0.0, 0.0, 0.0, 0.0, 0.0, 0.0, 0.0, 0.0, 0.0, 0.0, 1.253104567527771]}\n",
       "    )\n",
       "    </script>"
      ],
      "text/plain": [
       "<circuitsvis.utils.render.RenderedHTML at 0x7d5ff8575d90>"
      ]
     },
     "metadata": {},
     "output_type": "display_data"
    },
    {
     "data": {
      "text/html": [
       "<div id=\"circuits-vis-cded3c58-6fa2\" style=\"margin: 15px 0;\"/>\n",
       "    <script crossorigin type=\"module\">\n",
       "    import { render, ColoredTokens } from \"https://unpkg.com/circuitsvis@1.43.2/dist/cdn/esm.js\";\n",
       "    render(\n",
       "      \"circuits-vis-cded3c58-6fa2\",\n",
       "      ColoredTokens,\n",
       "      {\"tokens\": [\"<|endoftext|>\", \"When\", \" Tom\", \" and\", \" James\", \" went\", \" to\", \" the\", \" park\", \",\", \" James\", \" gave\", \" the\", \" ball\", \" to\"], \"values\": [0.0, 0.0, 0.0, 0.0, 0.0, 0.0, 0.0, 0.0, 0.0, 0.0, 0.0, 0.0, 0.0, 0.0, 0.0]}\n",
       "    )\n",
       "    </script>"
      ],
      "text/plain": [
       "<circuitsvis.utils.render.RenderedHTML at 0x7d5ff83833d0>"
      ]
     },
     "metadata": {},
     "output_type": "display_data"
    },
    {
     "data": {
      "text/html": [
       "<div id=\"circuits-vis-b6930534-aaf9\" style=\"margin: 15px 0;\"/>\n",
       "    <script crossorigin type=\"module\">\n",
       "    import { render, ColoredTokens } from \"https://unpkg.com/circuitsvis@1.43.2/dist/cdn/esm.js\";\n",
       "    render(\n",
       "      \"circuits-vis-b6930534-aaf9\",\n",
       "      ColoredTokens,\n",
       "      {\"tokens\": [\"<|endoftext|>\", \"When\", \" Tom\", \" and\", \" James\", \" went\", \" to\", \" the\", \" park\", \",\", \" Tom\", \" gave\", \" the\", \" ball\", \" to\"], \"values\": [0.0, 0.0, 0.0, 0.0, 0.0, 0.0, 0.0, 0.0, 0.0, 0.0, 0.0, 0.0, 0.0, 0.0, 0.733487069606781]}\n",
       "    )\n",
       "    </script>"
      ],
      "text/plain": [
       "<circuitsvis.utils.render.RenderedHTML at 0x7d5ff8469d10>"
      ]
     },
     "metadata": {},
     "output_type": "display_data"
    },
    {
     "data": {
      "text/html": [
       "<div id=\"circuits-vis-4c3f2e4e-1b3e\" style=\"margin: 15px 0;\"/>\n",
       "    <script crossorigin type=\"module\">\n",
       "    import { render, ColoredTokens } from \"https://unpkg.com/circuitsvis@1.43.2/dist/cdn/esm.js\";\n",
       "    render(\n",
       "      \"circuits-vis-4c3f2e4e-1b3e\",\n",
       "      ColoredTokens,\n",
       "      {\"tokens\": [\"<|endoftext|>\", \"When\", \" Dan\", \" and\", \" Sid\", \" went\", \" to\", \" the\", \" shops\", \",\", \" Sid\", \" gave\", \" an\", \" apple\", \" to\"], \"values\": [0.0, 0.0, 0.0, 0.0, 0.0, 0.0, 0.0, 0.0, 0.0, 0.0, 0.0, 0.0, 0.0, 0.0, 0.0]}\n",
       "    )\n",
       "    </script>"
      ],
      "text/plain": [
       "<circuitsvis.utils.render.RenderedHTML at 0x7d5ff83293d0>"
      ]
     },
     "metadata": {},
     "output_type": "display_data"
    },
    {
     "data": {
      "text/html": [
       "<div id=\"circuits-vis-c1d3210e-418f\" style=\"margin: 15px 0;\"/>\n",
       "    <script crossorigin type=\"module\">\n",
       "    import { render, ColoredTokens } from \"https://unpkg.com/circuitsvis@1.43.2/dist/cdn/esm.js\";\n",
       "    render(\n",
       "      \"circuits-vis-c1d3210e-418f\",\n",
       "      ColoredTokens,\n",
       "      {\"tokens\": [\"<|endoftext|>\", \"When\", \" Dan\", \" and\", \" Sid\", \" went\", \" to\", \" the\", \" shops\", \",\", \" Dan\", \" gave\", \" an\", \" apple\", \" to\"], \"values\": [0.0, 0.0, 0.0, 0.0, 0.0, 0.0, 0.0, 0.0, 0.0, 0.0, 0.0, 0.0, 0.0, 0.0, 2.0634219646453857]}\n",
       "    )\n",
       "    </script>"
      ],
      "text/plain": [
       "<circuitsvis.utils.render.RenderedHTML at 0x7d5ff83613d0>"
      ]
     },
     "metadata": {},
     "output_type": "display_data"
    },
    {
     "data": {
      "text/html": [
       "<div id=\"circuits-vis-fd452a4a-cbbe\" style=\"margin: 15px 0;\"/>\n",
       "    <script crossorigin type=\"module\">\n",
       "    import { render, ColoredTokens } from \"https://unpkg.com/circuitsvis@1.43.2/dist/cdn/esm.js\";\n",
       "    render(\n",
       "      \"circuits-vis-fd452a4a-cbbe\",\n",
       "      ColoredTokens,\n",
       "      {\"tokens\": [\"<|endoftext|>\", \"After\", \" Martin\", \" and\", \" Amy\", \" went\", \" to\", \" the\", \" park\", \",\", \" Amy\", \" gave\", \" a\", \" drink\", \" to\"], \"values\": [0.0, 0.0, 0.0, 0.0, 0.0, 0.0, 0.0, 0.0, 0.0, 0.0, 0.0, 0.0, 0.0, 0.0, 0.0]}\n",
       "    )\n",
       "    </script>"
      ],
      "text/plain": [
       "<circuitsvis.utils.render.RenderedHTML at 0x7d5ff9582690>"
      ]
     },
     "metadata": {},
     "output_type": "display_data"
    },
    {
     "data": {
      "text/html": [
       "<div id=\"circuits-vis-6304a3a0-910b\" style=\"margin: 15px 0;\"/>\n",
       "    <script crossorigin type=\"module\">\n",
       "    import { render, ColoredTokens } from \"https://unpkg.com/circuitsvis@1.43.2/dist/cdn/esm.js\";\n",
       "    render(\n",
       "      \"circuits-vis-6304a3a0-910b\",\n",
       "      ColoredTokens,\n",
       "      {\"tokens\": [\"<|endoftext|>\", \"After\", \" Martin\", \" and\", \" Amy\", \" went\", \" to\", \" the\", \" park\", \",\", \" Martin\", \" gave\", \" a\", \" drink\", \" to\"], \"values\": [0.0, 0.0, 0.0, 0.0, 0.0, 0.0, 0.0, 0.0, 0.0, 0.0, 0.0, 0.0, 0.0, 0.0, 1.552672266960144]}\n",
       "    )\n",
       "    </script>"
      ],
      "text/plain": [
       "<circuitsvis.utils.render.RenderedHTML at 0x7d5ff9582690>"
      ]
     },
     "metadata": {},
     "output_type": "display_data"
    },
    {
     "name": "stdout",
     "output_type": "stream",
     "text": [
      "Feature 10603\n"
     ]
    },
    {
     "data": {
      "text/html": [
       "<div id=\"circuits-vis-b591b54d-10e4\" style=\"margin: 15px 0;\"/>\n",
       "    <script crossorigin type=\"module\">\n",
       "    import { render, ColoredTokens } from \"https://unpkg.com/circuitsvis@1.43.2/dist/cdn/esm.js\";\n",
       "    render(\n",
       "      \"circuits-vis-b591b54d-10e4\",\n",
       "      ColoredTokens,\n",
       "      {\"tokens\": [\"<|endoftext|>\", \"When\", \" John\", \" and\", \" Mary\", \" went\", \" to\", \" the\", \" shops\", \",\", \" Mary\", \" gave\", \" the\", \" bag\", \" to\"], \"values\": [0.0, 0.0, 0.0, 0.21853050589561462, 0.0, 0.0, 0.0, 0.0, 0.0, 0.0, 0.0, 0.0, 0.0, 0.0, 0.0]}\n",
       "    )\n",
       "    </script>"
      ],
      "text/plain": [
       "<circuitsvis.utils.render.RenderedHTML at 0x7d5ff8485850>"
      ]
     },
     "metadata": {},
     "output_type": "display_data"
    },
    {
     "data": {
      "text/html": [
       "<div id=\"circuits-vis-daace1e8-b9a9\" style=\"margin: 15px 0;\"/>\n",
       "    <script crossorigin type=\"module\">\n",
       "    import { render, ColoredTokens } from \"https://unpkg.com/circuitsvis@1.43.2/dist/cdn/esm.js\";\n",
       "    render(\n",
       "      \"circuits-vis-daace1e8-b9a9\",\n",
       "      ColoredTokens,\n",
       "      {\"tokens\": [\"<|endoftext|>\", \"When\", \" John\", \" and\", \" Mary\", \" went\", \" to\", \" the\", \" shops\", \",\", \" John\", \" gave\", \" the\", \" bag\", \" to\"], \"values\": [0.0, 0.0, 0.0, 0.21853050589561462, 0.0, 0.0, 0.0, 0.0, 0.0, 0.0, 0.0, 0.0, 0.0, 0.0, 0.5014990568161011]}\n",
       "    )\n",
       "    </script>"
      ],
      "text/plain": [
       "<circuitsvis.utils.render.RenderedHTML at 0x7d5ff83613d0>"
      ]
     },
     "metadata": {},
     "output_type": "display_data"
    },
    {
     "data": {
      "text/html": [
       "<div id=\"circuits-vis-5f31db81-9e75\" style=\"margin: 15px 0;\"/>\n",
       "    <script crossorigin type=\"module\">\n",
       "    import { render, ColoredTokens } from \"https://unpkg.com/circuitsvis@1.43.2/dist/cdn/esm.js\";\n",
       "    render(\n",
       "      \"circuits-vis-5f31db81-9e75\",\n",
       "      ColoredTokens,\n",
       "      {\"tokens\": [\"<|endoftext|>\", \"When\", \" Tom\", \" and\", \" James\", \" went\", \" to\", \" the\", \" park\", \",\", \" James\", \" gave\", \" the\", \" ball\", \" to\"], \"values\": [0.0, 0.0, 0.0, 0.0, 0.0, 0.0, 0.0, 0.0, 0.0, 0.0, 0.0, 0.0, 0.0, 0.0, 0.0]}\n",
       "    )\n",
       "    </script>"
      ],
      "text/plain": [
       "<circuitsvis.utils.render.RenderedHTML at 0x7d5ff8407890>"
      ]
     },
     "metadata": {},
     "output_type": "display_data"
    },
    {
     "data": {
      "text/html": [
       "<div id=\"circuits-vis-5180f8ff-93da\" style=\"margin: 15px 0;\"/>\n",
       "    <script crossorigin type=\"module\">\n",
       "    import { render, ColoredTokens } from \"https://unpkg.com/circuitsvis@1.43.2/dist/cdn/esm.js\";\n",
       "    render(\n",
       "      \"circuits-vis-5180f8ff-93da\",\n",
       "      ColoredTokens,\n",
       "      {\"tokens\": [\"<|endoftext|>\", \"When\", \" Tom\", \" and\", \" James\", \" went\", \" to\", \" the\", \" park\", \",\", \" Tom\", \" gave\", \" the\", \" ball\", \" to\"], \"values\": [0.0, 0.0, 0.0, 0.0, 0.0, 0.0, 0.0, 0.0, 0.0, 0.0, 0.0, 0.0, 0.0, 0.0, 0.05562993884086609]}\n",
       "    )\n",
       "    </script>"
      ],
      "text/plain": [
       "<circuitsvis.utils.render.RenderedHTML at 0x7d5ff8407890>"
      ]
     },
     "metadata": {},
     "output_type": "display_data"
    },
    {
     "data": {
      "text/html": [
       "<div id=\"circuits-vis-f2289f03-9403\" style=\"margin: 15px 0;\"/>\n",
       "    <script crossorigin type=\"module\">\n",
       "    import { render, ColoredTokens } from \"https://unpkg.com/circuitsvis@1.43.2/dist/cdn/esm.js\";\n",
       "    render(\n",
       "      \"circuits-vis-f2289f03-9403\",\n",
       "      ColoredTokens,\n",
       "      {\"tokens\": [\"<|endoftext|>\", \"When\", \" Dan\", \" and\", \" Sid\", \" went\", \" to\", \" the\", \" shops\", \",\", \" Sid\", \" gave\", \" an\", \" apple\", \" to\"], \"values\": [0.0, 0.0, 0.0, 0.0, 0.0, 0.0, 0.0, 0.0, 0.0, 0.0, 0.0, 0.0, 0.0, 0.0, 0.0]}\n",
       "    )\n",
       "    </script>"
      ],
      "text/plain": [
       "<circuitsvis.utils.render.RenderedHTML at 0x7d5ff8317a10>"
      ]
     },
     "metadata": {},
     "output_type": "display_data"
    },
    {
     "data": {
      "text/html": [
       "<div id=\"circuits-vis-13bb502b-2d3e\" style=\"margin: 15px 0;\"/>\n",
       "    <script crossorigin type=\"module\">\n",
       "    import { render, ColoredTokens } from \"https://unpkg.com/circuitsvis@1.43.2/dist/cdn/esm.js\";\n",
       "    render(\n",
       "      \"circuits-vis-13bb502b-2d3e\",\n",
       "      ColoredTokens,\n",
       "      {\"tokens\": [\"<|endoftext|>\", \"When\", \" Dan\", \" and\", \" Sid\", \" went\", \" to\", \" the\", \" shops\", \",\", \" Dan\", \" gave\", \" an\", \" apple\", \" to\"], \"values\": [0.0, 0.0, 0.0, 0.0, 0.0, 0.0, 0.0, 0.0, 0.0, 0.0, 0.0, 0.0, 0.0, 0.0, 0.0]}\n",
       "    )\n",
       "    </script>"
      ],
      "text/plain": [
       "<circuitsvis.utils.render.RenderedHTML at 0x7d5ff8330c10>"
      ]
     },
     "metadata": {},
     "output_type": "display_data"
    },
    {
     "data": {
      "text/html": [
       "<div id=\"circuits-vis-a84ffe5c-0d23\" style=\"margin: 15px 0;\"/>\n",
       "    <script crossorigin type=\"module\">\n",
       "    import { render, ColoredTokens } from \"https://unpkg.com/circuitsvis@1.43.2/dist/cdn/esm.js\";\n",
       "    render(\n",
       "      \"circuits-vis-a84ffe5c-0d23\",\n",
       "      ColoredTokens,\n",
       "      {\"tokens\": [\"<|endoftext|>\", \"After\", \" Martin\", \" and\", \" Amy\", \" went\", \" to\", \" the\", \" park\", \",\", \" Amy\", \" gave\", \" a\", \" drink\", \" to\"], \"values\": [0.0, 0.0, 0.0, 0.6962745189666748, 0.0, 0.0, 0.0, 0.0, 0.0, 0.0, 0.0, 0.0, 0.0, 0.0, 0.0]}\n",
       "    )\n",
       "    </script>"
      ],
      "text/plain": [
       "<circuitsvis.utils.render.RenderedHTML at 0x7d5ff82ec3d0>"
      ]
     },
     "metadata": {},
     "output_type": "display_data"
    },
    {
     "data": {
      "text/html": [
       "<div id=\"circuits-vis-1f7b7e1d-99c5\" style=\"margin: 15px 0;\"/>\n",
       "    <script crossorigin type=\"module\">\n",
       "    import { render, ColoredTokens } from \"https://unpkg.com/circuitsvis@1.43.2/dist/cdn/esm.js\";\n",
       "    render(\n",
       "      \"circuits-vis-1f7b7e1d-99c5\",\n",
       "      ColoredTokens,\n",
       "      {\"tokens\": [\"<|endoftext|>\", \"After\", \" Martin\", \" and\", \" Amy\", \" went\", \" to\", \" the\", \" park\", \",\", \" Martin\", \" gave\", \" a\", \" drink\", \" to\"], \"values\": [0.0, 0.0, 0.0, 0.6962745189666748, 0.0, 0.0, 0.0, 0.0, 0.0, 0.0, 0.0, 0.0, 0.0, 0.0, 0.0]}\n",
       "    )\n",
       "    </script>"
      ],
      "text/plain": [
       "<circuitsvis.utils.render.RenderedHTML at 0x7d5ff846ea50>"
      ]
     },
     "metadata": {},
     "output_type": "display_data"
    },
    {
     "name": "stdout",
     "output_type": "stream",
     "text": [
      "Feature 16110\n"
     ]
    },
    {
     "data": {
      "text/html": [
       "<div id=\"circuits-vis-0ae270e0-c89f\" style=\"margin: 15px 0;\"/>\n",
       "    <script crossorigin type=\"module\">\n",
       "    import { render, ColoredTokens } from \"https://unpkg.com/circuitsvis@1.43.2/dist/cdn/esm.js\";\n",
       "    render(\n",
       "      \"circuits-vis-0ae270e0-c89f\",\n",
       "      ColoredTokens,\n",
       "      {\"tokens\": [\"<|endoftext|>\", \"When\", \" John\", \" and\", \" Mary\", \" went\", \" to\", \" the\", \" shops\", \",\", \" Mary\", \" gave\", \" the\", \" bag\", \" to\"], \"values\": [0.0, 0.0, 0.0, 0.0, 0.0, 0.0, 0.0, 0.0, 0.0, 0.0, 0.0, 0.0, 0.0, 0.0, 2.890385627746582]}\n",
       "    )\n",
       "    </script>"
      ],
      "text/plain": [
       "<circuitsvis.utils.render.RenderedHTML at 0x7d5ff8577290>"
      ]
     },
     "metadata": {},
     "output_type": "display_data"
    },
    {
     "data": {
      "text/html": [
       "<div id=\"circuits-vis-50e45eb0-d505\" style=\"margin: 15px 0;\"/>\n",
       "    <script crossorigin type=\"module\">\n",
       "    import { render, ColoredTokens } from \"https://unpkg.com/circuitsvis@1.43.2/dist/cdn/esm.js\";\n",
       "    render(\n",
       "      \"circuits-vis-50e45eb0-d505\",\n",
       "      ColoredTokens,\n",
       "      {\"tokens\": [\"<|endoftext|>\", \"When\", \" John\", \" and\", \" Mary\", \" went\", \" to\", \" the\", \" shops\", \",\", \" John\", \" gave\", \" the\", \" bag\", \" to\"], \"values\": [0.0, 0.0, 0.0, 0.0, 0.0, 0.0, 0.0, 0.0, 0.0, 0.0, 0.0, 0.0, 0.0, 0.0, 2.4834563732147217]}\n",
       "    )\n",
       "    </script>"
      ],
      "text/plain": [
       "<circuitsvis.utils.render.RenderedHTML at 0x7d5ff84c33d0>"
      ]
     },
     "metadata": {},
     "output_type": "display_data"
    },
    {
     "data": {
      "text/html": [
       "<div id=\"circuits-vis-924b4478-6446\" style=\"margin: 15px 0;\"/>\n",
       "    <script crossorigin type=\"module\">\n",
       "    import { render, ColoredTokens } from \"https://unpkg.com/circuitsvis@1.43.2/dist/cdn/esm.js\";\n",
       "    render(\n",
       "      \"circuits-vis-924b4478-6446\",\n",
       "      ColoredTokens,\n",
       "      {\"tokens\": [\"<|endoftext|>\", \"When\", \" Tom\", \" and\", \" James\", \" went\", \" to\", \" the\", \" park\", \",\", \" James\", \" gave\", \" the\", \" ball\", \" to\"], \"values\": [0.0, 0.0, 0.0, 0.0, 0.0, 0.0, 0.0, 0.0, 0.0, 0.0, 0.0, 3.0646753311157227, 0.0, 0.0, 9.125715255737305]}\n",
       "    )\n",
       "    </script>"
      ],
      "text/plain": [
       "<circuitsvis.utils.render.RenderedHTML at 0x7d5ff850a550>"
      ]
     },
     "metadata": {},
     "output_type": "display_data"
    },
    {
     "data": {
      "text/html": [
       "<div id=\"circuits-vis-c1d4d0f8-9bdb\" style=\"margin: 15px 0;\"/>\n",
       "    <script crossorigin type=\"module\">\n",
       "    import { render, ColoredTokens } from \"https://unpkg.com/circuitsvis@1.43.2/dist/cdn/esm.js\";\n",
       "    render(\n",
       "      \"circuits-vis-c1d4d0f8-9bdb\",\n",
       "      ColoredTokens,\n",
       "      {\"tokens\": [\"<|endoftext|>\", \"When\", \" Tom\", \" and\", \" James\", \" went\", \" to\", \" the\", \" park\", \",\", \" Tom\", \" gave\", \" the\", \" ball\", \" to\"], \"values\": [0.0, 0.0, 0.0, 0.0, 0.0, 0.0, 0.0, 0.0, 0.0, 0.0, 0.0, 0.0, 0.0, 0.0, 2.562279462814331]}\n",
       "    )\n",
       "    </script>"
      ],
      "text/plain": [
       "<circuitsvis.utils.render.RenderedHTML at 0x7d5ff850a550>"
      ]
     },
     "metadata": {},
     "output_type": "display_data"
    },
    {
     "data": {
      "text/html": [
       "<div id=\"circuits-vis-d01aefab-5764\" style=\"margin: 15px 0;\"/>\n",
       "    <script crossorigin type=\"module\">\n",
       "    import { render, ColoredTokens } from \"https://unpkg.com/circuitsvis@1.43.2/dist/cdn/esm.js\";\n",
       "    render(\n",
       "      \"circuits-vis-d01aefab-5764\",\n",
       "      ColoredTokens,\n",
       "      {\"tokens\": [\"<|endoftext|>\", \"When\", \" Dan\", \" and\", \" Sid\", \" went\", \" to\", \" the\", \" shops\", \",\", \" Sid\", \" gave\", \" an\", \" apple\", \" to\"], \"values\": [0.0, 0.0, 0.0, 0.0, 0.0, 0.0, 0.0, 0.0, 0.0, 0.0, 0.0, 0.5682130455970764, 0.0, 0.0, 1.913003921508789]}\n",
       "    )\n",
       "    </script>"
      ],
      "text/plain": [
       "<circuitsvis.utils.render.RenderedHTML at 0x7d5ff840b610>"
      ]
     },
     "metadata": {},
     "output_type": "display_data"
    },
    {
     "data": {
      "text/html": [
       "<div id=\"circuits-vis-3ff05f37-8124\" style=\"margin: 15px 0;\"/>\n",
       "    <script crossorigin type=\"module\">\n",
       "    import { render, ColoredTokens } from \"https://unpkg.com/circuitsvis@1.43.2/dist/cdn/esm.js\";\n",
       "    render(\n",
       "      \"circuits-vis-3ff05f37-8124\",\n",
       "      ColoredTokens,\n",
       "      {\"tokens\": [\"<|endoftext|>\", \"When\", \" Dan\", \" and\", \" Sid\", \" went\", \" to\", \" the\", \" shops\", \",\", \" Dan\", \" gave\", \" an\", \" apple\", \" to\"], \"values\": [0.0, 0.0, 0.0, 0.0, 0.0, 0.0, 0.0, 0.0, 0.0, 0.0, 0.0, 0.0, 0.0, 0.0, 0.0]}\n",
       "    )\n",
       "    </script>"
      ],
      "text/plain": [
       "<circuitsvis.utils.render.RenderedHTML at 0x7d5ff93e25d0>"
      ]
     },
     "metadata": {},
     "output_type": "display_data"
    },
    {
     "data": {
      "text/html": [
       "<div id=\"circuits-vis-0c49c2a6-2ab5\" style=\"margin: 15px 0;\"/>\n",
       "    <script crossorigin type=\"module\">\n",
       "    import { render, ColoredTokens } from \"https://unpkg.com/circuitsvis@1.43.2/dist/cdn/esm.js\";\n",
       "    render(\n",
       "      \"circuits-vis-0c49c2a6-2ab5\",\n",
       "      ColoredTokens,\n",
       "      {\"tokens\": [\"<|endoftext|>\", \"After\", \" Martin\", \" and\", \" Amy\", \" went\", \" to\", \" the\", \" park\", \",\", \" Amy\", \" gave\", \" a\", \" drink\", \" to\"], \"values\": [0.0, 0.0, 0.0, 0.11341670900583267, 0.0, 0.0, 0.0, 0.0, 0.0, 0.32986173033714294, 0.0, 2.785473108291626, 0.0, 0.0, 6.868743896484375]}\n",
       "    )\n",
       "    </script>"
      ],
      "text/plain": [
       "<circuitsvis.utils.render.RenderedHTML at 0x7d5ff93e25d0>"
      ]
     },
     "metadata": {},
     "output_type": "display_data"
    },
    {
     "data": {
      "text/html": [
       "<div id=\"circuits-vis-e309496a-958f\" style=\"margin: 15px 0;\"/>\n",
       "    <script crossorigin type=\"module\">\n",
       "    import { render, ColoredTokens } from \"https://unpkg.com/circuitsvis@1.43.2/dist/cdn/esm.js\";\n",
       "    render(\n",
       "      \"circuits-vis-e309496a-958f\",\n",
       "      ColoredTokens,\n",
       "      {\"tokens\": [\"<|endoftext|>\", \"After\", \" Martin\", \" and\", \" Amy\", \" went\", \" to\", \" the\", \" park\", \",\", \" Martin\", \" gave\", \" a\", \" drink\", \" to\"], \"values\": [0.0, 0.0, 0.0, 0.11341670900583267, 0.0, 0.0, 0.0, 0.0, 0.0, 0.32986173033714294, 0.0, 0.20217564702033997, 0.0, 0.0, 3.4244580268859863]}\n",
       "    )\n",
       "    </script>"
      ],
      "text/plain": [
       "<circuitsvis.utils.render.RenderedHTML at 0x7d5ff94c9450>"
      ]
     },
     "metadata": {},
     "output_type": "display_data"
    },
    {
     "name": "stdout",
     "output_type": "stream",
     "text": [
      "Feature 15143\n"
     ]
    },
    {
     "data": {
      "text/html": [
       "<div id=\"circuits-vis-720d89be-ae6e\" style=\"margin: 15px 0;\"/>\n",
       "    <script crossorigin type=\"module\">\n",
       "    import { render, ColoredTokens } from \"https://unpkg.com/circuitsvis@1.43.2/dist/cdn/esm.js\";\n",
       "    render(\n",
       "      \"circuits-vis-720d89be-ae6e\",\n",
       "      ColoredTokens,\n",
       "      {\"tokens\": [\"<|endoftext|>\", \"When\", \" John\", \" and\", \" Mary\", \" went\", \" to\", \" the\", \" shops\", \",\", \" Mary\", \" gave\", \" the\", \" bag\", \" to\"], \"values\": [0.0, 0.0, 0.0, 0.0, 0.0, 0.0, 0.0, 0.0, 0.0, 0.0, 0.0, 4.244845390319824, 0.0, 0.0, 0.39149701595306396]}\n",
       "    )\n",
       "    </script>"
      ],
      "text/plain": [
       "<circuitsvis.utils.render.RenderedHTML at 0x7d5ff842ecd0>"
      ]
     },
     "metadata": {},
     "output_type": "display_data"
    },
    {
     "data": {
      "text/html": [
       "<div id=\"circuits-vis-44048f86-38d8\" style=\"margin: 15px 0;\"/>\n",
       "    <script crossorigin type=\"module\">\n",
       "    import { render, ColoredTokens } from \"https://unpkg.com/circuitsvis@1.43.2/dist/cdn/esm.js\";\n",
       "    render(\n",
       "      \"circuits-vis-44048f86-38d8\",\n",
       "      ColoredTokens,\n",
       "      {\"tokens\": [\"<|endoftext|>\", \"When\", \" John\", \" and\", \" Mary\", \" went\", \" to\", \" the\", \" shops\", \",\", \" John\", \" gave\", \" the\", \" bag\", \" to\"], \"values\": [0.0, 0.0, 0.0, 0.0, 0.0, 0.0, 0.0, 0.0, 0.0, 0.0, 0.0, 3.208068370819092, 0.0, 0.0, 0.5414100289344788]}\n",
       "    )\n",
       "    </script>"
      ],
      "text/plain": [
       "<circuitsvis.utils.render.RenderedHTML at 0x7d5ff842ecd0>"
      ]
     },
     "metadata": {},
     "output_type": "display_data"
    },
    {
     "data": {
      "text/html": [
       "<div id=\"circuits-vis-7a733c1c-b251\" style=\"margin: 15px 0;\"/>\n",
       "    <script crossorigin type=\"module\">\n",
       "    import { render, ColoredTokens } from \"https://unpkg.com/circuitsvis@1.43.2/dist/cdn/esm.js\";\n",
       "    render(\n",
       "      \"circuits-vis-7a733c1c-b251\",\n",
       "      ColoredTokens,\n",
       "      {\"tokens\": [\"<|endoftext|>\", \"When\", \" Tom\", \" and\", \" James\", \" went\", \" to\", \" the\", \" park\", \",\", \" James\", \" gave\", \" the\", \" ball\", \" to\"], \"values\": [0.0, 0.0, 0.0, 0.0, 0.0, 0.0, 0.0, 0.0, 0.0, 0.0, 0.0, 2.6410560607910156, 0.0, 0.0, 0.5808109045028687]}\n",
       "    )\n",
       "    </script>"
      ],
      "text/plain": [
       "<circuitsvis.utils.render.RenderedHTML at 0x7d5ff84c33d0>"
      ]
     },
     "metadata": {},
     "output_type": "display_data"
    },
    {
     "data": {
      "text/html": [
       "<div id=\"circuits-vis-3bf25bcd-03fe\" style=\"margin: 15px 0;\"/>\n",
       "    <script crossorigin type=\"module\">\n",
       "    import { render, ColoredTokens } from \"https://unpkg.com/circuitsvis@1.43.2/dist/cdn/esm.js\";\n",
       "    render(\n",
       "      \"circuits-vis-3bf25bcd-03fe\",\n",
       "      ColoredTokens,\n",
       "      {\"tokens\": [\"<|endoftext|>\", \"When\", \" Tom\", \" and\", \" James\", \" went\", \" to\", \" the\", \" park\", \",\", \" Tom\", \" gave\", \" the\", \" ball\", \" to\"], \"values\": [0.0, 0.0, 0.0, 0.0, 0.0, 0.0, 0.0, 0.0, 0.0, 0.0, 0.0, 2.942096471786499, 0.0, 0.0, 0.0]}\n",
       "    )\n",
       "    </script>"
      ],
      "text/plain": [
       "<circuitsvis.utils.render.RenderedHTML at 0x7d5ff84c33d0>"
      ]
     },
     "metadata": {},
     "output_type": "display_data"
    },
    {
     "data": {
      "text/html": [
       "<div id=\"circuits-vis-1850e1db-12d6\" style=\"margin: 15px 0;\"/>\n",
       "    <script crossorigin type=\"module\">\n",
       "    import { render, ColoredTokens } from \"https://unpkg.com/circuitsvis@1.43.2/dist/cdn/esm.js\";\n",
       "    render(\n",
       "      \"circuits-vis-1850e1db-12d6\",\n",
       "      ColoredTokens,\n",
       "      {\"tokens\": [\"<|endoftext|>\", \"When\", \" Dan\", \" and\", \" Sid\", \" went\", \" to\", \" the\", \" shops\", \",\", \" Sid\", \" gave\", \" an\", \" apple\", \" to\"], \"values\": [0.0, 0.0, 0.0, 0.0, 0.0, 0.0, 0.0, 0.0, 0.0, 0.0, 0.0, 2.631028652191162, 0.0, 0.0, 0.31105178594589233]}\n",
       "    )\n",
       "    </script>"
      ],
      "text/plain": [
       "<circuitsvis.utils.render.RenderedHTML at 0x7d5ff8317090>"
      ]
     },
     "metadata": {},
     "output_type": "display_data"
    },
    {
     "data": {
      "text/html": [
       "<div id=\"circuits-vis-d7a15b77-4ff8\" style=\"margin: 15px 0;\"/>\n",
       "    <script crossorigin type=\"module\">\n",
       "    import { render, ColoredTokens } from \"https://unpkg.com/circuitsvis@1.43.2/dist/cdn/esm.js\";\n",
       "    render(\n",
       "      \"circuits-vis-d7a15b77-4ff8\",\n",
       "      ColoredTokens,\n",
       "      {\"tokens\": [\"<|endoftext|>\", \"When\", \" Dan\", \" and\", \" Sid\", \" went\", \" to\", \" the\", \" shops\", \",\", \" Dan\", \" gave\", \" an\", \" apple\", \" to\"], \"values\": [0.0, 0.0, 0.0, 0.0, 0.0, 0.0, 0.0, 0.0, 0.0, 0.0, 0.0, 2.139364719390869, 0.0, 0.0, 0.0]}\n",
       "    )\n",
       "    </script>"
      ],
      "text/plain": [
       "<circuitsvis.utils.render.RenderedHTML at 0x7d5ff94c9450>"
      ]
     },
     "metadata": {},
     "output_type": "display_data"
    },
    {
     "data": {
      "text/html": [
       "<div id=\"circuits-vis-c744eabc-09a0\" style=\"margin: 15px 0;\"/>\n",
       "    <script crossorigin type=\"module\">\n",
       "    import { render, ColoredTokens } from \"https://unpkg.com/circuitsvis@1.43.2/dist/cdn/esm.js\";\n",
       "    render(\n",
       "      \"circuits-vis-c744eabc-09a0\",\n",
       "      ColoredTokens,\n",
       "      {\"tokens\": [\"<|endoftext|>\", \"After\", \" Martin\", \" and\", \" Amy\", \" went\", \" to\", \" the\", \" park\", \",\", \" Amy\", \" gave\", \" a\", \" drink\", \" to\"], \"values\": [0.0, 0.0, 0.0, 0.0, 0.0, 0.0, 0.0, 0.0, 0.0, 0.0, 0.0, 2.056464910507202, 0.0, 0.0, 0.0]}\n",
       "    )\n",
       "    </script>"
      ],
      "text/plain": [
       "<circuitsvis.utils.render.RenderedHTML at 0x7d5ff86a5f50>"
      ]
     },
     "metadata": {},
     "output_type": "display_data"
    },
    {
     "data": {
      "text/html": [
       "<div id=\"circuits-vis-d1a76362-656f\" style=\"margin: 15px 0;\"/>\n",
       "    <script crossorigin type=\"module\">\n",
       "    import { render, ColoredTokens } from \"https://unpkg.com/circuitsvis@1.43.2/dist/cdn/esm.js\";\n",
       "    render(\n",
       "      \"circuits-vis-d1a76362-656f\",\n",
       "      ColoredTokens,\n",
       "      {\"tokens\": [\"<|endoftext|>\", \"After\", \" Martin\", \" and\", \" Amy\", \" went\", \" to\", \" the\", \" park\", \",\", \" Martin\", \" gave\", \" a\", \" drink\", \" to\"], \"values\": [0.0, 0.0, 0.0, 0.0, 0.0, 0.0, 0.0, 0.0, 0.0, 0.0, 0.0, 1.9604575634002686, 0.0, 0.0, 0.0]}\n",
       "    )\n",
       "    </script>"
      ],
      "text/plain": [
       "<circuitsvis.utils.render.RenderedHTML at 0x7d5ff8476cd0>"
      ]
     },
     "metadata": {},
     "output_type": "display_data"
    },
    {
     "name": "stdout",
     "output_type": "stream",
     "text": [
      "Feature 21016\n"
     ]
    },
    {
     "data": {
      "text/html": [
       "<div id=\"circuits-vis-ec1445a5-124e\" style=\"margin: 15px 0;\"/>\n",
       "    <script crossorigin type=\"module\">\n",
       "    import { render, ColoredTokens } from \"https://unpkg.com/circuitsvis@1.43.2/dist/cdn/esm.js\";\n",
       "    render(\n",
       "      \"circuits-vis-ec1445a5-124e\",\n",
       "      ColoredTokens,\n",
       "      {\"tokens\": [\"<|endoftext|>\", \"When\", \" John\", \" and\", \" Mary\", \" went\", \" to\", \" the\", \" shops\", \",\", \" Mary\", \" gave\", \" the\", \" bag\", \" to\"], \"values\": [0.0, 0.0, 0.0, 0.0, 0.0, 0.0, 1.0955021381378174, 0.0, 0.08799797296524048, 0.14790350198745728, 0.0, 0.0, 0.0, 0.8810201287269592, 0.0]}\n",
       "    )\n",
       "    </script>"
      ],
      "text/plain": [
       "<circuitsvis.utils.render.RenderedHTML at 0x7d5ff86a5f50>"
      ]
     },
     "metadata": {},
     "output_type": "display_data"
    },
    {
     "data": {
      "text/html": [
       "<div id=\"circuits-vis-88fa5c89-6c37\" style=\"margin: 15px 0;\"/>\n",
       "    <script crossorigin type=\"module\">\n",
       "    import { render, ColoredTokens } from \"https://unpkg.com/circuitsvis@1.43.2/dist/cdn/esm.js\";\n",
       "    render(\n",
       "      \"circuits-vis-88fa5c89-6c37\",\n",
       "      ColoredTokens,\n",
       "      {\"tokens\": [\"<|endoftext|>\", \"When\", \" John\", \" and\", \" Mary\", \" went\", \" to\", \" the\", \" shops\", \",\", \" John\", \" gave\", \" the\", \" bag\", \" to\"], \"values\": [0.0, 0.0, 0.0, 0.0, 0.0, 0.0, 1.0955021381378174, 0.0, 0.08799797296524048, 0.14790350198745728, 0.0, 0.0, 0.0, 1.1891698837280273, 0.0]}\n",
       "    )\n",
       "    </script>"
      ],
      "text/plain": [
       "<circuitsvis.utils.render.RenderedHTML at 0x7d5ff82ec3d0>"
      ]
     },
     "metadata": {},
     "output_type": "display_data"
    },
    {
     "data": {
      "text/html": [
       "<div id=\"circuits-vis-8f0a732f-b8a0\" style=\"margin: 15px 0;\"/>\n",
       "    <script crossorigin type=\"module\">\n",
       "    import { render, ColoredTokens } from \"https://unpkg.com/circuitsvis@1.43.2/dist/cdn/esm.js\";\n",
       "    render(\n",
       "      \"circuits-vis-8f0a732f-b8a0\",\n",
       "      ColoredTokens,\n",
       "      {\"tokens\": [\"<|endoftext|>\", \"When\", \" Tom\", \" and\", \" James\", \" went\", \" to\", \" the\", \" park\", \",\", \" James\", \" gave\", \" the\", \" ball\", \" to\"], \"values\": [0.0, 0.0, 0.0, 0.0, 0.0, 0.0, 0.3266294598579407, 0.0, 0.0, 0.0, 0.0, 0.0, 0.0, 0.0, 0.0]}\n",
       "    )\n",
       "    </script>"
      ],
      "text/plain": [
       "<circuitsvis.utils.render.RenderedHTML at 0x7d5ff8469d10>"
      ]
     },
     "metadata": {},
     "output_type": "display_data"
    },
    {
     "data": {
      "text/html": [
       "<div id=\"circuits-vis-4eafb970-b976\" style=\"margin: 15px 0;\"/>\n",
       "    <script crossorigin type=\"module\">\n",
       "    import { render, ColoredTokens } from \"https://unpkg.com/circuitsvis@1.43.2/dist/cdn/esm.js\";\n",
       "    render(\n",
       "      \"circuits-vis-4eafb970-b976\",\n",
       "      ColoredTokens,\n",
       "      {\"tokens\": [\"<|endoftext|>\", \"When\", \" Tom\", \" and\", \" James\", \" went\", \" to\", \" the\", \" park\", \",\", \" Tom\", \" gave\", \" the\", \" ball\", \" to\"], \"values\": [0.0, 0.0, 0.0, 0.0, 0.0, 0.0, 0.3266294598579407, 0.0, 0.0, 0.0, 0.0, 0.0, 0.0, 0.039577603340148926, 0.0]}\n",
       "    )\n",
       "    </script>"
      ],
      "text/plain": [
       "<circuitsvis.utils.render.RenderedHTML at 0x7d5ff8469d10>"
      ]
     },
     "metadata": {},
     "output_type": "display_data"
    },
    {
     "data": {
      "text/html": [
       "<div id=\"circuits-vis-e2aa4509-38b3\" style=\"margin: 15px 0;\"/>\n",
       "    <script crossorigin type=\"module\">\n",
       "    import { render, ColoredTokens } from \"https://unpkg.com/circuitsvis@1.43.2/dist/cdn/esm.js\";\n",
       "    render(\n",
       "      \"circuits-vis-e2aa4509-38b3\",\n",
       "      ColoredTokens,\n",
       "      {\"tokens\": [\"<|endoftext|>\", \"When\", \" Dan\", \" and\", \" Sid\", \" went\", \" to\", \" the\", \" shops\", \",\", \" Sid\", \" gave\", \" an\", \" apple\", \" to\"], \"values\": [0.0, 0.0, 0.0, 0.0, 0.0, 0.0, 0.11544972658157349, 0.0, 0.0, 0.0, 0.0, 0.0, 0.0, 0.0, 0.0]}\n",
       "    )\n",
       "    </script>"
      ],
      "text/plain": [
       "<circuitsvis.utils.render.RenderedHTML at 0x7d5ff836ced0>"
      ]
     },
     "metadata": {},
     "output_type": "display_data"
    },
    {
     "data": {
      "text/html": [
       "<div id=\"circuits-vis-ae82a8ba-9dbf\" style=\"margin: 15px 0;\"/>\n",
       "    <script crossorigin type=\"module\">\n",
       "    import { render, ColoredTokens } from \"https://unpkg.com/circuitsvis@1.43.2/dist/cdn/esm.js\";\n",
       "    render(\n",
       "      \"circuits-vis-ae82a8ba-9dbf\",\n",
       "      ColoredTokens,\n",
       "      {\"tokens\": [\"<|endoftext|>\", \"When\", \" Dan\", \" and\", \" Sid\", \" went\", \" to\", \" the\", \" shops\", \",\", \" Dan\", \" gave\", \" an\", \" apple\", \" to\"], \"values\": [0.0, 0.0, 0.0, 0.0, 0.0, 0.0, 0.11544972658157349, 0.0, 0.0, 0.0, 0.0, 0.0, 0.0, 0.0, 0.3779461979866028]}\n",
       "    )\n",
       "    </script>"
      ],
      "text/plain": [
       "<circuitsvis.utils.render.RenderedHTML at 0x7d5ff947c850>"
      ]
     },
     "metadata": {},
     "output_type": "display_data"
    },
    {
     "data": {
      "text/html": [
       "<div id=\"circuits-vis-63de1620-dd7c\" style=\"margin: 15px 0;\"/>\n",
       "    <script crossorigin type=\"module\">\n",
       "    import { render, ColoredTokens } from \"https://unpkg.com/circuitsvis@1.43.2/dist/cdn/esm.js\";\n",
       "    render(\n",
       "      \"circuits-vis-63de1620-dd7c\",\n",
       "      ColoredTokens,\n",
       "      {\"tokens\": [\"<|endoftext|>\", \"After\", \" Martin\", \" and\", \" Amy\", \" went\", \" to\", \" the\", \" park\", \",\", \" Amy\", \" gave\", \" a\", \" drink\", \" to\"], \"values\": [0.0, 0.0, 0.0, 0.0, 0.0, 0.0, 0.677650511264801, 0.0, 0.7510493397712708, 0.0, 0.0, 0.0, 0.0, 1.3059020042419434, 0.0]}\n",
       "    )\n",
       "    </script>"
      ],
      "text/plain": [
       "<circuitsvis.utils.render.RenderedHTML at 0x7d5ff84c33d0>"
      ]
     },
     "metadata": {},
     "output_type": "display_data"
    },
    {
     "data": {
      "text/html": [
       "<div id=\"circuits-vis-6a1418ac-8fe5\" style=\"margin: 15px 0;\"/>\n",
       "    <script crossorigin type=\"module\">\n",
       "    import { render, ColoredTokens } from \"https://unpkg.com/circuitsvis@1.43.2/dist/cdn/esm.js\";\n",
       "    render(\n",
       "      \"circuits-vis-6a1418ac-8fe5\",\n",
       "      ColoredTokens,\n",
       "      {\"tokens\": [\"<|endoftext|>\", \"After\", \" Martin\", \" and\", \" Amy\", \" went\", \" to\", \" the\", \" park\", \",\", \" Martin\", \" gave\", \" a\", \" drink\", \" to\"], \"values\": [0.0, 0.0, 0.0, 0.0, 0.0, 0.0, 0.677650511264801, 0.0, 0.7510493397712708, 0.0, 0.0, 0.0, 0.0, 1.3372642993927002, 0.111091747879982]}\n",
       "    )\n",
       "    </script>"
      ],
      "text/plain": [
       "<circuitsvis.utils.render.RenderedHTML at 0x7d5ff93e25d0>"
      ]
     },
     "metadata": {},
     "output_type": "display_data"
    },
    {
     "name": "stdout",
     "output_type": "stream",
     "text": [
      "Feature 17638\n"
     ]
    },
    {
     "data": {
      "text/html": [
       "<div id=\"circuits-vis-904fbc56-a3bf\" style=\"margin: 15px 0;\"/>\n",
       "    <script crossorigin type=\"module\">\n",
       "    import { render, ColoredTokens } from \"https://unpkg.com/circuitsvis@1.43.2/dist/cdn/esm.js\";\n",
       "    render(\n",
       "      \"circuits-vis-904fbc56-a3bf\",\n",
       "      ColoredTokens,\n",
       "      {\"tokens\": [\"<|endoftext|>\", \"When\", \" John\", \" and\", \" Mary\", \" went\", \" to\", \" the\", \" shops\", \",\", \" Mary\", \" gave\", \" the\", \" bag\", \" to\"], \"values\": [0.0, 0.0, 0.0, 0.0, 0.0, 0.0, 0.0, 0.0, 0.0, 0.0, 0.0, 0.0, 0.0, 0.0, 1.3435112237930298]}\n",
       "    )\n",
       "    </script>"
      ],
      "text/plain": [
       "<circuitsvis.utils.render.RenderedHTML at 0x7d5ff9304c90>"
      ]
     },
     "metadata": {},
     "output_type": "display_data"
    },
    {
     "data": {
      "text/html": [
       "<div id=\"circuits-vis-bc7ac3d8-af2a\" style=\"margin: 15px 0;\"/>\n",
       "    <script crossorigin type=\"module\">\n",
       "    import { render, ColoredTokens } from \"https://unpkg.com/circuitsvis@1.43.2/dist/cdn/esm.js\";\n",
       "    render(\n",
       "      \"circuits-vis-bc7ac3d8-af2a\",\n",
       "      ColoredTokens,\n",
       "      {\"tokens\": [\"<|endoftext|>\", \"When\", \" John\", \" and\", \" Mary\", \" went\", \" to\", \" the\", \" shops\", \",\", \" John\", \" gave\", \" the\", \" bag\", \" to\"], \"values\": [0.0, 0.0, 0.0, 0.0, 0.0, 0.0, 0.0, 0.0, 0.0, 0.0, 0.0, 0.0, 0.0, 0.0, 0.0]}\n",
       "    )\n",
       "    </script>"
      ],
      "text/plain": [
       "<circuitsvis.utils.render.RenderedHTML at 0x7d5ff9304c90>"
      ]
     },
     "metadata": {},
     "output_type": "display_data"
    },
    {
     "data": {
      "text/html": [
       "<div id=\"circuits-vis-2df67564-159d\" style=\"margin: 15px 0;\"/>\n",
       "    <script crossorigin type=\"module\">\n",
       "    import { render, ColoredTokens } from \"https://unpkg.com/circuitsvis@1.43.2/dist/cdn/esm.js\";\n",
       "    render(\n",
       "      \"circuits-vis-2df67564-159d\",\n",
       "      ColoredTokens,\n",
       "      {\"tokens\": [\"<|endoftext|>\", \"When\", \" Tom\", \" and\", \" James\", \" went\", \" to\", \" the\", \" park\", \",\", \" James\", \" gave\", \" the\", \" ball\", \" to\"], \"values\": [0.0, 0.0, 0.0, 0.0, 0.0, 0.0, 0.0, 0.0, 0.0, 0.0, 0.0, 0.0, 0.0, 0.0, 0.0]}\n",
       "    )\n",
       "    </script>"
      ],
      "text/plain": [
       "<circuitsvis.utils.render.RenderedHTML at 0x7d5ff856d990>"
      ]
     },
     "metadata": {},
     "output_type": "display_data"
    },
    {
     "data": {
      "text/html": [
       "<div id=\"circuits-vis-9d586c50-c8ed\" style=\"margin: 15px 0;\"/>\n",
       "    <script crossorigin type=\"module\">\n",
       "    import { render, ColoredTokens } from \"https://unpkg.com/circuitsvis@1.43.2/dist/cdn/esm.js\";\n",
       "    render(\n",
       "      \"circuits-vis-9d586c50-c8ed\",\n",
       "      ColoredTokens,\n",
       "      {\"tokens\": [\"<|endoftext|>\", \"When\", \" Tom\", \" and\", \" James\", \" went\", \" to\", \" the\", \" park\", \",\", \" Tom\", \" gave\", \" the\", \" ball\", \" to\"], \"values\": [0.0, 0.0, 0.0, 0.0, 0.0, 0.0, 0.0, 0.0, 0.0, 0.0, 0.0, 0.0, 0.0, 0.0, 0.1338888555765152]}\n",
       "    )\n",
       "    </script>"
      ],
      "text/plain": [
       "<circuitsvis.utils.render.RenderedHTML at 0x7d5ff92e0610>"
      ]
     },
     "metadata": {},
     "output_type": "display_data"
    },
    {
     "data": {
      "text/html": [
       "<div id=\"circuits-vis-5a19cf0d-240e\" style=\"margin: 15px 0;\"/>\n",
       "    <script crossorigin type=\"module\">\n",
       "    import { render, ColoredTokens } from \"https://unpkg.com/circuitsvis@1.43.2/dist/cdn/esm.js\";\n",
       "    render(\n",
       "      \"circuits-vis-5a19cf0d-240e\",\n",
       "      ColoredTokens,\n",
       "      {\"tokens\": [\"<|endoftext|>\", \"When\", \" Dan\", \" and\", \" Sid\", \" went\", \" to\", \" the\", \" shops\", \",\", \" Sid\", \" gave\", \" an\", \" apple\", \" to\"], \"values\": [0.0, 0.0, 0.0, 0.0, 0.0, 0.0, 0.0, 0.0, 0.0, 0.0, 0.0, 0.0, 0.0, 0.0, 1.0844346284866333]}\n",
       "    )\n",
       "    </script>"
      ],
      "text/plain": [
       "<circuitsvis.utils.render.RenderedHTML at 0x7d5ff846ea50>"
      ]
     },
     "metadata": {},
     "output_type": "display_data"
    },
    {
     "data": {
      "text/html": [
       "<div id=\"circuits-vis-a8943f50-9044\" style=\"margin: 15px 0;\"/>\n",
       "    <script crossorigin type=\"module\">\n",
       "    import { render, ColoredTokens } from \"https://unpkg.com/circuitsvis@1.43.2/dist/cdn/esm.js\";\n",
       "    render(\n",
       "      \"circuits-vis-a8943f50-9044\",\n",
       "      ColoredTokens,\n",
       "      {\"tokens\": [\"<|endoftext|>\", \"When\", \" Dan\", \" and\", \" Sid\", \" went\", \" to\", \" the\", \" shops\", \",\", \" Dan\", \" gave\", \" an\", \" apple\", \" to\"], \"values\": [0.0, 0.0, 0.0, 0.0, 0.0, 0.0, 0.0, 0.0, 0.0, 0.0, 0.0, 0.0, 0.0, 0.0, 0.0]}\n",
       "    )\n",
       "    </script>"
      ],
      "text/plain": [
       "<circuitsvis.utils.render.RenderedHTML at 0x7d5ff846ea50>"
      ]
     },
     "metadata": {},
     "output_type": "display_data"
    },
    {
     "data": {
      "text/html": [
       "<div id=\"circuits-vis-ada58481-29ee\" style=\"margin: 15px 0;\"/>\n",
       "    <script crossorigin type=\"module\">\n",
       "    import { render, ColoredTokens } from \"https://unpkg.com/circuitsvis@1.43.2/dist/cdn/esm.js\";\n",
       "    render(\n",
       "      \"circuits-vis-ada58481-29ee\",\n",
       "      ColoredTokens,\n",
       "      {\"tokens\": [\"<|endoftext|>\", \"After\", \" Martin\", \" and\", \" Amy\", \" went\", \" to\", \" the\", \" park\", \",\", \" Amy\", \" gave\", \" a\", \" drink\", \" to\"], \"values\": [0.0, 0.0, 0.0, 0.0, 0.0, 0.0, 0.0, 0.0, 0.0, 0.053703028708696365, 0.0, 0.0, 0.0, 0.0, 0.4113959074020386]}\n",
       "    )\n",
       "    </script>"
      ],
      "text/plain": [
       "<circuitsvis.utils.render.RenderedHTML at 0x7d5ff8317090>"
      ]
     },
     "metadata": {},
     "output_type": "display_data"
    },
    {
     "data": {
      "text/html": [
       "<div id=\"circuits-vis-afdc756f-15aa\" style=\"margin: 15px 0;\"/>\n",
       "    <script crossorigin type=\"module\">\n",
       "    import { render, ColoredTokens } from \"https://unpkg.com/circuitsvis@1.43.2/dist/cdn/esm.js\";\n",
       "    render(\n",
       "      \"circuits-vis-afdc756f-15aa\",\n",
       "      ColoredTokens,\n",
       "      {\"tokens\": [\"<|endoftext|>\", \"After\", \" Martin\", \" and\", \" Amy\", \" went\", \" to\", \" the\", \" park\", \",\", \" Martin\", \" gave\", \" a\", \" drink\", \" to\"], \"values\": [0.0, 0.0, 0.0, 0.0, 0.0, 0.0, 0.0, 0.0, 0.0, 0.053703028708696365, 0.0, 0.0, 0.0, 0.0, 0.0]}\n",
       "    )\n",
       "    </script>"
      ],
      "text/plain": [
       "<circuitsvis.utils.render.RenderedHTML at 0x7d5ff82f68d0>"
      ]
     },
     "metadata": {},
     "output_type": "display_data"
    },
    {
     "name": "stdout",
     "output_type": "stream",
     "text": [
      "Feature 22749\n"
     ]
    },
    {
     "data": {
      "text/html": [
       "<div id=\"circuits-vis-bf063f7e-bf10\" style=\"margin: 15px 0;\"/>\n",
       "    <script crossorigin type=\"module\">\n",
       "    import { render, ColoredTokens } from \"https://unpkg.com/circuitsvis@1.43.2/dist/cdn/esm.js\";\n",
       "    render(\n",
       "      \"circuits-vis-bf063f7e-bf10\",\n",
       "      ColoredTokens,\n",
       "      {\"tokens\": [\"<|endoftext|>\", \"When\", \" John\", \" and\", \" Mary\", \" went\", \" to\", \" the\", \" shops\", \",\", \" Mary\", \" gave\", \" the\", \" bag\", \" to\"], \"values\": [0.0, 0.0, 0.0, 0.0, 0.0, 0.0, 0.0, 0.0, 0.0, 0.0, 0.0, 0.0, 0.0, 0.0, 0.0]}\n",
       "    )\n",
       "    </script>"
      ],
      "text/plain": [
       "<circuitsvis.utils.render.RenderedHTML at 0x7d5ff86a1250>"
      ]
     },
     "metadata": {},
     "output_type": "display_data"
    },
    {
     "data": {
      "text/html": [
       "<div id=\"circuits-vis-f85f0e59-83a7\" style=\"margin: 15px 0;\"/>\n",
       "    <script crossorigin type=\"module\">\n",
       "    import { render, ColoredTokens } from \"https://unpkg.com/circuitsvis@1.43.2/dist/cdn/esm.js\";\n",
       "    render(\n",
       "      \"circuits-vis-f85f0e59-83a7\",\n",
       "      ColoredTokens,\n",
       "      {\"tokens\": [\"<|endoftext|>\", \"When\", \" John\", \" and\", \" Mary\", \" went\", \" to\", \" the\", \" shops\", \",\", \" John\", \" gave\", \" the\", \" bag\", \" to\"], \"values\": [0.0, 0.0, 0.0, 0.0, 0.0, 0.0, 0.0, 0.0, 0.0, 0.0, 0.0, 0.8550316691398621, 0.0, 0.26116156578063965, 0.0]}\n",
       "    )\n",
       "    </script>"
      ],
      "text/plain": [
       "<circuitsvis.utils.render.RenderedHTML at 0x7d5ff94933d0>"
      ]
     },
     "metadata": {},
     "output_type": "display_data"
    },
    {
     "data": {
      "text/html": [
       "<div id=\"circuits-vis-ce2a9506-cb3b\" style=\"margin: 15px 0;\"/>\n",
       "    <script crossorigin type=\"module\">\n",
       "    import { render, ColoredTokens } from \"https://unpkg.com/circuitsvis@1.43.2/dist/cdn/esm.js\";\n",
       "    render(\n",
       "      \"circuits-vis-ce2a9506-cb3b\",\n",
       "      ColoredTokens,\n",
       "      {\"tokens\": [\"<|endoftext|>\", \"When\", \" Tom\", \" and\", \" James\", \" went\", \" to\", \" the\", \" park\", \",\", \" James\", \" gave\", \" the\", \" ball\", \" to\"], \"values\": [0.0, 0.0, 0.0, 0.0, 0.0, 0.0, 0.0, 0.0, 0.0, 0.0, 0.0, 0.0, 0.0, 0.474915087223053, 0.0]}\n",
       "    )\n",
       "    </script>"
      ],
      "text/plain": [
       "<circuitsvis.utils.render.RenderedHTML at 0x7d5ff856d990>"
      ]
     },
     "metadata": {},
     "output_type": "display_data"
    },
    {
     "data": {
      "text/html": [
       "<div id=\"circuits-vis-3d1f8377-c5fa\" style=\"margin: 15px 0;\"/>\n",
       "    <script crossorigin type=\"module\">\n",
       "    import { render, ColoredTokens } from \"https://unpkg.com/circuitsvis@1.43.2/dist/cdn/esm.js\";\n",
       "    render(\n",
       "      \"circuits-vis-3d1f8377-c5fa\",\n",
       "      ColoredTokens,\n",
       "      {\"tokens\": [\"<|endoftext|>\", \"When\", \" Tom\", \" and\", \" James\", \" went\", \" to\", \" the\", \" park\", \",\", \" Tom\", \" gave\", \" the\", \" ball\", \" to\"], \"values\": [0.0, 0.0, 0.0, 0.0, 0.0, 0.0, 0.0, 0.0, 0.0, 0.0, 0.0, 0.41656917333602905, 0.0, 0.5405850410461426, 0.0]}\n",
       "    )\n",
       "    </script>"
      ],
      "text/plain": [
       "<circuitsvis.utils.render.RenderedHTML at 0x7d5ff8476cd0>"
      ]
     },
     "metadata": {},
     "output_type": "display_data"
    },
    {
     "data": {
      "text/html": [
       "<div id=\"circuits-vis-41168a42-0143\" style=\"margin: 15px 0;\"/>\n",
       "    <script crossorigin type=\"module\">\n",
       "    import { render, ColoredTokens } from \"https://unpkg.com/circuitsvis@1.43.2/dist/cdn/esm.js\";\n",
       "    render(\n",
       "      \"circuits-vis-41168a42-0143\",\n",
       "      ColoredTokens,\n",
       "      {\"tokens\": [\"<|endoftext|>\", \"When\", \" Dan\", \" and\", \" Sid\", \" went\", \" to\", \" the\", \" shops\", \",\", \" Sid\", \" gave\", \" an\", \" apple\", \" to\"], \"values\": [0.0, 0.0, 0.0, 0.0, 0.0, 0.0, 0.0, 0.0, 0.0, 0.0, 0.0, 0.0, 2.0661942958831787, 0.9455835223197937, 0.0]}\n",
       "    )\n",
       "    </script>"
      ],
      "text/plain": [
       "<circuitsvis.utils.render.RenderedHTML at 0x7d5ff86a1250>"
      ]
     },
     "metadata": {},
     "output_type": "display_data"
    },
    {
     "data": {
      "text/html": [
       "<div id=\"circuits-vis-28bc714f-0db7\" style=\"margin: 15px 0;\"/>\n",
       "    <script crossorigin type=\"module\">\n",
       "    import { render, ColoredTokens } from \"https://unpkg.com/circuitsvis@1.43.2/dist/cdn/esm.js\";\n",
       "    render(\n",
       "      \"circuits-vis-28bc714f-0db7\",\n",
       "      ColoredTokens,\n",
       "      {\"tokens\": [\"<|endoftext|>\", \"When\", \" Dan\", \" and\", \" Sid\", \" went\", \" to\", \" the\", \" shops\", \",\", \" Dan\", \" gave\", \" an\", \" apple\", \" to\"], \"values\": [0.0, 0.0, 0.0, 0.0, 0.0, 0.0, 0.0, 0.0, 0.0, 0.0, 0.0, 1.237926721572876, 2.3365883827209473, 1.0868396759033203, 0.0]}\n",
       "    )\n",
       "    </script>"
      ],
      "text/plain": [
       "<circuitsvis.utils.render.RenderedHTML at 0x7d5ff8369450>"
      ]
     },
     "metadata": {},
     "output_type": "display_data"
    },
    {
     "data": {
      "text/html": [
       "<div id=\"circuits-vis-67e66314-bb2d\" style=\"margin: 15px 0;\"/>\n",
       "    <script crossorigin type=\"module\">\n",
       "    import { render, ColoredTokens } from \"https://unpkg.com/circuitsvis@1.43.2/dist/cdn/esm.js\";\n",
       "    render(\n",
       "      \"circuits-vis-67e66314-bb2d\",\n",
       "      ColoredTokens,\n",
       "      {\"tokens\": [\"<|endoftext|>\", \"After\", \" Martin\", \" and\", \" Amy\", \" went\", \" to\", \" the\", \" park\", \",\", \" Amy\", \" gave\", \" a\", \" drink\", \" to\"], \"values\": [0.0, 0.0, 0.0, 0.5884889960289001, 0.0, 0.0, 0.0, 0.0, 0.0, 0.0, 0.0, 0.0, 0.4980652928352356, 0.6166382431983948, 0.0]}\n",
       "    )\n",
       "    </script>"
      ],
      "text/plain": [
       "<circuitsvis.utils.render.RenderedHTML at 0x7d5ff8363810>"
      ]
     },
     "metadata": {},
     "output_type": "display_data"
    },
    {
     "data": {
      "text/html": [
       "<div id=\"circuits-vis-26669bbf-2f8e\" style=\"margin: 15px 0;\"/>\n",
       "    <script crossorigin type=\"module\">\n",
       "    import { render, ColoredTokens } from \"https://unpkg.com/circuitsvis@1.43.2/dist/cdn/esm.js\";\n",
       "    render(\n",
       "      \"circuits-vis-26669bbf-2f8e\",\n",
       "      ColoredTokens,\n",
       "      {\"tokens\": [\"<|endoftext|>\", \"After\", \" Martin\", \" and\", \" Amy\", \" went\", \" to\", \" the\", \" park\", \",\", \" Martin\", \" gave\", \" a\", \" drink\", \" to\"], \"values\": [0.0, 0.0, 0.0, 0.5884889960289001, 0.0, 0.0, 0.0, 0.0, 0.0, 0.0, 0.0, 1.4467486143112183, 2.2564520835876465, 2.1584925651550293, 0.0]}\n",
       "    )\n",
       "    </script>"
      ],
      "text/plain": [
       "<circuitsvis.utils.render.RenderedHTML at 0x7d5ff8363810>"
      ]
     },
     "metadata": {},
     "output_type": "display_data"
    },
    {
     "name": "stdout",
     "output_type": "stream",
     "text": [
      "Feature 23655\n"
     ]
    },
    {
     "data": {
      "text/html": [
       "<div id=\"circuits-vis-7ee72199-468e\" style=\"margin: 15px 0;\"/>\n",
       "    <script crossorigin type=\"module\">\n",
       "    import { render, ColoredTokens } from \"https://unpkg.com/circuitsvis@1.43.2/dist/cdn/esm.js\";\n",
       "    render(\n",
       "      \"circuits-vis-7ee72199-468e\",\n",
       "      ColoredTokens,\n",
       "      {\"tokens\": [\"<|endoftext|>\", \"When\", \" John\", \" and\", \" Mary\", \" went\", \" to\", \" the\", \" shops\", \",\", \" Mary\", \" gave\", \" the\", \" bag\", \" to\"], \"values\": [0.0, 0.0, 0.0, 0.0, 0.0, 0.0, 0.0, 0.0, 0.0, 0.0, 0.0, 0.7818593382835388, 0.0, 0.0, 2.388219118118286]}\n",
       "    )\n",
       "    </script>"
      ],
      "text/plain": [
       "<circuitsvis.utils.render.RenderedHTML at 0x7d5ff84ecc90>"
      ]
     },
     "metadata": {},
     "output_type": "display_data"
    },
    {
     "data": {
      "text/html": [
       "<div id=\"circuits-vis-701f7dd5-6360\" style=\"margin: 15px 0;\"/>\n",
       "    <script crossorigin type=\"module\">\n",
       "    import { render, ColoredTokens } from \"https://unpkg.com/circuitsvis@1.43.2/dist/cdn/esm.js\";\n",
       "    render(\n",
       "      \"circuits-vis-701f7dd5-6360\",\n",
       "      ColoredTokens,\n",
       "      {\"tokens\": [\"<|endoftext|>\", \"When\", \" John\", \" and\", \" Mary\", \" went\", \" to\", \" the\", \" shops\", \",\", \" John\", \" gave\", \" the\", \" bag\", \" to\"], \"values\": [0.0, 0.0, 0.0, 0.0, 0.0, 0.0, 0.0, 0.0, 0.0, 0.0, 0.0, 0.004252288490533829, 0.0, 0.0, 1.4997848272323608]}\n",
       "    )\n",
       "    </script>"
      ],
      "text/plain": [
       "<circuitsvis.utils.render.RenderedHTML at 0x7d5ff9535f50>"
      ]
     },
     "metadata": {},
     "output_type": "display_data"
    },
    {
     "data": {
      "text/html": [
       "<div id=\"circuits-vis-7a5069c1-6c0d\" style=\"margin: 15px 0;\"/>\n",
       "    <script crossorigin type=\"module\">\n",
       "    import { render, ColoredTokens } from \"https://unpkg.com/circuitsvis@1.43.2/dist/cdn/esm.js\";\n",
       "    render(\n",
       "      \"circuits-vis-7a5069c1-6c0d\",\n",
       "      ColoredTokens,\n",
       "      {\"tokens\": [\"<|endoftext|>\", \"When\", \" Tom\", \" and\", \" James\", \" went\", \" to\", \" the\", \" park\", \",\", \" James\", \" gave\", \" the\", \" ball\", \" to\"], \"values\": [0.0, 0.0, 0.0, 0.0, 0.0, 0.0, 0.0, 0.0, 0.0, 0.0, 0.0, 0.0, 0.0, 0.0, 0.0]}\n",
       "    )\n",
       "    </script>"
      ],
      "text/plain": [
       "<circuitsvis.utils.render.RenderedHTML at 0x7d5ff957d050>"
      ]
     },
     "metadata": {},
     "output_type": "display_data"
    },
    {
     "data": {
      "text/html": [
       "<div id=\"circuits-vis-aa244ec3-3a7c\" style=\"margin: 15px 0;\"/>\n",
       "    <script crossorigin type=\"module\">\n",
       "    import { render, ColoredTokens } from \"https://unpkg.com/circuitsvis@1.43.2/dist/cdn/esm.js\";\n",
       "    render(\n",
       "      \"circuits-vis-aa244ec3-3a7c\",\n",
       "      ColoredTokens,\n",
       "      {\"tokens\": [\"<|endoftext|>\", \"When\", \" Tom\", \" and\", \" James\", \" went\", \" to\", \" the\", \" park\", \",\", \" Tom\", \" gave\", \" the\", \" ball\", \" to\"], \"values\": [0.0, 0.0, 0.0, 0.0, 0.0, 0.0, 0.0, 0.0, 0.0, 0.0, 0.0, 0.0, 0.0, 0.0, 0.0]}\n",
       "    )\n",
       "    </script>"
      ],
      "text/plain": [
       "<circuitsvis.utils.render.RenderedHTML at 0x7d5ff8469d10>"
      ]
     },
     "metadata": {},
     "output_type": "display_data"
    },
    {
     "data": {
      "text/html": [
       "<div id=\"circuits-vis-5d524052-ebe7\" style=\"margin: 15px 0;\"/>\n",
       "    <script crossorigin type=\"module\">\n",
       "    import { render, ColoredTokens } from \"https://unpkg.com/circuitsvis@1.43.2/dist/cdn/esm.js\";\n",
       "    render(\n",
       "      \"circuits-vis-5d524052-ebe7\",\n",
       "      ColoredTokens,\n",
       "      {\"tokens\": [\"<|endoftext|>\", \"When\", \" Dan\", \" and\", \" Sid\", \" went\", \" to\", \" the\", \" shops\", \",\", \" Sid\", \" gave\", \" an\", \" apple\", \" to\"], \"values\": [0.0, 0.0, 0.0, 0.0, 0.0, 0.0, 0.0, 0.0, 0.0, 0.0, 0.0, 0.1725746989250183, 0.0, 0.0, 0.7556495070457458]}\n",
       "    )\n",
       "    </script>"
      ],
      "text/plain": [
       "<circuitsvis.utils.render.RenderedHTML at 0x7d5ff8369450>"
      ]
     },
     "metadata": {},
     "output_type": "display_data"
    },
    {
     "data": {
      "text/html": [
       "<div id=\"circuits-vis-a7a2c2bd-3d3b\" style=\"margin: 15px 0;\"/>\n",
       "    <script crossorigin type=\"module\">\n",
       "    import { render, ColoredTokens } from \"https://unpkg.com/circuitsvis@1.43.2/dist/cdn/esm.js\";\n",
       "    render(\n",
       "      \"circuits-vis-a7a2c2bd-3d3b\",\n",
       "      ColoredTokens,\n",
       "      {\"tokens\": [\"<|endoftext|>\", \"When\", \" Dan\", \" and\", \" Sid\", \" went\", \" to\", \" the\", \" shops\", \",\", \" Dan\", \" gave\", \" an\", \" apple\", \" to\"], \"values\": [0.0, 0.0, 0.0, 0.0, 0.0, 0.0, 0.0, 0.0, 0.0, 0.0, 0.0, 0.0, 0.0, 0.0, 0.12402239441871643]}\n",
       "    )\n",
       "    </script>"
      ],
      "text/plain": [
       "<circuitsvis.utils.render.RenderedHTML at 0x7d5ff8317090>"
      ]
     },
     "metadata": {},
     "output_type": "display_data"
    },
    {
     "data": {
      "text/html": [
       "<div id=\"circuits-vis-e51a2612-adeb\" style=\"margin: 15px 0;\"/>\n",
       "    <script crossorigin type=\"module\">\n",
       "    import { render, ColoredTokens } from \"https://unpkg.com/circuitsvis@1.43.2/dist/cdn/esm.js\";\n",
       "    render(\n",
       "      \"circuits-vis-e51a2612-adeb\",\n",
       "      ColoredTokens,\n",
       "      {\"tokens\": [\"<|endoftext|>\", \"After\", \" Martin\", \" and\", \" Amy\", \" went\", \" to\", \" the\", \" park\", \",\", \" Amy\", \" gave\", \" a\", \" drink\", \" to\"], \"values\": [0.0, 0.0, 0.0, 0.0, 0.0, 0.0, 0.0, 0.0, 0.0, 0.0, 0.0, 2.7735886573791504, 0.0, 3.756681442260742, 3.5488157272338867]}\n",
       "    )\n",
       "    </script>"
      ],
      "text/plain": [
       "<circuitsvis.utils.render.RenderedHTML at 0x7d5ff85981d0>"
      ]
     },
     "metadata": {},
     "output_type": "display_data"
    },
    {
     "data": {
      "text/html": [
       "<div id=\"circuits-vis-993df9d1-46f2\" style=\"margin: 15px 0;\"/>\n",
       "    <script crossorigin type=\"module\">\n",
       "    import { render, ColoredTokens } from \"https://unpkg.com/circuitsvis@1.43.2/dist/cdn/esm.js\";\n",
       "    render(\n",
       "      \"circuits-vis-993df9d1-46f2\",\n",
       "      ColoredTokens,\n",
       "      {\"tokens\": [\"<|endoftext|>\", \"After\", \" Martin\", \" and\", \" Amy\", \" went\", \" to\", \" the\", \" park\", \",\", \" Martin\", \" gave\", \" a\", \" drink\", \" to\"], \"values\": [0.0, 0.0, 0.0, 0.0, 0.0, 0.0, 0.0, 0.0, 0.0, 0.0, 0.0, 0.0, 0.0, 2.7498674392700195, 1.987866997718811]}\n",
       "    )\n",
       "    </script>"
      ],
      "text/plain": [
       "<circuitsvis.utils.render.RenderedHTML at 0x7d5ff86c6d90>"
      ]
     },
     "metadata": {},
     "output_type": "display_data"
    },
    {
     "name": "stdout",
     "output_type": "stream",
     "text": [
      "Feature 6900\n"
     ]
    },
    {
     "data": {
      "text/html": [
       "<div id=\"circuits-vis-7f4a6a1f-c98c\" style=\"margin: 15px 0;\"/>\n",
       "    <script crossorigin type=\"module\">\n",
       "    import { render, ColoredTokens } from \"https://unpkg.com/circuitsvis@1.43.2/dist/cdn/esm.js\";\n",
       "    render(\n",
       "      \"circuits-vis-7f4a6a1f-c98c\",\n",
       "      ColoredTokens,\n",
       "      {\"tokens\": [\"<|endoftext|>\", \"When\", \" John\", \" and\", \" Mary\", \" went\", \" to\", \" the\", \" shops\", \",\", \" Mary\", \" gave\", \" the\", \" bag\", \" to\"], \"values\": [0.0, 0.0, 0.0, 0.0, 0.0, 0.0, 0.0, 0.0, 0.0, 0.0, 0.0, 0.0, 0.0, 0.0, 0.0]}\n",
       "    )\n",
       "    </script>"
      ],
      "text/plain": [
       "<circuitsvis.utils.render.RenderedHTML at 0x7d5ff8317090>"
      ]
     },
     "metadata": {},
     "output_type": "display_data"
    },
    {
     "data": {
      "text/html": [
       "<div id=\"circuits-vis-fb552a31-414c\" style=\"margin: 15px 0;\"/>\n",
       "    <script crossorigin type=\"module\">\n",
       "    import { render, ColoredTokens } from \"https://unpkg.com/circuitsvis@1.43.2/dist/cdn/esm.js\";\n",
       "    render(\n",
       "      \"circuits-vis-fb552a31-414c\",\n",
       "      ColoredTokens,\n",
       "      {\"tokens\": [\"<|endoftext|>\", \"When\", \" John\", \" and\", \" Mary\", \" went\", \" to\", \" the\", \" shops\", \",\", \" John\", \" gave\", \" the\", \" bag\", \" to\"], \"values\": [0.0, 0.0, 0.0, 0.0, 0.0, 0.0, 0.0, 0.0, 0.0, 0.0, 0.0, 1.8326739072799683, 0.0, 0.0, 0.0]}\n",
       "    )\n",
       "    </script>"
      ],
      "text/plain": [
       "<circuitsvis.utils.render.RenderedHTML at 0x7d5ff973df50>"
      ]
     },
     "metadata": {},
     "output_type": "display_data"
    },
    {
     "data": {
      "text/html": [
       "<div id=\"circuits-vis-c092d663-39e3\" style=\"margin: 15px 0;\"/>\n",
       "    <script crossorigin type=\"module\">\n",
       "    import { render, ColoredTokens } from \"https://unpkg.com/circuitsvis@1.43.2/dist/cdn/esm.js\";\n",
       "    render(\n",
       "      \"circuits-vis-c092d663-39e3\",\n",
       "      ColoredTokens,\n",
       "      {\"tokens\": [\"<|endoftext|>\", \"When\", \" Tom\", \" and\", \" James\", \" went\", \" to\", \" the\", \" park\", \",\", \" James\", \" gave\", \" the\", \" ball\", \" to\"], \"values\": [0.0, 0.0, 0.0, 0.0, 0.0, 0.0, 0.0, 0.0, 0.0, 0.0, 0.0, 0.0, 0.0, 0.0, 0.0]}\n",
       "    )\n",
       "    </script>"
      ],
      "text/plain": [
       "<circuitsvis.utils.render.RenderedHTML at 0x7d5ff849b6d0>"
      ]
     },
     "metadata": {},
     "output_type": "display_data"
    },
    {
     "data": {
      "text/html": [
       "<div id=\"circuits-vis-34de9b7d-705e\" style=\"margin: 15px 0;\"/>\n",
       "    <script crossorigin type=\"module\">\n",
       "    import { render, ColoredTokens } from \"https://unpkg.com/circuitsvis@1.43.2/dist/cdn/esm.js\";\n",
       "    render(\n",
       "      \"circuits-vis-34de9b7d-705e\",\n",
       "      ColoredTokens,\n",
       "      {\"tokens\": [\"<|endoftext|>\", \"When\", \" Tom\", \" and\", \" James\", \" went\", \" to\", \" the\", \" park\", \",\", \" Tom\", \" gave\", \" the\", \" ball\", \" to\"], \"values\": [0.0, 0.0, 0.0, 0.0, 0.0, 0.0, 0.0, 0.0, 0.0, 0.0, 0.0, 0.14300501346588135, 0.0, 0.0, 0.0]}\n",
       "    )\n",
       "    </script>"
      ],
      "text/plain": [
       "<circuitsvis.utils.render.RenderedHTML at 0x7d5ff849b6d0>"
      ]
     },
     "metadata": {},
     "output_type": "display_data"
    },
    {
     "data": {
      "text/html": [
       "<div id=\"circuits-vis-2a977c90-5bfa\" style=\"margin: 15px 0;\"/>\n",
       "    <script crossorigin type=\"module\">\n",
       "    import { render, ColoredTokens } from \"https://unpkg.com/circuitsvis@1.43.2/dist/cdn/esm.js\";\n",
       "    render(\n",
       "      \"circuits-vis-2a977c90-5bfa\",\n",
       "      ColoredTokens,\n",
       "      {\"tokens\": [\"<|endoftext|>\", \"When\", \" Dan\", \" and\", \" Sid\", \" went\", \" to\", \" the\", \" shops\", \",\", \" Sid\", \" gave\", \" an\", \" apple\", \" to\"], \"values\": [0.0, 0.0, 0.0, 0.0, 0.0, 0.0, 0.0, 0.0, 0.0, 0.0, 0.0, 0.0, 0.0, 0.0, 0.0]}\n",
       "    )\n",
       "    </script>"
      ],
      "text/plain": [
       "<circuitsvis.utils.render.RenderedHTML at 0x7d5ff835b6d0>"
      ]
     },
     "metadata": {},
     "output_type": "display_data"
    },
    {
     "data": {
      "text/html": [
       "<div id=\"circuits-vis-6ae6f0f1-45b5\" style=\"margin: 15px 0;\"/>\n",
       "    <script crossorigin type=\"module\">\n",
       "    import { render, ColoredTokens } from \"https://unpkg.com/circuitsvis@1.43.2/dist/cdn/esm.js\";\n",
       "    render(\n",
       "      \"circuits-vis-6ae6f0f1-45b5\",\n",
       "      ColoredTokens,\n",
       "      {\"tokens\": [\"<|endoftext|>\", \"When\", \" Dan\", \" and\", \" Sid\", \" went\", \" to\", \" the\", \" shops\", \",\", \" Dan\", \" gave\", \" an\", \" apple\", \" to\"], \"values\": [0.0, 0.0, 0.0, 0.0, 0.0, 0.0, 0.0, 0.0, 0.0, 0.0, 0.0, 0.846866250038147, 0.0, 0.0, 0.0]}\n",
       "    )\n",
       "    </script>"
      ],
      "text/plain": [
       "<circuitsvis.utils.render.RenderedHTML at 0x7d5ff835b6d0>"
      ]
     },
     "metadata": {},
     "output_type": "display_data"
    },
    {
     "data": {
      "text/html": [
       "<div id=\"circuits-vis-9ab10af1-e7de\" style=\"margin: 15px 0;\"/>\n",
       "    <script crossorigin type=\"module\">\n",
       "    import { render, ColoredTokens } from \"https://unpkg.com/circuitsvis@1.43.2/dist/cdn/esm.js\";\n",
       "    render(\n",
       "      \"circuits-vis-9ab10af1-e7de\",\n",
       "      ColoredTokens,\n",
       "      {\"tokens\": [\"<|endoftext|>\", \"After\", \" Martin\", \" and\", \" Amy\", \" went\", \" to\", \" the\", \" park\", \",\", \" Amy\", \" gave\", \" a\", \" drink\", \" to\"], \"values\": [0.0, 0.0, 0.0, 0.0, 0.0, 0.0, 0.0, 0.0, 0.0, 0.0, 0.0, 0.0, 0.0, 0.0, 0.0]}\n",
       "    )\n",
       "    </script>"
      ],
      "text/plain": [
       "<circuitsvis.utils.render.RenderedHTML at 0x7d5ff8361050>"
      ]
     },
     "metadata": {},
     "output_type": "display_data"
    },
    {
     "data": {
      "text/html": [
       "<div id=\"circuits-vis-05737791-663a\" style=\"margin: 15px 0;\"/>\n",
       "    <script crossorigin type=\"module\">\n",
       "    import { render, ColoredTokens } from \"https://unpkg.com/circuitsvis@1.43.2/dist/cdn/esm.js\";\n",
       "    render(\n",
       "      \"circuits-vis-05737791-663a\",\n",
       "      ColoredTokens,\n",
       "      {\"tokens\": [\"<|endoftext|>\", \"After\", \" Martin\", \" and\", \" Amy\", \" went\", \" to\", \" the\", \" park\", \",\", \" Martin\", \" gave\", \" a\", \" drink\", \" to\"], \"values\": [0.0, 0.0, 0.0, 0.0, 0.0, 0.0, 0.0, 0.0, 0.0, 0.0, 0.0, 0.0, 0.05700583755970001, 0.0, 0.0]}\n",
       "    )\n",
       "    </script>"
      ],
      "text/plain": [
       "<circuitsvis.utils.render.RenderedHTML at 0x7d5ff8361050>"
      ]
     },
     "metadata": {},
     "output_type": "display_data"
    }
   ],
   "source": [
    "# Visualize token activation patterns for topk features\n",
    "for feature in sae_down_topk.features:\n",
    "    print(\"Feature {}\".format(feature))\n",
    "    for example_idx in range(ioi_data.get_batch_size()):\n",
    "        sae_target_clean_acts = clean_cache[sae_down_hook_point][example_idx, :, feature]\n",
    "        display(colored_tokens(ioi_data.clean_str_tokens[example_idx], sae_target_clean_acts))"
   ]
  }
 ],
 "metadata": {
  "kernelspec": {
   "display_name": ".venv",
   "language": "python",
   "name": "python3"
  },
  "language_info": {
   "codemirror_mode": {
    "name": "ipython",
    "version": 3
   },
   "file_extension": ".py",
   "mimetype": "text/x-python",
   "name": "python",
   "nbconvert_exporter": "python",
   "pygments_lexer": "ipython3",
   "version": "3.11.9"
  }
 },
 "nbformat": 4,
 "nbformat_minor": 2
}
